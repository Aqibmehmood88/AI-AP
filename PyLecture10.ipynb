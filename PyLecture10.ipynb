{
 "cells": [
  {
   "cell_type": "markdown",
   "metadata": {},
   "source": [
    "## Python Compound Statements"
   ]
  },
  {
   "cell_type": "markdown",
   "metadata": {},
   "source": [
    "Compound statements contain (groups of) other statements; they affect or control the execution of those other statements in some way. "
   ]
  },
  {
   "cell_type": "markdown",
   "metadata": {},
   "source": [
    "- The <code>if</code> statement \n",
    "    - pass\n",
    "    - elif\n",
    "    - else \n",
    "- The <code>while</code> statement\n",
    "    - pass\n",
    "    - break\n",
    "    - continue\n",
    "    - else\n",
    "- The <code>for</code> statement\n",
    "    - pass\n",
    "    - in\n",
    "    - range()\n",
    "    - break\n",
    "    - continue \n",
    "    - else\n",
    "- The <code>try</code> statement\n",
    "    - except \n",
    "    - as\n",
    "    - else\n",
    "    - finally \n",
    "- The <code>with</code> statement \n",
    "    - as \n",
    "- Function definitions\n",
    "- Class definitions"
   ]
  },
  {
   "cell_type": "markdown",
   "metadata": {},
   "source": [
    "## Comparisons Operators"
   ]
  },
  {
   "cell_type": "markdown",
   "metadata": {},
   "source": [
    "### Value comparisons operators "
   ]
  },
  {
   "cell_type": "markdown",
   "metadata": {},
   "source": [
    "    <, >, ==, >=, <=, !="
   ]
  },
  {
   "cell_type": "code",
   "execution_count": 1,
   "metadata": {},
   "outputs": [
    {
     "data": {
      "text/plain": [
       "False"
      ]
     },
     "execution_count": 1,
     "metadata": {},
     "output_type": "execute_result"
    }
   ],
   "source": [
    "5 == '5'"
   ]
  },
  {
   "cell_type": "code",
   "execution_count": 2,
   "metadata": {},
   "outputs": [
    {
     "data": {
      "text/plain": [
       "True"
      ]
     },
     "execution_count": 2,
     "metadata": {},
     "output_type": "execute_result"
    }
   ],
   "source": [
    "5 > 2"
   ]
  },
  {
   "cell_type": "code",
   "execution_count": 3,
   "metadata": {},
   "outputs": [
    {
     "data": {
      "text/plain": [
       "True"
      ]
     },
     "execution_count": 3,
     "metadata": {},
     "output_type": "execute_result"
    }
   ],
   "source": [
    "\"alpha\" < \"beta\""
   ]
  },
  {
   "cell_type": "code",
   "execution_count": 4,
   "metadata": {},
   "outputs": [
    {
     "data": {
      "text/plain": [
       "True"
      ]
     },
     "execution_count": 4,
     "metadata": {},
     "output_type": "execute_result"
    }
   ],
   "source": [
    "\"gamma\" > \"beta\""
   ]
  },
  {
   "cell_type": "code",
   "execution_count": 5,
   "metadata": {},
   "outputs": [
    {
     "data": {
      "text/plain": [
       "False"
      ]
     },
     "execution_count": 5,
     "metadata": {},
     "output_type": "execute_result"
    }
   ],
   "source": [
    "\"gamma\" < \"OMEGA\""
   ]
  },
  {
   "cell_type": "code",
   "execution_count": 6,
   "metadata": {},
   "outputs": [],
   "source": [
    "# In these comparisons, lowercase letters are considered 'greater than' uppercase, \n",
    "# which is why \"gamma\" < \"OMEGA\" is false. \n",
    "\n",
    "# If they were all uppercase it would return the expected alphabetical \n",
    "# ordering result:"
   ]
  },
  {
   "cell_type": "code",
   "execution_count": 7,
   "metadata": {},
   "outputs": [
    {
     "data": {
      "text/plain": [
       "True"
      ]
     },
     "execution_count": 7,
     "metadata": {},
     "output_type": "execute_result"
    }
   ],
   "source": [
    "\"GAMMA\" < \"OMEGA\""
   ]
  },
  {
   "cell_type": "code",
   "execution_count": 8,
   "metadata": {},
   "outputs": [
    {
     "data": {
      "text/plain": [
       "True"
      ]
     },
     "execution_count": 8,
     "metadata": {},
     "output_type": "execute_result"
    }
   ],
   "source": [
    "'python' > 'Python'"
   ]
  },
  {
   "cell_type": "code",
   "execution_count": 9,
   "metadata": {},
   "outputs": [
    {
     "data": {
      "text/plain": [
       "False"
      ]
     },
     "execution_count": 9,
     "metadata": {},
     "output_type": "execute_result"
    }
   ],
   "source": [
    "'Python' > 'python'"
   ]
  },
  {
   "cell_type": "code",
   "execution_count": 10,
   "metadata": {},
   "outputs": [
    {
     "data": {
      "text/plain": [
       "True"
      ]
     },
     "execution_count": 10,
     "metadata": {},
     "output_type": "execute_result"
    }
   ],
   "source": [
    "12 != '12'"
   ]
  },
  {
   "cell_type": "code",
   "execution_count": 11,
   "metadata": {},
   "outputs": [
    {
     "data": {
      "text/plain": [
       "True"
      ]
     },
     "execution_count": 11,
     "metadata": {},
     "output_type": "execute_result"
    }
   ],
   "source": [
    "'spam' == 'spam'"
   ]
  },
  {
   "cell_type": "code",
   "execution_count": 12,
   "metadata": {},
   "outputs": [
    {
     "data": {
      "text/plain": [
       "False"
      ]
     },
     "execution_count": 12,
     "metadata": {},
     "output_type": "execute_result"
    }
   ],
   "source": [
    "'spam' == 'spam '"
   ]
  },
  {
   "cell_type": "markdown",
   "metadata": {},
   "source": [
    "## Python Conditional / Branching Statements"
   ]
  },
  {
   "cell_type": "markdown",
   "metadata": {},
   "source": [
    "<b>Sequential Execution</b>, in which statements are always performed one after the next, in exactly the order specified."
   ]
  },
  {
   "cell_type": "markdown",
   "metadata": {},
   "source": [
    "But the world is often more complicated than that. Frequently, a program needs to skip over some statements, execute a series of statements repetitively, or choose between alternate sets of statements to execute. That is where <b>control structures</b> come in. A control structure directs the order of execution of the statements in a program."
   ]
  },
  {
   "cell_type": "markdown",
   "metadata": {},
   "source": [
    "### if...elif...else Conditional Execution "
   ]
  },
  {
   "cell_type": "markdown",
   "metadata": {},
   "source": [
    "The <code>if…elif…else</code> statement is used in Python for decision making."
   ]
  },
  {
   "cell_type": "markdown",
   "metadata": {},
   "source": [
    "Decision making is required when we want to execute a code only if a certain condition is satisfied."
   ]
  },
  {
   "cell_type": "markdown",
   "metadata": {},
   "source": [
    "Conditional statements, involving keywords such as <code>if</code>, <code>elif</code>, and <code>else</code>, provide Python programs with the ability to\n",
    "perform different actions depending on a boolean condition: <code>True</code> or <code>False</code>."
   ]
  },
  {
   "cell_type": "markdown",
   "metadata": {},
   "source": [
    "### Python <code>if</code> Statement"
   ]
  },
  {
   "cell_type": "markdown",
   "metadata": {},
   "source": [
    "Python <code>if</code> Statement Syntax:"
   ]
  },
  {
   "cell_type": "markdown",
   "metadata": {},
   "source": [
    "    if <test_expr>:\n",
    "        <statement>"
   ]
  },
  {
   "cell_type": "markdown",
   "metadata": {},
   "source": [
    "    <test_expr> is an expression evaluated in Boolean context.\n",
    "    <statement> is a valid Python statement, which must be indented."
   ]
  },
  {
   "cell_type": "markdown",
   "metadata": {},
   "source": [
    "If <b>test_expr</b> is <code>True</code> (evaluates to a value that is \"truthy\"), then <b>statement</b> is executed. If <b>test_expr</b> is <code>False</code>, then <b>statement</b> is skipped over and not executed."
   ]
  },
  {
   "cell_type": "markdown",
   "metadata": {},
   "source": [
    "Note that the colon <code>:</code> following <b>test_expr</b> is required. Some programming languages require <b>test_expr</b> to be enclosed in parentheses, but Python does not."
   ]
  },
  {
   "cell_type": "markdown",
   "metadata": {},
   "source": [
    "Here are several examples of this type of <code>if</code> statement:"
   ]
  },
  {
   "cell_type": "code",
   "execution_count": 13,
   "metadata": {},
   "outputs": [],
   "source": [
    "if True:\n",
    "    pass"
   ]
  },
  {
   "cell_type": "code",
   "execution_count": null,
   "metadata": {},
   "outputs": [],
   "source": []
  },
  {
   "cell_type": "code",
   "execution_count": 14,
   "metadata": {},
   "outputs": [
    {
     "name": "stdout",
     "output_type": "stream",
     "text": [
      "True Statement\n"
     ]
    }
   ],
   "source": [
    "if True:\n",
    "    print('True Statement')"
   ]
  },
  {
   "cell_type": "code",
   "execution_count": null,
   "metadata": {},
   "outputs": [],
   "source": []
  },
  {
   "cell_type": "code",
   "execution_count": 15,
   "metadata": {},
   "outputs": [],
   "source": [
    "b = True"
   ]
  },
  {
   "cell_type": "code",
   "execution_count": 16,
   "metadata": {},
   "outputs": [
    {
     "name": "stdout",
     "output_type": "stream",
     "text": [
      "True Statement\n"
     ]
    }
   ],
   "source": [
    "if b:\n",
    "    print('True Statement')"
   ]
  },
  {
   "cell_type": "code",
   "execution_count": null,
   "metadata": {},
   "outputs": [],
   "source": []
  },
  {
   "cell_type": "code",
   "execution_count": 17,
   "metadata": {},
   "outputs": [
    {
     "name": "stdout",
     "output_type": "stream",
     "text": [
      "Truthy\n"
     ]
    }
   ],
   "source": [
    "if 10 > 5:\n",
    "    print('Truthy')"
   ]
  },
  {
   "cell_type": "code",
   "execution_count": null,
   "metadata": {},
   "outputs": [],
   "source": []
  },
  {
   "cell_type": "code",
   "execution_count": 18,
   "metadata": {},
   "outputs": [
    {
     "name": "stdout",
     "output_type": "stream",
     "text": [
      "Python if Statement\n"
     ]
    }
   ],
   "source": [
    "if 'python' == 'Python'.lower():\n",
    "    print('Python if Statement')"
   ]
  },
  {
   "cell_type": "code",
   "execution_count": null,
   "metadata": {},
   "outputs": [],
   "source": []
  },
  {
   "cell_type": "code",
   "execution_count": 19,
   "metadata": {},
   "outputs": [
    {
     "name": "stdout",
     "output_type": "stream",
     "text": [
      "True Statement\n"
     ]
    }
   ],
   "source": [
    "if 1:\n",
    "    print('True Statement')"
   ]
  },
  {
   "cell_type": "code",
   "execution_count": 20,
   "metadata": {},
   "outputs": [
    {
     "name": "stdout",
     "output_type": "stream",
     "text": [
      "True Statement\n"
     ]
    }
   ],
   "source": [
    "if 5:\n",
    "    print('True Statement')"
   ]
  },
  {
   "cell_type": "code",
   "execution_count": null,
   "metadata": {},
   "outputs": [],
   "source": []
  },
  {
   "cell_type": "code",
   "execution_count": 21,
   "metadata": {},
   "outputs": [
    {
     "name": "stdout",
     "output_type": "stream",
     "text": [
      "True Statement\n"
     ]
    }
   ],
   "source": [
    "if 'py' in 'python':\n",
    "    print('True Statement')"
   ]
  },
  {
   "cell_type": "code",
   "execution_count": null,
   "metadata": {},
   "outputs": [],
   "source": []
  },
  {
   "cell_type": "code",
   "execution_count": 22,
   "metadata": {},
   "outputs": [],
   "source": [
    "# if 5 and 2:\n",
    "#     print('True Statement')"
   ]
  },
  {
   "cell_type": "code",
   "execution_count": null,
   "metadata": {},
   "outputs": [],
   "source": []
  },
  {
   "cell_type": "code",
   "execution_count": 23,
   "metadata": {},
   "outputs": [
    {
     "name": "stdout",
     "output_type": "stream",
     "text": [
      "5, is a positive number\n",
      "This statement is always printed\n",
      "This statement is also always printed\n"
     ]
    }
   ],
   "source": [
    "num = 5\n",
    "\n",
    "if num > 0:\n",
    "    print(f'{num}, is a positive number')\n",
    "print(\"This statement is always printed\")\n",
    "\n",
    "num = -1\n",
    "\n",
    "if num > 0:\n",
    "    print(f'{num}, is a positive number')\n",
    "print(\"This statement is also always printed\")"
   ]
  },
  {
   "cell_type": "code",
   "execution_count": null,
   "metadata": {},
   "outputs": [],
   "source": []
  },
  {
   "cell_type": "markdown",
   "metadata": {},
   "source": [
    "In the above example, <code>num > 0</code> is the test expression.\n",
    "\n",
    "The body of <code>if</code> is executed only if this evaluates to <code>True</code>.\n",
    "\n",
    "When variable <code>num</code> is equal to 5, test expression is true and body inside body of <code>if</code> is executed.\n",
    "\n",
    "If variable <code>num</code> is equal to -1, test expression is false and body inside body of <code>if</code> is skipped.\n",
    "\n",
    "The <code>print()</code> statement falls outside of the <code>if</code> block (unindented). Hence, it is executed regardless of the test expression."
   ]
  },
  {
   "cell_type": "code",
   "execution_count": null,
   "metadata": {},
   "outputs": [],
   "source": []
  },
  {
   "cell_type": "code",
   "execution_count": 24,
   "metadata": {},
   "outputs": [
    {
     "name": "stdin",
     "output_type": "stream",
     "text": [
      "Enter first number :  5\n",
      "Enter second number :  2\n",
      "Enter third number :  8\n"
     ]
    },
    {
     "name": "stdout",
     "output_type": "stream",
     "text": [
      "\n",
      "The Maximum number is : 8\n"
     ]
    }
   ],
   "source": [
    "n1 = int(input(\"Enter first number : \"))\n",
    "n2 = int(input(\"Enter second number : \"))\n",
    "n3 = int(input(\"Enter third number : \")) \n",
    "\n",
    "max_num = n1\n",
    "\n",
    "if n2 > max_num: \n",
    "    max_num = n2 \n",
    "if n3 > max_num: \n",
    "    max_num = n3 \n",
    "    \n",
    "print(f\"\\nThe Maximum number is : {max_num}\")"
   ]
  },
  {
   "cell_type": "markdown",
   "metadata": {},
   "source": [
    "### Python <code>if</code> Compound and Nested Statement"
   ]
  },
  {
   "cell_type": "markdown",
   "metadata": {},
   "source": [
    "    if <test_expr>:\n",
    "        <statement>\n",
    "        \n",
    "        if <test_expr>:\n",
    "            <statement>\n",
    "            <statement>\n",
    "            \n",
    "        <statement>\n",
    "        ...\n",
    "        <statement>\n",
    "        \n",
    "    <other_statement>"
   ]
  },
  {
   "cell_type": "code",
   "execution_count": null,
   "metadata": {},
   "outputs": [],
   "source": []
  },
  {
   "cell_type": "code",
   "execution_count": 25,
   "metadata": {},
   "outputs": [
    {
     "name": "stdout",
     "output_type": "stream",
     "text": [
      "Python Programming\n",
      "Outer condition is true\n",
      "Between inner conditions\n",
      "Inner condition 2\n",
      "End of outer condition\n",
      "After outer condition\n"
     ]
    }
   ],
   "source": [
    "if 'python' in 'AI, ML, DL and NLP with python programming':       \n",
    "    print('Python Programming')  \n",
    "    \n",
    "    print('Outer condition is true')\n",
    "\n",
    "    if 10 > 20:                           \n",
    "        print('Inner condition 1')      \n",
    "\n",
    "    print('Between inner conditions')   \n",
    "\n",
    "    if 10 < 20:                        \n",
    "        print('Inner condition 2')        \n",
    "\n",
    "    print('End of outer condition')     \n",
    "    \n",
    "print('After outer condition')           "
   ]
  },
  {
   "cell_type": "code",
   "execution_count": null,
   "metadata": {},
   "outputs": [],
   "source": []
  },
  {
   "cell_type": "markdown",
   "metadata": {},
   "source": [
    "### Python <code>if...else</code> Statement"
   ]
  },
  {
   "cell_type": "markdown",
   "metadata": {},
   "source": [
    "    if <test_expr>:\n",
    "        <statement>\n",
    "    else:\n",
    "        <statement>"
   ]
  },
  {
   "cell_type": "code",
   "execution_count": null,
   "metadata": {},
   "outputs": [],
   "source": []
  },
  {
   "cell_type": "code",
   "execution_count": 26,
   "metadata": {},
   "outputs": [
    {
     "name": "stdout",
     "output_type": "stream",
     "text": [
      "True Statement\n"
     ]
    }
   ],
   "source": [
    "if True:\n",
    "    print(\"True Statement\")\n",
    "else:\n",
    "    print(\"False Statement\")"
   ]
  },
  {
   "cell_type": "code",
   "execution_count": null,
   "metadata": {},
   "outputs": [],
   "source": []
  },
  {
   "cell_type": "code",
   "execution_count": 27,
   "metadata": {},
   "outputs": [
    {
     "name": "stdout",
     "output_type": "stream",
     "text": [
      "True Statement\n"
     ]
    }
   ],
   "source": [
    "if False:\n",
    "    print(\"False Statement\")\n",
    "else:\n",
    "    print(\"True Statement\")"
   ]
  },
  {
   "cell_type": "code",
   "execution_count": null,
   "metadata": {},
   "outputs": [],
   "source": []
  },
  {
   "cell_type": "code",
   "execution_count": 28,
   "metadata": {},
   "outputs": [
    {
     "name": "stdout",
     "output_type": "stream",
     "text": [
      "True Statement\n"
     ]
    }
   ],
   "source": [
    "if None:\n",
    "    print(\"False Statement\")\n",
    "else:\n",
    "    print(\"True Statement\")"
   ]
  },
  {
   "cell_type": "code",
   "execution_count": null,
   "metadata": {},
   "outputs": [],
   "source": []
  },
  {
   "cell_type": "code",
   "execution_count": 29,
   "metadata": {},
   "outputs": [
    {
     "name": "stdout",
     "output_type": "stream",
     "text": [
      "True Statement\n"
     ]
    }
   ],
   "source": [
    "if 0:\n",
    "    print(\"False Statement\")\n",
    "else:\n",
    "    print(\"True Statement\")"
   ]
  },
  {
   "cell_type": "code",
   "execution_count": null,
   "metadata": {},
   "outputs": [],
   "source": []
  },
  {
   "cell_type": "code",
   "execution_count": 30,
   "metadata": {},
   "outputs": [
    {
     "name": "stdout",
     "output_type": "stream",
     "text": [
      "False Statement\n"
     ]
    }
   ],
   "source": [
    "if 'py3' in 'python':\n",
    "    print(\"True Statement\")\n",
    "else:\n",
    "    print(\"False Statement\")"
   ]
  },
  {
   "cell_type": "code",
   "execution_count": null,
   "metadata": {},
   "outputs": [],
   "source": []
  },
  {
   "cell_type": "code",
   "execution_count": 31,
   "metadata": {},
   "outputs": [
    {
     "name": "stdout",
     "output_type": "stream",
     "text": [
      "x is large\n"
     ]
    }
   ],
   "source": [
    "x = 60\n",
    "\n",
    "if x < 50:\n",
    "    print('x is small')\n",
    "else:\n",
    "    print('x is large')"
   ]
  },
  {
   "cell_type": "code",
   "execution_count": null,
   "metadata": {},
   "outputs": [],
   "source": []
  },
  {
   "cell_type": "code",
   "execution_count": 32,
   "metadata": {},
   "outputs": [
    {
     "name": "stdout",
     "output_type": "stream",
     "text": [
      "6 is even number\n"
     ]
    }
   ],
   "source": [
    "num = 6\n",
    "\n",
    "if not(num % 2 == 0):\n",
    "    print(f'{num} is odd number')\n",
    "else:\n",
    "    print(f'{num} is even number')"
   ]
  },
  {
   "cell_type": "code",
   "execution_count": null,
   "metadata": {},
   "outputs": [],
   "source": []
  },
  {
   "cell_type": "code",
   "execution_count": 33,
   "metadata": {},
   "outputs": [
    {
     "name": "stdout",
     "output_type": "stream",
     "text": [
      "6 is even number\n"
     ]
    }
   ],
   "source": [
    "num = 6\n",
    "\n",
    "if num % 2 == 0:\n",
    "    print(f'{num} is even number')\n",
    "else:\n",
    "    print(f'{num} is odd number')"
   ]
  },
  {
   "cell_type": "code",
   "execution_count": null,
   "metadata": {},
   "outputs": [],
   "source": []
  },
  {
   "cell_type": "code",
   "execution_count": 34,
   "metadata": {},
   "outputs": [
    {
     "name": "stdout",
     "output_type": "stream",
     "text": [
      "Positive or Zero\n"
     ]
    }
   ],
   "source": [
    "num = 5\n",
    "\n",
    "if num >= 0:\n",
    "    print(\"Positive or Zero\")\n",
    "else:\n",
    "    print(\"Negative number\")"
   ]
  },
  {
   "cell_type": "code",
   "execution_count": null,
   "metadata": {},
   "outputs": [],
   "source": []
  },
  {
   "cell_type": "markdown",
   "metadata": {},
   "source": [
    "### Python <code>if...else</code> Compound and Nested Statement"
   ]
  },
  {
   "cell_type": "markdown",
   "metadata": {},
   "source": [
    "    if <test_expr>:\n",
    "    \n",
    "        <statement>\n",
    "        \n",
    "        if <test_expr>:\n",
    "            <statement>\n",
    "        else:\n",
    "            <statement>\n",
    "            \n",
    "        <statement>\n",
    "        ...\n",
    "        <statement>\n",
    "    else:\n",
    "        <statement>\n",
    "        \n",
    "        if <test_expr>:\n",
    "            <statement>\n",
    "        else:\n",
    "            <statement>\n",
    "            \n",
    "        <statement>\n",
    "        ...\n",
    "        <statement>\n",
    "        \n",
    "    <other_statement>"
   ]
  },
  {
   "cell_type": "code",
   "execution_count": null,
   "metadata": {},
   "outputs": [],
   "source": []
  },
  {
   "cell_type": "code",
   "execution_count": 35,
   "metadata": {},
   "outputs": [
    {
     "name": "stdin",
     "output_type": "stream",
     "text": [
      "Enter first number :  10\n",
      "Enter second number :  15\n",
      "Enter third number :  12\n"
     ]
    },
    {
     "name": "stdout",
     "output_type": "stream",
     "text": [
      "15 is maximum number\n"
     ]
    }
   ],
   "source": [
    "n1 = int(input(\"Enter first number : \"))\n",
    "n2 = int(input(\"Enter second number : \"))\n",
    "n3 = int(input(\"Enter third number : \")) \n",
    "\n",
    "if n1 > n2: \n",
    "    if n1 > n3:\n",
    "        print(f\"{n1} is maximum number\")\n",
    "    else:\n",
    "        print(f\"{n3} is maximum number\")\n",
    "else: \n",
    "    if n2 > n3:\n",
    "        print(f\"{n2} is maximum number\")\n",
    "    else:\n",
    "        print(f\"{n3} is maximum number\")"
   ]
  },
  {
   "cell_type": "code",
   "execution_count": null,
   "metadata": {},
   "outputs": [],
   "source": []
  },
  {
   "cell_type": "markdown",
   "metadata": {},
   "source": [
    "### Python <code>if...elif...else</code> Statement"
   ]
  },
  {
   "cell_type": "markdown",
   "metadata": {},
   "source": [
    "    if <test_expr>:\n",
    "        <statement(s)>\n",
    "    elif <test_expr>:\n",
    "        <statement(s)>\n",
    "    elif <test_expr>:\n",
    "        <statement(s)>\n",
    "        ...\n",
    "    else:\n",
    "        <statement(s)>\n",
    "        \n",
    "    <other_statement>"
   ]
  },
  {
   "cell_type": "code",
   "execution_count": null,
   "metadata": {},
   "outputs": [],
   "source": []
  },
  {
   "cell_type": "code",
   "execution_count": 36,
   "metadata": {},
   "outputs": [
    {
     "name": "stdout",
     "output_type": "stream",
     "text": [
      "Positive number\n"
     ]
    }
   ],
   "source": [
    "num = 3.4\n",
    "\n",
    "if num > 0:\n",
    "    print(\"Positive number\")\n",
    "elif num == 0:\n",
    "    print(\"Zero\")\n",
    "else:\n",
    "    print(\"Negative number\")"
   ]
  },
  {
   "cell_type": "code",
   "execution_count": null,
   "metadata": {},
   "outputs": [],
   "source": []
  },
  {
   "cell_type": "code",
   "execution_count": 37,
   "metadata": {},
   "outputs": [
    {
     "name": "stdout",
     "output_type": "stream",
     "text": [
      "Hi Rizwan\n"
     ]
    }
   ],
   "source": [
    "name = 'Rizwan'\n",
    "if name == 'Bilal':\n",
    "    print('Hi Bilal')\n",
    "elif name == 'Ahmad':\n",
    "    print('Hi Ahmad')\n",
    "elif name == 'Rizwan':\n",
    "    print('Hi Rizwan')\n",
    "elif name == 'Khalil':\n",
    "    print('Hello Khalil')\n",
    "else:\n",
    "    print(\"I don't know who you are!\")"
   ]
  },
  {
   "cell_type": "code",
   "execution_count": null,
   "metadata": {},
   "outputs": [],
   "source": []
  },
  {
   "cell_type": "code",
   "execution_count": 38,
   "metadata": {},
   "outputs": [
    {
     "name": "stdin",
     "output_type": "stream",
     "text": [
      "Enter first number :  2\n",
      "Enter second number :  4\n",
      "Enter third number :  6\n"
     ]
    },
    {
     "name": "stdout",
     "output_type": "stream",
     "text": [
      "6 is maximum number\n"
     ]
    }
   ],
   "source": [
    "n1 = int(input(\"Enter first number : \"))\n",
    "n2 = int(input(\"Enter second number : \"))\n",
    "n3 = int(input(\"Enter third number : \")) \n",
    "\n",
    "if n1 > n2 and n1 > n3: \n",
    "    print(f\"{n1} is maximum number\")\n",
    "elif n2 > n1 and n2 > n3:\n",
    "    print(f\"{n2} is maximum number\")\n",
    "else: \n",
    "    print(f\"{n3} is maximum number\")"
   ]
  },
  {
   "cell_type": "code",
   "execution_count": null,
   "metadata": {},
   "outputs": [],
   "source": []
  },
  {
   "cell_type": "code",
   "execution_count": 39,
   "metadata": {},
   "outputs": [
    {
     "name": "stdout",
     "output_type": "stream",
     "text": [
      "A grade\n"
     ]
    }
   ],
   "source": [
    "marks = 87\n",
    "\n",
    "if marks >= 90 and marks <= 100:\n",
    "    print('A+ grade')\n",
    "elif marks >= 80 and marks <= 89:\n",
    "    print('A grade')\n",
    "elif marks >= 70 and marks <= 79:\n",
    "    print('B grade')\n",
    "elif marks >= 60 and marks <= 69:\n",
    "    print('C grade')\n",
    "elif marks >= 50 and marks <= 59:\n",
    "    print('D grade')\n",
    "elif marks >= 40 and marks <= 49:\n",
    "    print('Pass')\n",
    "elif marks >= 0 and marks <= 39:\n",
    "    print('Fail')\n",
    "else:\n",
    "    print('Invalid')"
   ]
  },
  {
   "cell_type": "code",
   "execution_count": null,
   "metadata": {},
   "outputs": [],
   "source": []
  },
  {
   "cell_type": "markdown",
   "metadata": {},
   "source": [
    "### Python <code>if...elif...else</code> Compound and Nested Statement"
   ]
  },
  {
   "cell_type": "markdown",
   "metadata": {},
   "source": [
    "    if <test_expr>:\n",
    "        <statement>\n",
    "        <statement>\n",
    "        \n",
    "        if <test_expr>:\n",
    "            <statement>\n",
    "        else:\n",
    "            <statement>\n",
    "            \n",
    "        <statement>\n",
    "    elif <test_expr>:\n",
    "        <statement>\n",
    "        <statement>\n",
    "        \n",
    "        if <test_expr>:\n",
    "            <statement>\n",
    "        else:\n",
    "            <statement>\n",
    "            \n",
    "        <statement>\n",
    "    elif <test_expr>:\n",
    "        <statement(s)>\n",
    "        ...\n",
    "    else:\n",
    "        <statement(s)>\n",
    "\n",
    "    <other_statement>"
   ]
  },
  {
   "cell_type": "code",
   "execution_count": null,
   "metadata": {},
   "outputs": [],
   "source": []
  },
  {
   "cell_type": "code",
   "execution_count": 40,
   "metadata": {},
   "outputs": [],
   "source": [
    "from IPython.display import clear_output\n",
    "from getpass import getpass"
   ]
  },
  {
   "cell_type": "code",
   "execution_count": 41,
   "metadata": {},
   "outputs": [
    {
     "name": "stdout",
     "output_type": "stream",
     "text": [
      "~~ Welcome Rizwan ~~\n",
      "Press 1 for Display Courses\n",
      "Press 2 for Display Assignments\n",
      "Press 3 for Display Projects\n"
     ]
    },
    {
     "name": "stdin",
     "output_type": "stream",
     "text": [
      "Enter desire number :  1\n"
     ]
    },
    {
     "name": "stdout",
     "output_type": "stream",
     "text": [
      "** Display Courses **\n"
     ]
    }
   ],
   "source": [
    "username = input(\"Enter username : \")\n",
    "password = getpass(\"Enter password : \")\n",
    "\n",
    "if username.lower() == 'rizwan' and password == \"1234\":\n",
    "    clear_output()\n",
    "    print(f'~~ Welcome {username.title()} ~~')\n",
    "    print('Press 1 for Display Courses')\n",
    "    print('Press 2 for Display Assignments')\n",
    "    print('Press 3 for Display Projects')\n",
    "    num = int(input('Enter desire number : '))\n",
    "    if num == 1:\n",
    "        print('** Display Courses **')\n",
    "    elif num == 2:\n",
    "        print('** Display Assignments **')\n",
    "    elif num == 3:\n",
    "        print('** Display Projects **')\n",
    "    else:\n",
    "        print('Invalid choice')\n",
    "elif username.lower() == 'admin' and password.lower() == \"admin\":\n",
    "    clear_output()\n",
    "    print(f'~~ Welcome {username.title()} ~~')\n",
    "else:\n",
    "    print('Invalid')"
   ]
  },
  {
   "cell_type": "code",
   "execution_count": null,
   "metadata": {},
   "outputs": [],
   "source": []
  },
  {
   "cell_type": "markdown",
   "metadata": {},
   "source": [
    "### One-line <code>if</code> Statement"
   ]
  },
  {
   "cell_type": "markdown",
   "metadata": {},
   "source": [
    "    if <test_expr>: <statement>"
   ]
  },
  {
   "cell_type": "code",
   "execution_count": 42,
   "metadata": {},
   "outputs": [],
   "source": [
    "if True: pass"
   ]
  },
  {
   "cell_type": "code",
   "execution_count": 43,
   "metadata": {},
   "outputs": [
    {
     "name": "stdout",
     "output_type": "stream",
     "text": [
      "True Statement\n"
     ]
    }
   ],
   "source": [
    "if True: print('True Statement')"
   ]
  },
  {
   "cell_type": "code",
   "execution_count": 44,
   "metadata": {},
   "outputs": [
    {
     "name": "stdout",
     "output_type": "stream",
     "text": [
      "Truthy\n"
     ]
    }
   ],
   "source": [
    "if 10 > 5: print('Truthy')"
   ]
  },
  {
   "cell_type": "code",
   "execution_count": 45,
   "metadata": {},
   "outputs": [
    {
     "name": "stdout",
     "output_type": "stream",
     "text": [
      "Python Programming\n"
     ]
    }
   ],
   "source": [
    "if 'python' == 'Python'.lower(): print('Python Programming')"
   ]
  },
  {
   "cell_type": "code",
   "execution_count": null,
   "metadata": {},
   "outputs": [],
   "source": []
  },
  {
   "cell_type": "markdown",
   "metadata": {},
   "source": [
    "There can even be more than one <statement> on the same line, separated by semicolons:"
   ]
  },
  {
   "cell_type": "markdown",
   "metadata": {},
   "source": [
    "    if <test_expr>: <statement_1>; <statement_2>; ...; <statement_n>"
   ]
  },
  {
   "cell_type": "code",
   "execution_count": 46,
   "metadata": {},
   "outputs": [
    {
     "name": "stdout",
     "output_type": "stream",
     "text": [
      "Python Programming\n",
      "Machine Learning\n"
     ]
    }
   ],
   "source": [
    "if 'python' == 'Python'.lower(): print('Python Programming'); print('Machine Learning')"
   ]
  },
  {
   "cell_type": "code",
   "execution_count": null,
   "metadata": {},
   "outputs": [],
   "source": []
  },
  {
   "cell_type": "code",
   "execution_count": 47,
   "metadata": {},
   "outputs": [
    {
     "name": "stdout",
     "output_type": "stream",
     "text": [
      "6 is even number\n"
     ]
    }
   ],
   "source": [
    "num = 6\n",
    "\n",
    "if num % 2 == 0: print(f'{num} is even number')\n",
    "else: print(f'{num} is odd number')"
   ]
  },
  {
   "cell_type": "code",
   "execution_count": null,
   "metadata": {},
   "outputs": [],
   "source": []
  },
  {
   "cell_type": "code",
   "execution_count": 48,
   "metadata": {},
   "outputs": [
    {
     "name": "stdin",
     "output_type": "stream",
     "text": [
      "Enter first number :  2\n",
      "Enter second number :  4\n",
      "Enter third number :  6\n"
     ]
    },
    {
     "name": "stdout",
     "output_type": "stream",
     "text": [
      "6 is maximum number\n"
     ]
    }
   ],
   "source": [
    "n1 = int(input(\"Enter first number : \"))\n",
    "n2 = int(input(\"Enter second number : \"))\n",
    "n3 = int(input(\"Enter third number : \")) \n",
    "\n",
    "if n1 > n2 and n1 > n3: print(f\"{n1} is maximum number\")\n",
    "elif n2 > n1 and n2 > n3: print(f\"{n2} is maximum number\")\n",
    "else: print(f\"{n3} is maximum number\")"
   ]
  },
  {
   "cell_type": "code",
   "execution_count": null,
   "metadata": {},
   "outputs": [],
   "source": []
  },
  {
   "cell_type": "markdown",
   "metadata": {},
   "source": [
    "### Conditional Expressions or Python Ternary Operator"
   ]
  },
  {
   "cell_type": "markdown",
   "metadata": {},
   "source": [
    "PEP 308 -- Conditional Expressions --- Link: https://www.python.org/dev/peps/pep-0308/"
   ]
  },
  {
   "cell_type": "code",
   "execution_count": null,
   "metadata": {},
   "outputs": [],
   "source": []
  },
  {
   "cell_type": "markdown",
   "metadata": {},
   "source": [
    "The ternary operator is used for inline conditional expressions. It is best used in simple, concise operations that are\n",
    "easily read."
   ]
  },
  {
   "cell_type": "code",
   "execution_count": 49,
   "metadata": {},
   "outputs": [
    {
     "data": {
      "text/plain": [
       "'Greater than 2'"
      ]
     },
     "execution_count": 49,
     "metadata": {},
     "output_type": "execute_result"
    }
   ],
   "source": [
    "n = 5\n",
    "\n",
    "\"Greater than 2\" if n > 2 else \"Smaller than or equal to 2\""
   ]
  },
  {
   "cell_type": "code",
   "execution_count": null,
   "metadata": {},
   "outputs": [],
   "source": []
  },
  {
   "cell_type": "code",
   "execution_count": 50,
   "metadata": {},
   "outputs": [
    {
     "data": {
      "text/plain": [
       "'Good day'"
      ]
     },
     "execution_count": 50,
     "metadata": {},
     "output_type": "execute_result"
    }
   ],
   "source": [
    "n = 5\n",
    "\n",
    "\"Hello\" if n > 10 else \"Goodbye\" if n > 5 else \"Good day\""
   ]
  },
  {
   "cell_type": "code",
   "execution_count": null,
   "metadata": {},
   "outputs": [],
   "source": []
  },
  {
   "cell_type": "code",
   "execution_count": 51,
   "metadata": {},
   "outputs": [
    {
     "name": "stdout",
     "output_type": "stream",
     "text": [
      "6 is even number\n"
     ]
    }
   ],
   "source": [
    "num = 6\n",
    "\n",
    "print(f'{num} is even number') if num % 2 == 0 else print(f'{num} is odd number')"
   ]
  },
  {
   "cell_type": "code",
   "execution_count": null,
   "metadata": {},
   "outputs": [],
   "source": []
  },
  {
   "cell_type": "code",
   "execution_count": 52,
   "metadata": {},
   "outputs": [
    {
     "data": {
      "text/plain": [
       "'Fail'"
      ]
     },
     "execution_count": 52,
     "metadata": {},
     "output_type": "execute_result"
    }
   ],
   "source": [
    "marks = 39\n",
    "\n",
    "'Pass' if marks >= 40 and marks <= 100 else 'Invalid marks' if marks < 0 or marks > 100 else 'Fail' "
   ]
  },
  {
   "cell_type": "code",
   "execution_count": null,
   "metadata": {},
   "outputs": [],
   "source": []
  },
  {
   "cell_type": "code",
   "execution_count": 53,
   "metadata": {},
   "outputs": [],
   "source": [
    "raining = False"
   ]
  },
  {
   "cell_type": "code",
   "execution_count": 54,
   "metadata": {},
   "outputs": [
    {
     "name": "stdout",
     "output_type": "stream",
     "text": [
      "Let's go to the beach\n"
     ]
    }
   ],
   "source": [
    "print(\"Let's go to the\", 'beach' if not raining else 'Corvit Systems')"
   ]
  },
  {
   "cell_type": "code",
   "execution_count": 55,
   "metadata": {},
   "outputs": [],
   "source": [
    "raining = True"
   ]
  },
  {
   "cell_type": "code",
   "execution_count": 56,
   "metadata": {},
   "outputs": [
    {
     "name": "stdout",
     "output_type": "stream",
     "text": [
      "Let's go to the Corvit Systems\n"
     ]
    }
   ],
   "source": [
    "print(\"Let's go to the\", 'beach' if not raining else 'Corvit Systems')"
   ]
  },
  {
   "cell_type": "code",
   "execution_count": null,
   "metadata": {},
   "outputs": [],
   "source": []
  },
  {
   "cell_type": "markdown",
   "metadata": {},
   "source": [
    "#### Happy Learning 😊"
   ]
  }
 ],
 "metadata": {
  "kernelspec": {
   "display_name": "Python 3",
   "language": "python",
   "name": "python3"
  },
  "language_info": {
   "codemirror_mode": {
    "name": "ipython",
    "version": 3
   },
   "file_extension": ".py",
   "mimetype": "text/x-python",
   "name": "python",
   "nbconvert_exporter": "python",
   "pygments_lexer": "ipython3",
   "version": "3.7.4"
  }
 },
 "nbformat": 4,
 "nbformat_minor": 4
}
