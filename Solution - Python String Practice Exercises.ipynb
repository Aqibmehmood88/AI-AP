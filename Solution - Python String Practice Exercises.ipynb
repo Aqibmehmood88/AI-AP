{
 "cells": [
  {
   "cell_type": "markdown",
   "metadata": {},
   "source": [
    "### Basic Python Programming Practice Exercises"
   ]
  },
  {
   "cell_type": "code",
   "execution_count": null,
   "metadata": {},
   "outputs": [],
   "source": []
  },
  {
   "cell_type": "markdown",
   "metadata": {},
   "source": [
    "#### Python String Practice Exercises"
   ]
  },
  {
   "cell_type": "markdown",
   "metadata": {},
   "source": [
    "Target String - <code><b>Python 3.x Programming for Data Science & ML.</b></code>"
   ]
  },
  {
   "cell_type": "markdown",
   "metadata": {},
   "source": [
    "<u>Exercise 1:</u>"
   ]
  },
  {
   "cell_type": "markdown",
   "metadata": {},
   "source": [
    "Write a program that displays \"Python 3.x Programming for Data Science & ML.\" stored in a string variable name."
   ]
  },
  {
   "cell_type": "code",
   "execution_count": 1,
   "metadata": {},
   "outputs": [],
   "source": [
    "s1 = 'Python 3.x Programming for Data Science & ML.'"
   ]
  },
  {
   "cell_type": "code",
   "execution_count": 2,
   "metadata": {},
   "outputs": [
    {
     "name": "stdout",
     "output_type": "stream",
     "text": [
      "Python 3.x Programming for Data Science & ML.\n"
     ]
    }
   ],
   "source": [
    "print(s1)"
   ]
  },
  {
   "cell_type": "markdown",
   "metadata": {},
   "source": [
    "<u>Exercise 2:</u>"
   ]
  },
  {
   "cell_type": "markdown",
   "metadata": {},
   "source": [
    "Write a program that displays \"Python 3.x Programming for Data Science\" stored in a existing string variable name."
   ]
  },
  {
   "cell_type": "code",
   "execution_count": 3,
   "metadata": {},
   "outputs": [],
   "source": [
    "s1 = 'Python 3.x Programming for Data Science'"
   ]
  },
  {
   "cell_type": "code",
   "execution_count": 4,
   "metadata": {},
   "outputs": [
    {
     "name": "stdout",
     "output_type": "stream",
     "text": [
      "Python 3.x Programming for Data Science\n"
     ]
    }
   ],
   "source": [
    "print(s1)"
   ]
  },
  {
   "cell_type": "markdown",
   "metadata": {},
   "source": [
    "<u>Exercise 3:</u>"
   ]
  },
  {
   "cell_type": "markdown",
   "metadata": {},
   "source": [
    "Write a program that displays the type of a existing string variable name."
   ]
  },
  {
   "cell_type": "code",
   "execution_count": 5,
   "metadata": {},
   "outputs": [
    {
     "name": "stdout",
     "output_type": "stream",
     "text": [
      "<class 'str'>\n"
     ]
    }
   ],
   "source": [
    "print(type(s1))"
   ]
  },
  {
   "cell_type": "markdown",
   "metadata": {},
   "source": [
    "<u>Exercise 4:</u>"
   ]
  },
  {
   "cell_type": "markdown",
   "metadata": {},
   "source": [
    "Write a program to calculate the length of a existing string variable name. "
   ]
  },
  {
   "cell_type": "code",
   "execution_count": 6,
   "metadata": {},
   "outputs": [
    {
     "name": "stdout",
     "output_type": "stream",
     "text": [
      "39\n"
     ]
    }
   ],
   "source": [
    "print(len(s1))"
   ]
  },
  {
   "cell_type": "markdown",
   "metadata": {},
   "source": [
    "<u>Exercise 5:</u>"
   ]
  },
  {
   "cell_type": "markdown",
   "metadata": {},
   "source": [
    "Target String - Python 3.x Programming for Data Science & ML.\n",
    "\n",
    "Expected Result - Python"
   ]
  },
  {
   "cell_type": "code",
   "execution_count": 7,
   "metadata": {},
   "outputs": [],
   "source": [
    "s5 = 'Python 3.x Programming for Data Science & ML.'"
   ]
  },
  {
   "cell_type": "code",
   "execution_count": 8,
   "metadata": {},
   "outputs": [
    {
     "name": "stdout",
     "output_type": "stream",
     "text": [
      "Python\n"
     ]
    }
   ],
   "source": [
    "print(s5[:6])"
   ]
  },
  {
   "cell_type": "markdown",
   "metadata": {},
   "source": [
    "<u>Exercise 6:</u>"
   ]
  },
  {
   "cell_type": "markdown",
   "metadata": {},
   "source": [
    "Target String - Python 3.x Programming for Data Science & ML.\n",
    "\n",
    "Expected Result - Programming for Data Science & ML."
   ]
  },
  {
   "cell_type": "code",
   "execution_count": 9,
   "metadata": {},
   "outputs": [],
   "source": [
    "s6 = 'Python 3.x Programming for Data Science & ML.'"
   ]
  },
  {
   "cell_type": "code",
   "execution_count": 10,
   "metadata": {},
   "outputs": [
    {
     "name": "stdout",
     "output_type": "stream",
     "text": [
      "Programming for Data Science & ML.\n"
     ]
    }
   ],
   "source": [
    "print(s6[11:])"
   ]
  },
  {
   "cell_type": "markdown",
   "metadata": {},
   "source": [
    "<u>Exercise 7:</u>"
   ]
  },
  {
   "cell_type": "markdown",
   "metadata": {},
   "source": [
    "Target String - Python 3.x Programming for Data Science & ML.\n",
    "\n",
    "Expected Result - Python 3.x Programming for Data Science"
   ]
  },
  {
   "cell_type": "code",
   "execution_count": 11,
   "metadata": {},
   "outputs": [],
   "source": [
    "s7 = 'Python 3.x Programming for Data Science & ML.'"
   ]
  },
  {
   "cell_type": "code",
   "execution_count": 12,
   "metadata": {},
   "outputs": [
    {
     "name": "stdout",
     "output_type": "stream",
     "text": [
      "Python 3.x Programming for Data Science \n"
     ]
    }
   ],
   "source": [
    "print(s7[:-5])"
   ]
  },
  {
   "cell_type": "markdown",
   "metadata": {},
   "source": [
    "<u>Exercise 8:</u>\n",
    "\n",
    "Target String - Python 3.x Programming for Data Science & ML.\n",
    "\n",
    "Expected Result - ML"
   ]
  },
  {
   "cell_type": "code",
   "execution_count": 13,
   "metadata": {},
   "outputs": [],
   "source": [
    "s8 = 'Python 3.x Programming for Data Science & ML.'"
   ]
  },
  {
   "cell_type": "code",
   "execution_count": 14,
   "metadata": {},
   "outputs": [
    {
     "name": "stdout",
     "output_type": "stream",
     "text": [
      "ML\n"
     ]
    }
   ],
   "source": [
    "print(s8[-3:-1])"
   ]
  },
  {
   "cell_type": "markdown",
   "metadata": {},
   "source": [
    "<u>Exercise 9:</u>\n",
    "\n",
    "Target String - Python 3.x Programming for Data Science & ML.\n",
    "\n",
    "Expected Result - .LM & ecneicS ataD rof gnimmargorP x.3 nohtyP"
   ]
  },
  {
   "cell_type": "code",
   "execution_count": 15,
   "metadata": {},
   "outputs": [],
   "source": [
    "s9 = 'Python 3.x Programming for Data Science & ML.'"
   ]
  },
  {
   "cell_type": "code",
   "execution_count": 16,
   "metadata": {},
   "outputs": [
    {
     "name": "stdout",
     "output_type": "stream",
     "text": [
      ".LM & ecneicS ataD rof gnimmargorP x.3 nohtyP\n"
     ]
    }
   ],
   "source": [
    "print(s9[::-1])"
   ]
  },
  {
   "cell_type": "markdown",
   "metadata": {},
   "source": [
    "<u>Exercise 10:</u>\n",
    "\n",
    "Target String - Python 3.x Programming for Data Science & ML.\n",
    "\n",
    "Expected Result - python 3.x programming for data science & ml."
   ]
  },
  {
   "cell_type": "code",
   "execution_count": 17,
   "metadata": {},
   "outputs": [],
   "source": [
    "s10 = 'Python 3.x Programming for Data Science & ML.'"
   ]
  },
  {
   "cell_type": "code",
   "execution_count": 18,
   "metadata": {},
   "outputs": [
    {
     "name": "stdout",
     "output_type": "stream",
     "text": [
      "python 3.x programming for data science & ml.\n"
     ]
    }
   ],
   "source": [
    "print(s10.lower())"
   ]
  },
  {
   "cell_type": "markdown",
   "metadata": {},
   "source": [
    "<u>Exercise 11:</u>\n",
    "\n",
    "Target String - Python 3.x Programming for Data Science & ML.\n",
    "\n",
    "Expected Result - PYTHON 3.X PROGRAMMING FOR DATA SCIENCE & ML."
   ]
  },
  {
   "cell_type": "code",
   "execution_count": 19,
   "metadata": {},
   "outputs": [],
   "source": [
    "s11 = 'Python 3.x Programming for Data Science & ML.'"
   ]
  },
  {
   "cell_type": "code",
   "execution_count": 20,
   "metadata": {},
   "outputs": [
    {
     "name": "stdout",
     "output_type": "stream",
     "text": [
      "PYTHON 3.X PROGRAMMING FOR DATA SCIENCE & ML.\n"
     ]
    }
   ],
   "source": [
    "print(s11.upper())"
   ]
  },
  {
   "cell_type": "markdown",
   "metadata": {},
   "source": [
    "<u>Exercise 12:</u>\n",
    "\n",
    "Target String - Python 3.x Programming for Data Science & ML.\n",
    "\n",
    "Expected Result - Python 3.x programming for data science & ml."
   ]
  },
  {
   "cell_type": "code",
   "execution_count": 21,
   "metadata": {},
   "outputs": [],
   "source": [
    "s12 = 'Python 3.x Programming for Data Science & ML.'"
   ]
  },
  {
   "cell_type": "code",
   "execution_count": 22,
   "metadata": {},
   "outputs": [
    {
     "name": "stdout",
     "output_type": "stream",
     "text": [
      "Python 3.x programming for data science & ml.\n"
     ]
    }
   ],
   "source": [
    "print(s12.capitalize())"
   ]
  },
  {
   "cell_type": "markdown",
   "metadata": {},
   "source": [
    "<u>Exercise 13:</u>\n",
    "\n",
    "Target String - Python 3.x Programming for Data Science & ML.\n",
    "\n",
    "Expected Result - Python 3.X Programming For Data Science & Ml."
   ]
  },
  {
   "cell_type": "code",
   "execution_count": 23,
   "metadata": {},
   "outputs": [],
   "source": [
    "s13 = 'Python 3.x Programming for Data Science & ML.'"
   ]
  },
  {
   "cell_type": "code",
   "execution_count": 24,
   "metadata": {},
   "outputs": [
    {
     "name": "stdout",
     "output_type": "stream",
     "text": [
      "Python 3.X Programming For Data Science & Ml.\n"
     ]
    }
   ],
   "source": [
    "print(s13.title())"
   ]
  },
  {
   "cell_type": "markdown",
   "metadata": {},
   "source": [
    "<u>Exercise 14:</u>\n",
    "\n",
    "Target String - Python 3.x Programming for Data Science & ML.\n",
    "\n",
    "Count Total P"
   ]
  },
  {
   "cell_type": "code",
   "execution_count": 25,
   "metadata": {},
   "outputs": [],
   "source": [
    "s14 = 'Python 3.x Programming for Data Science & ML.'"
   ]
  },
  {
   "cell_type": "code",
   "execution_count": 26,
   "metadata": {},
   "outputs": [
    {
     "name": "stdout",
     "output_type": "stream",
     "text": [
      "2\n"
     ]
    }
   ],
   "source": [
    "print(s14.count('P'))"
   ]
  },
  {
   "cell_type": "markdown",
   "metadata": {},
   "source": [
    "<u>Exercise 15:</u>\n",
    "\n",
    "Target String - Python 3.x Programming for Data Science & ML.\n",
    "\n",
    "Change Data Science with AI"
   ]
  },
  {
   "cell_type": "code",
   "execution_count": 27,
   "metadata": {},
   "outputs": [],
   "source": [
    "s15 = 'Python 3.x Programming for Data Science & ML.'"
   ]
  },
  {
   "cell_type": "code",
   "execution_count": 28,
   "metadata": {},
   "outputs": [
    {
     "name": "stdout",
     "output_type": "stream",
     "text": [
      "Python 3.x Programming for AI & ML.\n"
     ]
    }
   ],
   "source": [
    "print(s15.replace('Data Science', 'AI'))"
   ]
  },
  {
   "cell_type": "markdown",
   "metadata": {},
   "source": [
    "<u>Exercise 16:</u>\n",
    "\n",
    "Target String - Python 3.x Programming for Data Science & ML.   \n",
    "\n",
    "Expected Result - ['Python', '3.x', 'Programming', 'for', 'Data', 'Science', '&', 'ML.']"
   ]
  },
  {
   "cell_type": "code",
   "execution_count": 29,
   "metadata": {},
   "outputs": [],
   "source": [
    "s16 = 'Python 3.x Programming for Data Science & ML.'"
   ]
  },
  {
   "cell_type": "code",
   "execution_count": 30,
   "metadata": {},
   "outputs": [
    {
     "name": "stdout",
     "output_type": "stream",
     "text": [
      "['Python', '3.x', 'Programming', 'for', 'Data', 'Science', '&', 'ML.']\n"
     ]
    }
   ],
   "source": [
    "print(s16.split())"
   ]
  },
  {
   "cell_type": "markdown",
   "metadata": {},
   "source": [
    "<u>Exercise 17:</u>\n",
    "\n",
    "Target String - Python 3.x Programming for Data Science & ML.   \n",
    "\n",
    "Expected Result - Python_3.x_Programming_for_Data_Science_&_ML.   "
   ]
  },
  {
   "cell_type": "code",
   "execution_count": 31,
   "metadata": {},
   "outputs": [],
   "source": [
    "s17 = 'Python 3.x Programming for Data Science & ML.'"
   ]
  },
  {
   "cell_type": "code",
   "execution_count": 32,
   "metadata": {},
   "outputs": [
    {
     "name": "stdout",
     "output_type": "stream",
     "text": [
      "Python_3.x_Programming_for_Data_Science_&_ML.\n"
     ]
    }
   ],
   "source": [
    "print(s17.replace(' ', '_'))"
   ]
  },
  {
   "cell_type": "markdown",
   "metadata": {},
   "source": [
    "<u>Exercise 18:</u>\n",
    "\n",
    "Target String - Python 3.x Programming for Data Science & ML.\n",
    "\n",
    "Find Position of ML"
   ]
  },
  {
   "cell_type": "code",
   "execution_count": 33,
   "metadata": {},
   "outputs": [],
   "source": [
    "s18 = 'Python 3.x Programming for Data Science & ML.'"
   ]
  },
  {
   "cell_type": "code",
   "execution_count": 34,
   "metadata": {},
   "outputs": [
    {
     "name": "stdout",
     "output_type": "stream",
     "text": [
      "42\n"
     ]
    }
   ],
   "source": [
    "print(s18.find('ML'))"
   ]
  },
  {
   "cell_type": "markdown",
   "metadata": {},
   "source": [
    "<u>Exercise 19:</u>\n",
    "\n",
    "Target String - Python 3.x Programming for Data Science & ML.\n",
    "\n",
    "Expected Result - Python3.XProgrammingForDataScience&Ml."
   ]
  },
  {
   "cell_type": "code",
   "execution_count": 35,
   "metadata": {},
   "outputs": [],
   "source": [
    "s19 = 'Python 3.x Programming for Data Science & ML.'"
   ]
  },
  {
   "cell_type": "code",
   "execution_count": 36,
   "metadata": {},
   "outputs": [
    {
     "name": "stdout",
     "output_type": "stream",
     "text": [
      "Python3.XProgrammingForDataScience&Ml.\n"
     ]
    }
   ],
   "source": [
    "print(s19.title().replace(' ', ''))"
   ]
  },
  {
   "cell_type": "markdown",
   "metadata": {},
   "source": [
    "<u>Exercise 20:</u>\n",
    "\n",
    "Target String - Python 3.x Programming for Data Science & ML.\n",
    "\n",
    "Check ML existing in target string"
   ]
  },
  {
   "cell_type": "code",
   "execution_count": 37,
   "metadata": {},
   "outputs": [],
   "source": [
    "s20 = 'Python 3.x Programming for Data Science & ML.'"
   ]
  },
  {
   "cell_type": "code",
   "execution_count": 38,
   "metadata": {},
   "outputs": [
    {
     "name": "stdout",
     "output_type": "stream",
     "text": [
      "True\n"
     ]
    }
   ],
   "source": [
    "print('ML' in s20)"
   ]
  },
  {
   "cell_type": "markdown",
   "metadata": {},
   "source": [
    "<u>Exercise 21:</u>\n",
    "\n",
    "Display Python five times"
   ]
  },
  {
   "cell_type": "code",
   "execution_count": 39,
   "metadata": {},
   "outputs": [
    {
     "name": "stdout",
     "output_type": "stream",
     "text": [
      "Python Python Python Python Python \n"
     ]
    }
   ],
   "source": [
    "print('Python ' * 5)"
   ]
  },
  {
   "cell_type": "code",
   "execution_count": 40,
   "metadata": {},
   "outputs": [
    {
     "name": "stdout",
     "output_type": "stream",
     "text": [
      "Python Python Python Python Python \n"
     ]
    }
   ],
   "source": [
    "print(s20[:7] * 5)"
   ]
  },
  {
   "cell_type": "markdown",
   "metadata": {},
   "source": [
    "<u>Exercise 22:</u>\n",
    "\n",
    "Target String - 33103-0000000-1\n",
    "\n",
    "Expected Result - ['33103', '0000000', '1']"
   ]
  },
  {
   "cell_type": "code",
   "execution_count": 41,
   "metadata": {},
   "outputs": [],
   "source": [
    "s22 = '33103-0000000-1'"
   ]
  },
  {
   "cell_type": "code",
   "execution_count": 42,
   "metadata": {},
   "outputs": [
    {
     "name": "stdout",
     "output_type": "stream",
     "text": [
      "['33103', '0000000', '1']\n"
     ]
    }
   ],
   "source": [
    "print(s22.split('-'))"
   ]
  },
  {
   "cell_type": "markdown",
   "metadata": {},
   "source": [
    "<u>Exercise 23:</u>\n",
    "\n",
    "Target - \n",
    "\n",
    "<code>Name: Ahmad\n",
    "Course: AI/AP\n",
    "Learning Speed: 95</code>\n",
    "\n",
    "Expected Result - My Info - Name : Ahamd, Course : AP/AP, Learning Speed : 95%"
   ]
  },
  {
   "cell_type": "code",
   "execution_count": 43,
   "metadata": {},
   "outputs": [],
   "source": [
    "name = 'Ahamd'\n",
    "course = 'AP/AP'\n",
    "ls = 95"
   ]
  },
  {
   "cell_type": "code",
   "execution_count": 44,
   "metadata": {},
   "outputs": [
    {
     "name": "stdout",
     "output_type": "stream",
     "text": [
      "My Info - Name : Ahamd, Course : AP/AP, Learning Speed : 95%\n"
     ]
    }
   ],
   "source": [
    "print(f'My Info - Name : {name}, Course : {course}, Learning Speed : {ls}%')"
   ]
  },
  {
   "cell_type": "markdown",
   "metadata": {},
   "source": [
    "<u>Exercise 24:</u>\n",
    "    \n",
    "Target String - Python 3.x Programming for Data Science & ML.\n",
    "\n",
    "Expected Result - \n",
    "\n",
    "<code>Python\n",
    "3.x\n",
    "Programming\n",
    "for \n",
    "Data Science \n",
    "& \n",
    "ML.</code>"
   ]
  },
  {
   "cell_type": "code",
   "execution_count": 45,
   "metadata": {},
   "outputs": [
    {
     "name": "stdout",
     "output_type": "stream",
     "text": [
      "Python \n",
      "3.x \n",
      "Programming \n",
      "for \n",
      "Data Science \n",
      "& \n",
      "ML.\n"
     ]
    }
   ],
   "source": [
    "print('Python \\n3.x \\nProgramming \\nfor \\nData Science \\n& \\nML.')"
   ]
  },
  {
   "cell_type": "markdown",
   "metadata": {},
   "source": [
    "<u>Exercise 25:</u>\n",
    "    \n",
    "Display the following output:\n",
    "\n",
    "<code>C:\\Users\\MRizwan></code>"
   ]
  },
  {
   "cell_type": "code",
   "execution_count": 46,
   "metadata": {},
   "outputs": [
    {
     "name": "stdout",
     "output_type": "stream",
     "text": [
      "C:\\Users\\MRizwan>\n"
     ]
    }
   ],
   "source": [
    "print('C:\\\\Users\\\\MRizwan>')"
   ]
  },
  {
   "cell_type": "markdown",
   "metadata": {},
   "source": [
    "<u>Exercise 26:</u>\n",
    "\n",
    "Write a program that stored first name and last name in two strings, concatenate both strings in third string and then displays it.\n",
    "\n",
    "Expected Ouput - Your full name is : M.Rizwan Mughal "
   ]
  },
  {
   "cell_type": "code",
   "execution_count": 47,
   "metadata": {},
   "outputs": [],
   "source": [
    "firstName = 'M.Rizwan'\n",
    "lastName = 'Mughal'\n",
    "fullName = firstName + \" \" + lastName"
   ]
  },
  {
   "cell_type": "code",
   "execution_count": 48,
   "metadata": {},
   "outputs": [
    {
     "name": "stdout",
     "output_type": "stream",
     "text": [
      "Your full name is : M.Rizwan Mughal\n"
     ]
    }
   ],
   "source": [
    "print(f'Your full name is : {fullName}')"
   ]
  },
  {
   "cell_type": "code",
   "execution_count": 49,
   "metadata": {},
   "outputs": [
    {
     "name": "stdout",
     "output_type": "stream",
     "text": [
      "Your full name is : M.Rizwan Mughal\n"
     ]
    }
   ],
   "source": [
    "print('Your full name is : {}'.format(fullName))"
   ]
  },
  {
   "cell_type": "code",
   "execution_count": 50,
   "metadata": {},
   "outputs": [
    {
     "name": "stdout",
     "output_type": "stream",
     "text": [
      "Your full name is : M.Rizwan Mughal\n"
     ]
    }
   ],
   "source": [
    "print('Your full name is : {0}'.format(fullName))"
   ]
  },
  {
   "cell_type": "code",
   "execution_count": 51,
   "metadata": {},
   "outputs": [
    {
     "name": "stdout",
     "output_type": "stream",
     "text": [
      "Your full name is : M.Rizwan Mughal\n"
     ]
    }
   ],
   "source": [
    "print('Your full name is : {fullName}'.format(fullName = firstName + \" \" + lastName))"
   ]
  },
  {
   "cell_type": "code",
   "execution_count": 52,
   "metadata": {},
   "outputs": [
    {
     "name": "stdout",
     "output_type": "stream",
     "text": [
      "Your full name is : M.Rizwan Mughal\n"
     ]
    }
   ],
   "source": [
    "print('Your full name is : %s' %fullName)"
   ]
  },
  {
   "cell_type": "code",
   "execution_count": 53,
   "metadata": {},
   "outputs": [
    {
     "name": "stdout",
     "output_type": "stream",
     "text": [
      "Your full name is : M.Rizwan Mughal\n"
     ]
    }
   ],
   "source": [
    "print('Your full name is : ' + fullName)"
   ]
  },
  {
   "cell_type": "code",
   "execution_count": null,
   "metadata": {},
   "outputs": [],
   "source": []
  },
  {
   "cell_type": "markdown",
   "metadata": {},
   "source": [
    "#### Happy Learning 😊"
   ]
  }
 ],
 "metadata": {
  "kernelspec": {
   "display_name": "Python 3",
   "language": "python",
   "name": "python3"
  },
  "language_info": {
   "codemirror_mode": {
    "name": "ipython",
    "version": 3
   },
   "file_extension": ".py",
   "mimetype": "text/x-python",
   "name": "python",
   "nbconvert_exporter": "python",
   "pygments_lexer": "ipython3",
   "version": "3.7.4"
  }
 },
 "nbformat": 4,
 "nbformat_minor": 4
}
