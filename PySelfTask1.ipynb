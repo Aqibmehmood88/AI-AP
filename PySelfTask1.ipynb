{
 "cells": [
  {
   "cell_type": "markdown",
   "metadata": {},
   "source": [
    "## Python Self Task 1 - AP & AI\n",
    "<hr>"
   ]
  },
  {
   "cell_type": "markdown",
   "metadata": {},
   "source": [
    "<b>Problem Definition:</b>\n",
    "\n",
    "    Problem Feature: Valid Email\n",
    "    Aim: Email address parsing\n",
    "    Variables: userName, domainName, domainExtension\n",
    "    Input and Output: \n",
    "        User-Input: rizwan.datahub@gmail.com or kashif@corvit.com\n",
    "        Expected-Output:\n",
    "        - UserName:          rizwan.datahub\n",
    "        - Domain:            gmail.com\n",
    "        - Domain Extension:  com"
   ]
  },
  {
   "cell_type": "markdown",
   "metadata": {},
   "source": [
    "<b>Py-Self-Task1 Covered the following Python Concepts:</b>\n",
    "\n",
    "    - Python Variables \n",
    "    - Python Data Types\n",
    "    - Python Built-in Functions \n",
    "    - Python Input and Output Functions\n",
    "    - Python Operators \n",
    "    - Complete Python String Manipulation\n",
    "    - Python User-Defined Functions \n",
    "    - Python Modules (.py, .ipynb)\n",
    "    - Python Conditional Statements (if, elif, else)\n",
    "    - Python Loops (while, for)"
   ]
  },
  {
   "cell_type": "markdown",
   "metadata": {},
   "source": [
    "<b>Py-Self-Task1 Covered the following Lectures:</b>\n",
    "\n",
    "    PyLecture 1 to PyLecture 12"
   ]
  },
  {
   "cell_type": "markdown",
   "metadata": {},
   "source": [
    "<b>Py-Self-Task1 Solutions:</b>\n",
    "\n",
    "    - Solution 1: Using string Built-in Methods, Slicing \n",
    "    - Solution 2: Using conditional statements, while loops \n",
    "      (without nested loops)\n",
    "    - Solution 3: Using conditional statements, while loops \n",
    "      (with nested loops)\n",
    "    - Solution 4: Using conditional statements, for loops   \n",
    "      (without nested loops)\n",
    "    - Solution 5: Using conditional statements, for loops   \n",
    "      (with nested loops)\n",
    "    - Solution 6: Using User-defined functions, use any loop \n",
    "    - Solution 7: Using Modules \n",
    "        - example:\n",
    "            - from email_address_parsing import email_address_parser\n",
    "            - email_parser(email_address)"
   ]
  },
  {
   "cell_type": "markdown",
   "metadata": {},
   "source": [
    "<b>Py-Self-Task1 Solutions restrictions:</b>\n",
    "    \n",
    "    - Solution 1: str built-in methods, str slicing, str indexing\n",
    "    - Solution 2 to Solution 7: \n",
    "      input func, f-string, len func\n",
    "      if, elif, else\n",
    "      str indexing (str slicing & str built-in methods not used)\n",
    "      while loop, for loop (range & enumerate func not used), break\n",
    "      def func, def parameters & arguments, return \n",
    "      from, import  "
   ]
  },
  {
   "cell_type": "markdown",
   "metadata": {},
   "source": [
    "<b>Py-Self-Task1 Marks</b>\n",
    "    \n",
    "    - 10 Marks"
   ]
  },
  {
   "cell_type": "code",
   "execution_count": null,
   "metadata": {},
   "outputs": [],
   "source": []
  },
  {
   "cell_type": "markdown",
   "metadata": {},
   "source": [
    "#### Happy Learning 😊"
   ]
  }
 ],
 "metadata": {
  "kernelspec": {
   "display_name": "Python 3",
   "language": "python",
   "name": "python3"
  },
  "language_info": {
   "codemirror_mode": {
    "name": "ipython",
    "version": 3
   },
   "file_extension": ".py",
   "mimetype": "text/x-python",
   "name": "python",
   "nbconvert_exporter": "python",
   "pygments_lexer": "ipython3",
   "version": "3.7.4"
  }
 },
 "nbformat": 4,
 "nbformat_minor": 4
}
