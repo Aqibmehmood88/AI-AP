{
 "cells": [
  {
   "cell_type": "markdown",
   "metadata": {},
   "source": [
    "# Python Programming"
   ]
  },
  {
   "cell_type": "markdown",
   "metadata": {},
   "source": [
    "- Programming Fundamentals \n",
    "- Object Oriented Programming \n",
    "- Data Structures "
   ]
  },
  {
   "cell_type": "markdown",
   "metadata": {},
   "source": [
    "# Python Programming Fundamentals "
   ]
  },
  {
   "cell_type": "markdown",
   "metadata": {},
   "source": [
    "### Python for Windows "
   ]
  },
  {
   "cell_type": "markdown",
   "metadata": {},
   "source": [
    "#### 1 - python.org"
   ]
  },
  {
   "cell_type": "markdown",
   "metadata": {},
   "source": [
    "- https://www.python.org/ - Python Official Link\n",
    "- https://www.python.org/downloads/release/python-381/  - Release Date: Dec. 18, 2019\n",
    "    - Windows x86-64 executable installer - 26.3 MB <b>or</b>\n",
    "    - Windows x86 executable installer - 25.2 MB"
   ]
  },
  {
   "cell_type": "markdown",
   "metadata": {},
   "source": [
    "- Python 3.8.1 Installer \n",
    "    - Python Programming Language \n",
    "    - Python Standard Libraries\n",
    "    - Pip (Download & Install other Python packages) - https://pypi.org/ \n",
    "    - IDLE & tkinter \n",
    "    - Python Official Documentation\n",
    "    - ..."
   ]
  },
  {
   "cell_type": "markdown",
   "metadata": {},
   "source": [
    "#### 2 - vs code "
   ]
  },
  {
   "cell_type": "markdown",
   "metadata": {},
   "source": [
    "- https://code.visualstudio.com/ - Visual Studio Code Official Link\n",
    "- https://code.visualstudio.com/Download - Release Date: January 2020 (version 1.42)\n",
    "    - Windows 7, 8, 10 (User Installer) 64 bit - 56.9 MB <b>or</b>\n",
    "    - Windows 7, 8, 10 (User Installer) 32 bit - 54.9 MB"
   ]
  },
  {
   "cell_type": "markdown",
   "metadata": {},
   "source": [
    "- VS Code Extensions \n",
    "    - Python (Microsoft) \n",
    "    - vscode-icons \n",
    "    - Debugger for Chrome"
   ]
  },
  {
   "cell_type": "markdown",
   "metadata": {},
   "source": [
    "- Getting Started with Python in VS Code\n",
    "    - https://code.visualstudio.com/docs/python/python-tutorial"
   ]
  },
  {
   "cell_type": "markdown",
   "metadata": {},
   "source": [
    "### Program in Python 3.x"
   ]
  },
  {
   "cell_type": "markdown",
   "metadata": {},
   "source": [
    "Windows-cmd, Python-interpreter & IDLE "
   ]
  },
  {
   "cell_type": "markdown",
   "metadata": {},
   "source": [
    "<b>Windows-cmd</b>"
   ]
  },
  {
   "cell_type": "code",
   "execution_count": 1,
   "metadata": {},
   "outputs": [],
   "source": [
    "# Microsoft Windows [Version 10.0.18362.657]\n",
    "# (c) 2019 Microsoft Corporation. All rights reserved.\n",
    "\n",
    "# C:\\Users\\MRizwan>python\n",
    "# Python 3.8.1 (tags/v3.8.1:1b293b6, Dec 18 2019, 23:11:46) [MSC v.1916 64 bit (AMD64)] on win32\n",
    "# Type \"help\", \"copyright\", \"credits\" or \"license\" for more information.\n",
    "# >>> print('Hello, World!')\n",
    "# Hello, World!\n",
    "# >>> "
   ]
  },
  {
   "cell_type": "code",
   "execution_count": 2,
   "metadata": {},
   "outputs": [
    {
     "name": "stdout",
     "output_type": "stream",
     "text": [
      "Hello, World!\n"
     ]
    }
   ],
   "source": [
    "print('Hello, World!')"
   ]
  },
  {
   "cell_type": "code",
   "execution_count": null,
   "metadata": {},
   "outputs": [],
   "source": []
  },
  {
   "cell_type": "markdown",
   "metadata": {},
   "source": [
    "#### Happy Learning 😊"
   ]
  }
 ],
 "metadata": {
  "kernelspec": {
   "display_name": "Python 3",
   "language": "python",
   "name": "python3"
  },
  "language_info": {
   "codemirror_mode": {
    "name": "ipython",
    "version": 3
   },
   "file_extension": ".py",
   "mimetype": "text/x-python",
   "name": "python",
   "nbconvert_exporter": "python",
   "pygments_lexer": "ipython3",
   "version": "3.7.4"
  }
 },
 "nbformat": 4,
 "nbformat_minor": 4
}
