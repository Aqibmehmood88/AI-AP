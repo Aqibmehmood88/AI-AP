{
 "cells": [
  {
   "cell_type": "markdown",
   "metadata": {},
   "source": [
    "## Python Dictionary - Part 2"
   ]
  },
  {
   "cell_type": "markdown",
   "metadata": {},
   "source": [
    "<b>Dictionaries</b> are one of the most important and useful <b>data structures</b> in Python. They can help you solve a wide variety of programming problems. This Lecture will take you on a deep dive into how to iterate through a <b>dictionary</b> in Python."
   ]
  },
  {
   "cell_type": "markdown",
   "metadata": {},
   "source": [
    "An associative array, where arbitrary keys are mapped to values. The keys can be any object with <code>__hash__()</code> and <code>__eq__()</code> methods."
   ]
  },
  {
   "cell_type": "markdown",
   "metadata": {},
   "source": [
    "Dictionary Link: https://docs.python.org/3/glossary.html#term-dictionary"
   ]
  },
  {
   "cell_type": "markdown",
   "metadata": {},
   "source": [
    "There are a couple points to keep in mind:"
   ]
  },
  {
   "cell_type": "markdown",
   "metadata": {},
   "source": [
    "- Dictionaries map keys to values and store them in an array or collection.\n",
    "- The keys must be of a <b>hashable</b> type, which means that they must have a hash value that never changes during the key’s lifetime."
   ]
  },
  {
   "cell_type": "markdown",
   "metadata": {},
   "source": [
    "Hashable Link: https://docs.python.org/3/glossary.html#term-hashable"
   ]
  },
  {
   "cell_type": "markdown",
   "metadata": {},
   "source": [
    "Dictionaries are frequently used for solving all kinds of programming problems, so they are a fundamental piece of your tool kit as a Python developer."
   ]
  },
  {
   "cell_type": "markdown",
   "metadata": {},
   "source": [
    "The keys in a dictionary are much like a <code>set</code>, which is a collection of hashable and unique objects. Because the objects need to be hashable, <b>mutable</b> objects can’t be used as dictionary keys."
   ]
  },
  {
   "cell_type": "markdown",
   "metadata": {},
   "source": [
    "On the other hand, values can be of any Python type, whether they are hashable or not. There are literally no restrictions for values."
   ]
  },
  {
   "cell_type": "markdown",
   "metadata": {},
   "source": [
    "In Python 3.6 and beyond, dictionaries are <b>ordered</b> data structures, which means that they keep their elements in the same order."
   ]
  },
  {
   "cell_type": "code",
   "execution_count": 1,
   "metadata": {},
   "outputs": [],
   "source": [
    "prices = {\n",
    "    'mobile': 40000.0, \n",
    "    'laptop': 89200.45,\n",
    "    'power_bank': 5000\n",
    "}"
   ]
  },
  {
   "cell_type": "code",
   "execution_count": 2,
   "metadata": {},
   "outputs": [
    {
     "name": "stdout",
     "output_type": "stream",
     "text": [
      "{'mobile': 40000.0, 'laptop': 89200.45, 'power_bank': 5000}\n"
     ]
    }
   ],
   "source": [
    "print(prices)"
   ]
  },
  {
   "cell_type": "code",
   "execution_count": 3,
   "metadata": {},
   "outputs": [
    {
     "name": "stdout",
     "output_type": "stream",
     "text": [
      "{'mobile': 40000.0, 'laptop': 89200.45, 'power_bank': 5000}\n"
     ]
    }
   ],
   "source": [
    "print(prices)"
   ]
  },
  {
   "cell_type": "markdown",
   "metadata": {},
   "source": [
    "This is a relatively new feature of Python’s dictionaries, and it’s a very useful one. But if you’re writing code that is supposed to be run in different Python versions, then you must not rely on this feature, because it can generate buggy behaviors."
   ]
  },
  {
   "cell_type": "markdown",
   "metadata": {},
   "source": [
    "Another important feature of dictionaries is that they are <b>mutable</b> data structures, which means that you can add, delete, and update their items. It’s worth noting that this also means that they can’t be used as keys to other dictionaries, as they are not hashable objects."
   ]
  },
  {
   "cell_type": "code",
   "execution_count": 4,
   "metadata": {},
   "outputs": [],
   "source": [
    "prices['laptop'] = 90000.00"
   ]
  },
  {
   "cell_type": "code",
   "execution_count": 5,
   "metadata": {},
   "outputs": [
    {
     "name": "stdout",
     "output_type": "stream",
     "text": [
      "{'mobile': 40000.0, 'laptop': 90000.0, 'power_bank': 5000}\n"
     ]
    }
   ],
   "source": [
    "print(prices)"
   ]
  },
  {
   "cell_type": "code",
   "execution_count": null,
   "metadata": {},
   "outputs": [],
   "source": []
  },
  {
   "cell_type": "markdown",
   "metadata": {},
   "source": [
    "When it comes to iterating through a dictionary in Python, the language provides you with some great tools."
   ]
  },
  {
   "cell_type": "markdown",
   "metadata": {},
   "source": [
    "<b>Dictionary Iterating Through Keys Directly</b>"
   ]
  },
  {
   "cell_type": "code",
   "execution_count": 6,
   "metadata": {},
   "outputs": [],
   "source": [
    "prices = {\n",
    "    'mobile': 40000.0, \n",
    "    'laptop': 89200.45,\n",
    "    'power_bank': 5000\n",
    "}"
   ]
  },
  {
   "cell_type": "code",
   "execution_count": 7,
   "metadata": {},
   "outputs": [
    {
     "name": "stdout",
     "output_type": "stream",
     "text": [
      "mobile\n",
      "laptop\n",
      "power_bank\n"
     ]
    }
   ],
   "source": [
    "for k in prices:\n",
    "    print(k)"
   ]
  },
  {
   "cell_type": "markdown",
   "metadata": {},
   "source": [
    "This is the simplest way to iterate through a dictionary in Python. Just put it directly into a <code>for</code> loop, and you’re done."
   ]
  },
  {
   "cell_type": "code",
   "execution_count": 8,
   "metadata": {},
   "outputs": [
    {
     "name": "stdout",
     "output_type": "stream",
     "text": [
      "mobile - 40000.0\n",
      "laptop - 89200.45\n",
      "power_bank - 5000\n"
     ]
    }
   ],
   "source": [
    "for k in prices:\n",
    "    print(f'{k} - {prices[k]}')"
   ]
  },
  {
   "cell_type": "markdown",
   "metadata": {},
   "source": [
    "If we use this approach along with a small trick, then you can process the keys and values of any dictionary. The trick consists of using the indexing operator [ ] with the dictionary and its keys to get access to the values."
   ]
  },
  {
   "cell_type": "markdown",
   "metadata": {},
   "source": [
    "<b>Dictionary Iterating Through <code>.keys()</code></b>"
   ]
  },
  {
   "cell_type": "markdown",
   "metadata": {},
   "source": [
    "If you just need to work with the keys of a dictionary, then you can use <code>.keys()</code>, which is a method that returns a new view object containing the dictionary’s keys:"
   ]
  },
  {
   "cell_type": "code",
   "execution_count": 9,
   "metadata": {},
   "outputs": [],
   "source": [
    "prices = {\n",
    "    'mobile': 40000.0, \n",
    "    'laptop': 89200.45,\n",
    "    'power_bank': 5000\n",
    "}"
   ]
  },
  {
   "cell_type": "code",
   "execution_count": 10,
   "metadata": {},
   "outputs": [],
   "source": [
    "keys = prices.keys()"
   ]
  },
  {
   "cell_type": "code",
   "execution_count": 11,
   "metadata": {},
   "outputs": [
    {
     "data": {
      "text/plain": [
       "dict_keys(['mobile', 'laptop', 'power_bank'])"
      ]
     },
     "execution_count": 11,
     "metadata": {},
     "output_type": "execute_result"
    }
   ],
   "source": [
    "keys"
   ]
  },
  {
   "cell_type": "markdown",
   "metadata": {},
   "source": [
    "To iterate through a dictionary in Python by using <code>.keys()</code>, you just need to call <code>.keys()</code> in the header of a for loop:"
   ]
  },
  {
   "cell_type": "code",
   "execution_count": 12,
   "metadata": {},
   "outputs": [
    {
     "name": "stdout",
     "output_type": "stream",
     "text": [
      "mobile\n",
      "laptop\n",
      "power_bank\n"
     ]
    }
   ],
   "source": [
    "for k in prices.keys():\n",
    "    print(k)"
   ]
  },
  {
   "cell_type": "code",
   "execution_count": 13,
   "metadata": {},
   "outputs": [
    {
     "name": "stdout",
     "output_type": "stream",
     "text": [
      "mobile - 40000.0\n",
      "laptop - 89200.45\n",
      "power_bank - 5000\n"
     ]
    }
   ],
   "source": [
    "for k in prices.keys():\n",
    "    print(f'{k} - {prices[k]}')"
   ]
  },
  {
   "cell_type": "code",
   "execution_count": null,
   "metadata": {},
   "outputs": [],
   "source": []
  },
  {
   "cell_type": "markdown",
   "metadata": {},
   "source": [
    "<b>Dictionary Iterating Through <code>.values()</code></b>"
   ]
  },
  {
   "cell_type": "code",
   "execution_count": 14,
   "metadata": {},
   "outputs": [],
   "source": [
    "prices = {\n",
    "    'mobile': 40000.0, \n",
    "    'laptop': 89200.45,\n",
    "    'power_bank': 5000\n",
    "}"
   ]
  },
  {
   "cell_type": "code",
   "execution_count": 15,
   "metadata": {},
   "outputs": [],
   "source": [
    "values = prices.values()"
   ]
  },
  {
   "cell_type": "code",
   "execution_count": 16,
   "metadata": {},
   "outputs": [
    {
     "data": {
      "text/plain": [
       "dict_values([40000.0, 89200.45, 5000])"
      ]
     },
     "execution_count": 16,
     "metadata": {},
     "output_type": "execute_result"
    }
   ],
   "source": [
    "values"
   ]
  },
  {
   "cell_type": "code",
   "execution_count": 17,
   "metadata": {},
   "outputs": [
    {
     "name": "stdout",
     "output_type": "stream",
     "text": [
      "40000.0\n",
      "89200.45\n",
      "5000\n"
     ]
    }
   ],
   "source": [
    "for k in prices.values():\n",
    "    print(k)"
   ]
  },
  {
   "cell_type": "code",
   "execution_count": null,
   "metadata": {},
   "outputs": [],
   "source": []
  },
  {
   "cell_type": "markdown",
   "metadata": {},
   "source": [
    "It’s worth noting that they also support <b>membership tests (in)</b>, which is an important feature if you’re trying to know if a specific element is in a dictionary or not:"
   ]
  },
  {
   "cell_type": "code",
   "execution_count": 18,
   "metadata": {},
   "outputs": [],
   "source": [
    "prices = {\n",
    "    'mobile': 40000.0, \n",
    "    'laptop': 89200.45,\n",
    "    'power_bank': 5000\n",
    "}"
   ]
  },
  {
   "cell_type": "code",
   "execution_count": 19,
   "metadata": {},
   "outputs": [
    {
     "data": {
      "text/plain": [
       "True"
      ]
     },
     "execution_count": 19,
     "metadata": {},
     "output_type": "execute_result"
    }
   ],
   "source": [
    "'laptop' in prices.keys()"
   ]
  },
  {
   "cell_type": "code",
   "execution_count": 20,
   "metadata": {},
   "outputs": [
    {
     "data": {
      "text/plain": [
       "True"
      ]
     },
     "execution_count": 20,
     "metadata": {},
     "output_type": "execute_result"
    }
   ],
   "source": [
    "'t_shirt' not in prices.keys()"
   ]
  },
  {
   "cell_type": "code",
   "execution_count": 21,
   "metadata": {},
   "outputs": [
    {
     "data": {
      "text/plain": [
       "True"
      ]
     },
     "execution_count": 21,
     "metadata": {},
     "output_type": "execute_result"
    }
   ],
   "source": [
    "5000 in prices.values()"
   ]
  },
  {
   "cell_type": "code",
   "execution_count": null,
   "metadata": {},
   "outputs": [],
   "source": []
  },
  {
   "cell_type": "markdown",
   "metadata": {},
   "source": [
    "<b>Dictionary Iterating Through <code>.items()</code></b>"
   ]
  },
  {
   "cell_type": "markdown",
   "metadata": {},
   "source": [
    "When you’re working with dictionaries, it’s likely that you’ll want to work with both the keys and the values. One of the most useful ways to iterate through a dictionary in Python is by using <code>.items()</code>, which is a method that returns a new view of the dictionary’s items:"
   ]
  },
  {
   "cell_type": "code",
   "execution_count": 22,
   "metadata": {},
   "outputs": [],
   "source": [
    "prices = {\n",
    "    'mobile': 40000.0, \n",
    "    'laptop': 89200.45,\n",
    "    'power_bank': 5000\n",
    "}"
   ]
  },
  {
   "cell_type": "code",
   "execution_count": 23,
   "metadata": {},
   "outputs": [],
   "source": [
    "p_prices = prices.items()"
   ]
  },
  {
   "cell_type": "code",
   "execution_count": 24,
   "metadata": {},
   "outputs": [
    {
     "data": {
      "text/plain": [
       "dict_items([('mobile', 40000.0), ('laptop', 89200.45), ('power_bank', 5000)])"
      ]
     },
     "execution_count": 24,
     "metadata": {},
     "output_type": "execute_result"
    }
   ],
   "source": [
    "p_prices"
   ]
  },
  {
   "cell_type": "code",
   "execution_count": 25,
   "metadata": {},
   "outputs": [
    {
     "name": "stdout",
     "output_type": "stream",
     "text": [
      "<class 'dict_items'>\n"
     ]
    }
   ],
   "source": [
    "print(type(p_prices))"
   ]
  },
  {
   "cell_type": "code",
   "execution_count": null,
   "metadata": {},
   "outputs": [],
   "source": []
  },
  {
   "cell_type": "code",
   "execution_count": 26,
   "metadata": {},
   "outputs": [
    {
     "name": "stdout",
     "output_type": "stream",
     "text": [
      "('mobile', 40000.0)\n",
      "('laptop', 89200.45)\n",
      "('power_bank', 5000)\n"
     ]
    }
   ],
   "source": [
    "for item in prices.items():\n",
    "    print(item)"
   ]
  },
  {
   "cell_type": "code",
   "execution_count": 27,
   "metadata": {},
   "outputs": [
    {
     "name": "stdout",
     "output_type": "stream",
     "text": [
      "('mobile', 40000.0)\n",
      "<class 'tuple'>\n",
      "('laptop', 89200.45)\n",
      "<class 'tuple'>\n",
      "('power_bank', 5000)\n",
      "<class 'tuple'>\n"
     ]
    }
   ],
   "source": [
    "for item in prices.items():\n",
    "    print(item)\n",
    "    print(type(item))"
   ]
  },
  {
   "cell_type": "code",
   "execution_count": null,
   "metadata": {},
   "outputs": [],
   "source": []
  },
  {
   "cell_type": "markdown",
   "metadata": {},
   "source": [
    "Once you know this, you can use <b>tuple unpacking</b> to iterate through the keys and values of the dictionary you are working with. To achieve this, you just need to unpack the elements of every item into two different variables representing the key and the value:"
   ]
  },
  {
   "cell_type": "code",
   "execution_count": 28,
   "metadata": {},
   "outputs": [
    {
     "name": "stdout",
     "output_type": "stream",
     "text": [
      "mobile - 40000.0\n",
      "laptop - 89200.45\n",
      "power_bank - 5000\n"
     ]
    }
   ],
   "source": [
    "for k, v in prices.items():\n",
    "    print(f'{k} - {v}')"
   ]
  },
  {
   "cell_type": "code",
   "execution_count": null,
   "metadata": {},
   "outputs": [],
   "source": []
  },
  {
   "cell_type": "markdown",
   "metadata": {},
   "source": [
    "<b>Dictionary Modifying Values and Keys</b>"
   ]
  },
  {
   "cell_type": "markdown",
   "metadata": {},
   "source": [
    "It can be pretty common to need to modify the values and keys when you’re iterating through a dictionary in Python. There are some points you’ll need to take into account to accomplish this task."
   ]
  },
  {
   "cell_type": "markdown",
   "metadata": {},
   "source": [
    "The values, for example, can be modified whenever you need, but you’ll need to use the original dictionary and the key that maps the value you want to modify:"
   ]
  },
  {
   "cell_type": "code",
   "execution_count": 29,
   "metadata": {},
   "outputs": [],
   "source": [
    "prices = {\n",
    "    'mobile': 40000.0, \n",
    "    'laptop': 89200.45,\n",
    "    'power_bank': 5000\n",
    "}"
   ]
  },
  {
   "cell_type": "code",
   "execution_count": 30,
   "metadata": {},
   "outputs": [],
   "source": [
    "for k, v in prices.items():\n",
    "    prices[k] = v * 2"
   ]
  },
  {
   "cell_type": "code",
   "execution_count": 31,
   "metadata": {},
   "outputs": [
    {
     "data": {
      "text/plain": [
       "{'mobile': 80000.0, 'laptop': 178400.9, 'power_bank': 10000}"
      ]
     },
     "execution_count": 31,
     "metadata": {},
     "output_type": "execute_result"
    }
   ],
   "source": [
    "prices"
   ]
  },
  {
   "cell_type": "code",
   "execution_count": null,
   "metadata": {},
   "outputs": [],
   "source": []
  },
  {
   "cell_type": "code",
   "execution_count": 32,
   "metadata": {},
   "outputs": [],
   "source": [
    "prices = {\n",
    "    'mobile': 40000.0, \n",
    "    'laptop': 89200.45,\n",
    "    'power_bank': 5000\n",
    "}"
   ]
  },
  {
   "cell_type": "code",
   "execution_count": 33,
   "metadata": {},
   "outputs": [],
   "source": [
    "for k in list(prices.keys()):   # Use a list instead of a view\n",
    "    if k == 'laptop':\n",
    "        del prices[k]           # Delete a key from prices"
   ]
  },
  {
   "cell_type": "code",
   "execution_count": 34,
   "metadata": {},
   "outputs": [
    {
     "data": {
      "text/plain": [
       "{'mobile': 40000.0, 'power_bank': 5000}"
      ]
     },
     "execution_count": 34,
     "metadata": {},
     "output_type": "execute_result"
    }
   ],
   "source": [
    "prices"
   ]
  },
  {
   "cell_type": "code",
   "execution_count": null,
   "metadata": {},
   "outputs": [],
   "source": []
  },
  {
   "cell_type": "code",
   "execution_count": 35,
   "metadata": {},
   "outputs": [],
   "source": [
    "prices = {\n",
    "    'mobile': 40000.0, \n",
    "    'laptop': 89200.45,\n",
    "    'power_bank': 5000\n",
    "}"
   ]
  },
  {
   "cell_type": "code",
   "execution_count": 36,
   "metadata": {},
   "outputs": [],
   "source": [
    "# for k in prices.keys():   \n",
    "#     if k == 'laptop':\n",
    "#         del prices[k]          \n",
    "        \n",
    "# RuntimeError: dictionary changed size during iteration"
   ]
  },
  {
   "cell_type": "code",
   "execution_count": null,
   "metadata": {},
   "outputs": [],
   "source": []
  },
  {
   "cell_type": "markdown",
   "metadata": {},
   "source": [
    "<b>Turning Keys Into Values and Vice Versa</b>"
   ]
  },
  {
   "cell_type": "markdown",
   "metadata": {},
   "source": [
    "Suppose you have a dictionary and for some reason need to turn keys into values and vice versa. In this situation, you can use a <code>for</code> loop to iterate through the dictionary and build the new dictionary by using the keys as values and vice versa:"
   ]
  },
  {
   "cell_type": "code",
   "execution_count": 37,
   "metadata": {},
   "outputs": [],
   "source": [
    "prices = {\n",
    "    'mobile': 40000.0, \n",
    "    'laptop': 89200.45,\n",
    "    'power_bank': 5000\n",
    "}"
   ]
  },
  {
   "cell_type": "code",
   "execution_count": 38,
   "metadata": {},
   "outputs": [],
   "source": [
    "new_dict = {}\n",
    "\n",
    "for k, v in prices.items():\n",
    "    new_dict[v] = k"
   ]
  },
  {
   "cell_type": "code",
   "execution_count": 39,
   "metadata": {},
   "outputs": [
    {
     "data": {
      "text/plain": [
       "{40000.0: 'mobile', 89200.45: 'laptop', 5000: 'power_bank'}"
      ]
     },
     "execution_count": 39,
     "metadata": {},
     "output_type": "execute_result"
    }
   ],
   "source": [
    "new_dict"
   ]
  },
  {
   "cell_type": "code",
   "execution_count": null,
   "metadata": {},
   "outputs": [],
   "source": []
  },
  {
   "cell_type": "markdown",
   "metadata": {},
   "source": [
    "<b>Filtering Items</b>"
   ]
  },
  {
   "cell_type": "markdown",
   "metadata": {},
   "source": [
    "Sometimes you’ll be in situations where you have a dictionary and you want to create a new one to store only the data that satisfies a given condition. You can do this with an <code>if</code> statement inside a <code>for</code> loop as follows:"
   ]
  },
  {
   "cell_type": "code",
   "execution_count": 40,
   "metadata": {},
   "outputs": [],
   "source": [
    "prices = {\n",
    "    'mobile': 40000.0, \n",
    "    'laptop': 89200.45,\n",
    "    'power_bank': 5000\n",
    "}"
   ]
  },
  {
   "cell_type": "code",
   "execution_count": 41,
   "metadata": {},
   "outputs": [],
   "source": [
    "new_dict = {}   \n",
    "\n",
    "for k, v in prices.items():\n",
    "    if v >= 10000:\n",
    "        new_dict[k] = v"
   ]
  },
  {
   "cell_type": "code",
   "execution_count": 42,
   "metadata": {},
   "outputs": [
    {
     "data": {
      "text/plain": [
       "{'mobile': 40000.0, 'laptop': 89200.45}"
      ]
     },
     "execution_count": 42,
     "metadata": {},
     "output_type": "execute_result"
    }
   ],
   "source": [
    "new_dict"
   ]
  },
  {
   "cell_type": "code",
   "execution_count": null,
   "metadata": {},
   "outputs": [],
   "source": []
  },
  {
   "cell_type": "markdown",
   "metadata": {},
   "source": [
    "<b>Doing Some Calculations</b>"
   ]
  },
  {
   "cell_type": "markdown",
   "metadata": {},
   "source": [
    "It’s also common to need to do some calculations while you iterate through a dictionary in Python. Suppose you’ve stored the data for your product prices in a dictionary, and now you want to know the total price of the products."
   ]
  },
  {
   "cell_type": "markdown",
   "metadata": {},
   "source": [
    "To solve this problem you could define a variable with an initial value of zero. Then, you can accumulate every value of your dictionary in that variable:"
   ]
  },
  {
   "cell_type": "code",
   "execution_count": 43,
   "metadata": {},
   "outputs": [],
   "source": [
    "prices = {\n",
    "    'mobile': 40000.0, \n",
    "    'laptop': 89200.45,\n",
    "    'power_bank': 5000\n",
    "}"
   ]
  },
  {
   "cell_type": "code",
   "execution_count": 44,
   "metadata": {},
   "outputs": [],
   "source": [
    "total_price = 0.00\n",
    "for v in prices.values():\n",
    "    total_price += v        # Accumulate the values in total_price"
   ]
  },
  {
   "cell_type": "code",
   "execution_count": 45,
   "metadata": {},
   "outputs": [
    {
     "data": {
      "text/plain": [
       "134200.45"
      ]
     },
     "execution_count": 45,
     "metadata": {},
     "output_type": "execute_result"
    }
   ],
   "source": [
    "total_price"
   ]
  },
  {
   "cell_type": "code",
   "execution_count": null,
   "metadata": {},
   "outputs": [],
   "source": []
  },
  {
   "cell_type": "markdown",
   "metadata": {},
   "source": [
    "<b>Dictionary Comprehension</b>"
   ]
  },
  {
   "cell_type": "markdown",
   "metadata": {},
   "source": [
    "A <b>dictionary comprehension</b> is a compact way to process all or part of the elements in a collection and return a dictionary as a results. In contrast to <b>list comprehensions</b>, they need two expressions separated with a colon followed by <code>for</code> and <code>if</code> (optional) clauses. When a dictionary comprehension is run, the resulting key-value pairs are inserted into a new dictionary in the same order in which they were produced."
   ]
  },
  {
   "cell_type": "markdown",
   "metadata": {},
   "source": [
    "Suppose, for example, that you have two lists of data, and you need to create a new dictionary from them. In this case, you can use Python’s <code>zip(*iterables)</code> to loop over the elements of both lists in pairs:"
   ]
  },
  {
   "cell_type": "code",
   "execution_count": 46,
   "metadata": {},
   "outputs": [],
   "source": [
    "pro = ['mobile', 'laptop', 'power_bank']\n",
    "price = [40000.0, 89200.45, 5000]"
   ]
  },
  {
   "cell_type": "code",
   "execution_count": 47,
   "metadata": {},
   "outputs": [
    {
     "name": "stdout",
     "output_type": "stream",
     "text": [
      "{'mobile': 40000.0, 'laptop': 89200.45, 'power_bank': 5000}\n"
     ]
    }
   ],
   "source": [
    "new_dict1 = {}\n",
    "for k, v in zip(pro, price):\n",
    "    new_dict1[k] = v\n",
    "    \n",
    "print(new_dict1)"
   ]
  },
  {
   "cell_type": "code",
   "execution_count": 48,
   "metadata": {},
   "outputs": [
    {
     "name": "stdout",
     "output_type": "stream",
     "text": [
      "{'mobile': 40000.0, 'laptop': 89200.45, 'power_bank': 5000}\n"
     ]
    }
   ],
   "source": [
    "new_dict2 = {k: v for k, v in zip(pro, price)}  # dictionary comprehension\n",
    "\n",
    "print(new_dict2)"
   ]
  },
  {
   "cell_type": "markdown",
   "metadata": {},
   "source": [
    "Here, <code>zip()</code> receives two iterables (pro and price) as arguments and makes an iterator that aggregates elements from each iterable. The <code>tuple</code> objects generated by <code>zip()</code> are then unpacked into k and v, which are finally used to create the new dictionary.\n",
    "\n",
    "Dictionary comprehensions open up a wide spectrum of new possibilities and provide you with a great tool to iterate through a dictionary in Python."
   ]
  },
  {
   "cell_type": "code",
   "execution_count": null,
   "metadata": {},
   "outputs": [],
   "source": []
  },
  {
   "cell_type": "markdown",
   "metadata": {},
   "source": [
    "<b>Turning Keys Into Values and Vice Versa: Revisited</b>"
   ]
  },
  {
   "cell_type": "code",
   "execution_count": 49,
   "metadata": {},
   "outputs": [],
   "source": [
    "prices = {\n",
    "    'mobile': 40000.0, \n",
    "    'laptop': 89200.45,\n",
    "    'power_bank': 5000\n",
    "}"
   ]
  },
  {
   "cell_type": "code",
   "execution_count": 50,
   "metadata": {},
   "outputs": [
    {
     "name": "stdout",
     "output_type": "stream",
     "text": [
      "{40000.0: 'mobile', 89200.45: 'laptop', 5000: 'power_bank'}\n"
     ]
    }
   ],
   "source": [
    "new_dict = {}\n",
    "\n",
    "for k, v in prices.items():\n",
    "    new_dict[v] = k\n",
    "        \n",
    "print(new_dict)"
   ]
  },
  {
   "cell_type": "code",
   "execution_count": 51,
   "metadata": {},
   "outputs": [
    {
     "name": "stdout",
     "output_type": "stream",
     "text": [
      "{40000.0: 'mobile', 89200.45: 'laptop', 5000: 'power_bank'}\n"
     ]
    }
   ],
   "source": [
    "new_dict = {v: k for k, v in prices.items()}  # dictionary comprehension\n",
    "\n",
    "print(new_dict)"
   ]
  },
  {
   "cell_type": "code",
   "execution_count": null,
   "metadata": {},
   "outputs": [],
   "source": []
  },
  {
   "cell_type": "markdown",
   "metadata": {},
   "source": [
    "<b>Filtering Items: Revisited</b>"
   ]
  },
  {
   "cell_type": "code",
   "execution_count": 52,
   "metadata": {},
   "outputs": [],
   "source": [
    "prices = {\n",
    "    'mobile': 40000.0, \n",
    "    'laptop': 89200.45,\n",
    "    'power_bank': 5000\n",
    "}"
   ]
  },
  {
   "cell_type": "code",
   "execution_count": 53,
   "metadata": {},
   "outputs": [
    {
     "name": "stdout",
     "output_type": "stream",
     "text": [
      "{'mobile': 40000.0, 'laptop': 89200.45}\n"
     ]
    }
   ],
   "source": [
    "new_dict = {}   \n",
    "\n",
    "for k, v in prices.items():\n",
    "    if v >= 10000:\n",
    "        new_dict[k] = v\n",
    "        \n",
    "print(new_dict)"
   ]
  },
  {
   "cell_type": "code",
   "execution_count": 54,
   "metadata": {},
   "outputs": [
    {
     "name": "stdout",
     "output_type": "stream",
     "text": [
      "{'mobile': 40000.0, 'laptop': 89200.45}\n"
     ]
    }
   ],
   "source": [
    "new_dict = {k: v for k, v in prices.items() if v >= 10000}  # dictionary comprehension\n",
    "\n",
    "print(new_dict)"
   ]
  },
  {
   "cell_type": "code",
   "execution_count": null,
   "metadata": {},
   "outputs": [],
   "source": []
  },
  {
   "cell_type": "markdown",
   "metadata": {},
   "source": [
    "<b>Doing Some Calculations: Revisited</b>"
   ]
  },
  {
   "cell_type": "code",
   "execution_count": 55,
   "metadata": {},
   "outputs": [],
   "source": [
    "prices = {\n",
    "    'mobile': 40000.0, \n",
    "    'laptop': 89200.45,\n",
    "    'power_bank': 5000\n",
    "}"
   ]
  },
  {
   "cell_type": "code",
   "execution_count": 56,
   "metadata": {},
   "outputs": [
    {
     "name": "stdout",
     "output_type": "stream",
     "text": [
      "134200.45\n"
     ]
    }
   ],
   "source": [
    "total_price = 0.00\n",
    "for v in prices.values():\n",
    "    total_price += v\n",
    "    \n",
    "print(total_price)"
   ]
  },
  {
   "cell_type": "code",
   "execution_count": 57,
   "metadata": {},
   "outputs": [
    {
     "name": "stdout",
     "output_type": "stream",
     "text": [
      "134200.45\n"
     ]
    }
   ],
   "source": [
    "total_price = sum({v for v in prices.values()})  # dictionary comprehension\n",
    "\n",
    "print(total_price)"
   ]
  },
  {
   "cell_type": "code",
   "execution_count": 58,
   "metadata": {},
   "outputs": [
    {
     "name": "stdout",
     "output_type": "stream",
     "text": [
      "134200.45\n"
     ]
    }
   ],
   "source": [
    "total_price = sum([v for v in prices.values()])  # list comprehension\n",
    "\n",
    "print(total_price)"
   ]
  },
  {
   "cell_type": "markdown",
   "metadata": {},
   "source": [
    "If you’re working with a really large dictionary, and memory usage is a problem for you, then you can use a <b>generator expression</b> instead of a list comprehension. A generator expression is an expression that returns an iterator. It looks like a list comprehension, but instead of brackets you need to use parentheses to define it:"
   ]
  },
  {
   "cell_type": "code",
   "execution_count": 59,
   "metadata": {},
   "outputs": [
    {
     "name": "stdout",
     "output_type": "stream",
     "text": [
      "134200.45\n"
     ]
    }
   ],
   "source": [
    "total_price = sum(v for v in prices.values())  # generator expression\n",
    "\n",
    "print(total_price)"
   ]
  },
  {
   "cell_type": "markdown",
   "metadata": {},
   "source": [
    "If you change the square brackets for a pair of parentheses (the parentheses of <code>sum()</code> here), you’ll be turning the list comprehension into a generator expression, and your code will be memory efficient, because generator expressions yield elements on demand. Instead of creating and storing the whole list in memory, you’ll only have to store one element at a time."
   ]
  },
  {
   "cell_type": "markdown",
   "metadata": {},
   "source": [
    "Finally, there is a simpler way to solve this problem by just using <code>prices.values()</code> directly as an argument to <code>sum()</code>:"
   ]
  },
  {
   "cell_type": "code",
   "execution_count": 60,
   "metadata": {},
   "outputs": [
    {
     "name": "stdout",
     "output_type": "stream",
     "text": [
      "134200.45\n"
     ]
    }
   ],
   "source": [
    "total_price = sum(prices.values())\n",
    "\n",
    "print(total_price)"
   ]
  },
  {
   "cell_type": "markdown",
   "metadata": {},
   "source": [
    "<code>sum()</code> receives an iterable as an argument and returns the total sum of its elements. Here, <code>prices.values()</code> plays the role of the iterable passed to <code>sum()</code>. The result is the total price you were looking for."
   ]
  },
  {
   "cell_type": "code",
   "execution_count": null,
   "metadata": {},
   "outputs": [],
   "source": []
  },
  {
   "cell_type": "markdown",
   "metadata": {},
   "source": [
    "<b>Sorting a Dictionary</b>"
   ]
  },
  {
   "cell_type": "markdown",
   "metadata": {},
   "source": [
    "Sometimes you may need to iterate through a dictionary in Python but want to do it in sorted order. This can be achieved by using <code>sorted()</code>. When you call <code>sorted(iterable)</code>, you get a <code>list</code> with the elements of <code>iterable</code> in sorted order."
   ]
  },
  {
   "cell_type": "markdown",
   "metadata": {},
   "source": [
    "<b>Sorted by Keys</b>"
   ]
  },
  {
   "cell_type": "code",
   "execution_count": 61,
   "metadata": {},
   "outputs": [],
   "source": [
    "prices = {\n",
    "    'mobile': 40000.0, \n",
    "    'laptop': 89200.45,\n",
    "    'power_bank': 5000\n",
    "}"
   ]
  },
  {
   "cell_type": "code",
   "execution_count": 62,
   "metadata": {},
   "outputs": [
    {
     "name": "stdout",
     "output_type": "stream",
     "text": [
      "laptop - 89200.45\n",
      "mobile - 40000.0\n",
      "power_bank - 5000\n"
     ]
    }
   ],
   "source": [
    "for k in sorted(prices):\n",
    "    print(f'{k} - {prices[k]}')"
   ]
  },
  {
   "cell_type": "code",
   "execution_count": null,
   "metadata": {},
   "outputs": [],
   "source": []
  },
  {
   "cell_type": "code",
   "execution_count": 63,
   "metadata": {},
   "outputs": [
    {
     "name": "stdout",
     "output_type": "stream",
     "text": [
      "{'laptop': 89200.45, 'mobile': 40000.0, 'power_bank': 5000}\n"
     ]
    }
   ],
   "source": [
    "sorted_price = {k: prices[k] for k in sorted(prices)}\n",
    "\n",
    "print(sorted_price)"
   ]
  },
  {
   "cell_type": "code",
   "execution_count": null,
   "metadata": {},
   "outputs": [],
   "source": []
  },
  {
   "cell_type": "markdown",
   "metadata": {},
   "source": [
    "<b>Sorted by Values</b>"
   ]
  },
  {
   "cell_type": "code",
   "execution_count": 64,
   "metadata": {},
   "outputs": [],
   "source": [
    "prices = {\n",
    "    'mobile': 40000.0, \n",
    "    'laptop': 89200.45,\n",
    "    'power_bank': 5000\n",
    "}"
   ]
  },
  {
   "cell_type": "code",
   "execution_count": 65,
   "metadata": {},
   "outputs": [
    {
     "data": {
      "text/plain": [
       "dict_items([('mobile', 40000.0), ('laptop', 89200.45), ('power_bank', 5000)])"
      ]
     },
     "execution_count": 65,
     "metadata": {},
     "output_type": "execute_result"
    }
   ],
   "source": [
    "prices.items()"
   ]
  },
  {
   "cell_type": "code",
   "execution_count": 66,
   "metadata": {},
   "outputs": [],
   "source": [
    "def func(price):\n",
    "    return price[1]"
   ]
  },
  {
   "cell_type": "code",
   "execution_count": 67,
   "metadata": {},
   "outputs": [
    {
     "name": "stdout",
     "output_type": "stream",
     "text": [
      "power_bank - 5000\n",
      "mobile - 40000.0\n",
      "laptop - 89200.45\n"
     ]
    }
   ],
   "source": [
    "for k, v in sorted(prices.items(), key=func):\n",
    "    print(f'{k} - {v}')"
   ]
  },
  {
   "cell_type": "code",
   "execution_count": null,
   "metadata": {},
   "outputs": [],
   "source": []
  },
  {
   "cell_type": "code",
   "execution_count": 68,
   "metadata": {},
   "outputs": [
    {
     "name": "stdout",
     "output_type": "stream",
     "text": [
      "{'power_bank': 5000, 'mobile': 40000.0, 'laptop': 89200.45}\n"
     ]
    }
   ],
   "source": [
    "sorted_price = {k: v for k, v in sorted(prices.items(), key=lambda price: price[1])}\n",
    "\n",
    "print(sorted_price)"
   ]
  },
  {
   "cell_type": "code",
   "execution_count": null,
   "metadata": {},
   "outputs": [],
   "source": []
  },
  {
   "cell_type": "code",
   "execution_count": 69,
   "metadata": {},
   "outputs": [
    {
     "name": "stdout",
     "output_type": "stream",
     "text": [
      "{5000, 40000.0, 89200.45}\n"
     ]
    }
   ],
   "source": [
    "sorted_price = {v for v in sorted(prices.values())}\n",
    "\n",
    "print(sorted_price)"
   ]
  },
  {
   "cell_type": "code",
   "execution_count": null,
   "metadata": {},
   "outputs": [],
   "source": []
  },
  {
   "cell_type": "code",
   "execution_count": 70,
   "metadata": {},
   "outputs": [],
   "source": [
    "prices = {\n",
    "    'mobile': 40000.0, \n",
    "    'laptop': 89200.45,\n",
    "    'power_bank': 5000\n",
    "}"
   ]
  },
  {
   "cell_type": "code",
   "execution_count": 71,
   "metadata": {},
   "outputs": [
    {
     "name": "stdout",
     "output_type": "stream",
     "text": [
      "{'power_bank': 5000, 'mobile': 40000.0, 'laptop': 89200.45}\n"
     ]
    }
   ],
   "source": [
    "sorted_price = {k: v for k, v in sorted(prices.items(), key=lambda price: price[1])}\n",
    "\n",
    "print(sorted_price)  # Sorted by Values"
   ]
  },
  {
   "cell_type": "code",
   "execution_count": 72,
   "metadata": {},
   "outputs": [
    {
     "name": "stdout",
     "output_type": "stream",
     "text": [
      "{'laptop': 89200.45, 'mobile': 40000.0, 'power_bank': 5000}\n"
     ]
    }
   ],
   "source": [
    "# Reversed\n",
    "sorted_price = {k: v for k, v in sorted(prices.items(), key=lambda price: price[1], reverse=True)}\n",
    "\n",
    "print(sorted_price)  # Sorted by Values"
   ]
  },
  {
   "cell_type": "code",
   "execution_count": null,
   "metadata": {},
   "outputs": [],
   "source": []
  },
  {
   "cell_type": "markdown",
   "metadata": {},
   "source": [
    "<b>Using Some of Python’s Built-In Functions</b>"
   ]
  },
  {
   "cell_type": "markdown",
   "metadata": {},
   "source": [
    "Python provides some built-in functions that could be useful when you’re working with collections, like dictionaries. These functions are a sort of iteration tool that provides you with another way of iterating through a dictionary in Python. "
   ]
  },
  {
   "cell_type": "markdown",
   "metadata": {},
   "source": [
    "<b><code>map()</code> Built-In Function</b>"
   ]
  },
  {
   "cell_type": "code",
   "execution_count": 73,
   "metadata": {},
   "outputs": [],
   "source": [
    "prices = {\n",
    "    'mobile': 40000.0, \n",
    "    'laptop': 89200.45,\n",
    "    'power_bank': 5000\n",
    "}"
   ]
  },
  {
   "cell_type": "code",
   "execution_count": 74,
   "metadata": {},
   "outputs": [],
   "source": [
    "# for k, v in prices.items():\n",
    "#     prices[k] = v * 2\n",
    "    \n",
    "# print(prices)"
   ]
  },
  {
   "cell_type": "code",
   "execution_count": 75,
   "metadata": {},
   "outputs": [
    {
     "name": "stdout",
     "output_type": "stream",
     "text": [
      "{'mobile': 80000.0, 'laptop': 178400.9, 'power_bank': 10000}\n"
     ]
    }
   ],
   "source": [
    "new_prices = dict(map(lambda price: (price[0], price[1] * 2), prices.items()))\n",
    "\n",
    "print(new_prices)"
   ]
  },
  {
   "cell_type": "code",
   "execution_count": null,
   "metadata": {},
   "outputs": [],
   "source": []
  },
  {
   "cell_type": "markdown",
   "metadata": {},
   "source": [
    "<b><code>filter()</code> Built-In Function</b>"
   ]
  },
  {
   "cell_type": "code",
   "execution_count": 76,
   "metadata": {},
   "outputs": [],
   "source": [
    "prices = {\n",
    "    'mobile': 40000.0, \n",
    "    'laptop': 89200.45,\n",
    "    'power_bank': 5000\n",
    "}"
   ]
  },
  {
   "cell_type": "code",
   "execution_count": 77,
   "metadata": {},
   "outputs": [],
   "source": [
    "# new_dict = {}   \n",
    "\n",
    "# for k, v in prices.items():\n",
    "#     if v >= 10000:\n",
    "#         new_dict[k] = v\n",
    "        \n",
    "# print(new_dict)"
   ]
  },
  {
   "cell_type": "code",
   "execution_count": 78,
   "metadata": {},
   "outputs": [
    {
     "name": "stdout",
     "output_type": "stream",
     "text": [
      "['mobile', 'laptop']\n"
     ]
    }
   ],
   "source": [
    "new_dict1 = list(filter(lambda price: prices[price] >= 10000, prices.keys()))\n",
    "\n",
    "print(new_dict1)"
   ]
  },
  {
   "cell_type": "code",
   "execution_count": 79,
   "metadata": {},
   "outputs": [
    {
     "name": "stdout",
     "output_type": "stream",
     "text": [
      "{'mobile': 40000.0, 'laptop': 89200.45}\n"
     ]
    }
   ],
   "source": [
    "new_dict2 = dict(filter(lambda price: price[1] >= 10000, prices.items()))\n",
    "\n",
    "print(new_dict2)"
   ]
  },
  {
   "cell_type": "code",
   "execution_count": null,
   "metadata": {},
   "outputs": [],
   "source": []
  },
  {
   "cell_type": "markdown",
   "metadata": {},
   "source": [
    "<b>Using <code>collections.ChainMap</code></b>"
   ]
  },
  {
   "cell_type": "markdown",
   "metadata": {},
   "source": [
    "<code>collections</code> is a useful module from the Python Standard Library that provides specialized container data types. One of these data types is <code>ChainMap</code>, which is a dictionary-like class for creating a single view of multiple mappings (like dictionaries). With <code>ChainMap</code>, you can group multiple dictionaries together to create a single, updateable view."
   ]
  },
  {
   "cell_type": "markdown",
   "metadata": {},
   "source": [
    "Now, suppose you have two (or more) dictionaries, and you need to iterate through them together as one. To achieve this, you can create a <code>ChainMap</code> object and initialize it with your dictionaries:"
   ]
  },
  {
   "cell_type": "code",
   "execution_count": 80,
   "metadata": {},
   "outputs": [],
   "source": [
    "prices1 = {\n",
    "    'mobile': 40000.0, \n",
    "    'laptop': 89200.45\n",
    "}"
   ]
  },
  {
   "cell_type": "code",
   "execution_count": 81,
   "metadata": {},
   "outputs": [],
   "source": [
    "prices2 = {\n",
    "    'power_bank': 5000,\n",
    "    't_shirt': 4000\n",
    "}"
   ]
  },
  {
   "cell_type": "code",
   "execution_count": 82,
   "metadata": {},
   "outputs": [],
   "source": [
    "from collections import ChainMap"
   ]
  },
  {
   "cell_type": "code",
   "execution_count": 83,
   "metadata": {},
   "outputs": [],
   "source": [
    "chained_dict = ChainMap(prices2, prices1)"
   ]
  },
  {
   "cell_type": "code",
   "execution_count": 84,
   "metadata": {},
   "outputs": [
    {
     "data": {
      "text/plain": [
       "ChainMap({'power_bank': 5000, 't_shirt': 4000}, {'mobile': 40000.0, 'laptop': 89200.45})"
      ]
     },
     "execution_count": 84,
     "metadata": {},
     "output_type": "execute_result"
    }
   ],
   "source": [
    "chained_dict"
   ]
  },
  {
   "cell_type": "code",
   "execution_count": 85,
   "metadata": {},
   "outputs": [
    {
     "data": {
      "text/plain": [
       "{'mobile': 40000.0, 'laptop': 89200.45, 'power_bank': 5000, 't_shirt': 4000}"
      ]
     },
     "execution_count": 85,
     "metadata": {},
     "output_type": "execute_result"
    }
   ],
   "source": [
    "dict(chained_dict)"
   ]
  },
  {
   "cell_type": "code",
   "execution_count": 86,
   "metadata": {},
   "outputs": [
    {
     "name": "stdout",
     "output_type": "stream",
     "text": [
      "mobile - 40000.0\n",
      "laptop - 89200.45\n",
      "power_bank - 5000\n",
      "t_shirt - 4000\n"
     ]
    }
   ],
   "source": [
    "for k in chained_dict:\n",
    "    print(f'{k} - {chained_dict[k]}')"
   ]
  },
  {
   "cell_type": "code",
   "execution_count": null,
   "metadata": {},
   "outputs": [],
   "source": []
  },
  {
   "cell_type": "code",
   "execution_count": 87,
   "metadata": {},
   "outputs": [],
   "source": [
    "zipped_dict1 = zip(prices1, prices2)"
   ]
  },
  {
   "cell_type": "code",
   "execution_count": 88,
   "metadata": {},
   "outputs": [
    {
     "data": {
      "text/plain": [
       "<zip at 0x1c3a8d5aa40>"
      ]
     },
     "execution_count": 88,
     "metadata": {},
     "output_type": "execute_result"
    }
   ],
   "source": [
    "zipped_dict1"
   ]
  },
  {
   "cell_type": "code",
   "execution_count": 89,
   "metadata": {},
   "outputs": [
    {
     "data": {
      "text/plain": [
       "{'mobile': 'power_bank', 'laptop': 't_shirt'}"
      ]
     },
     "execution_count": 89,
     "metadata": {},
     "output_type": "execute_result"
    }
   ],
   "source": [
    "dict(zipped_dict1)"
   ]
  },
  {
   "cell_type": "code",
   "execution_count": null,
   "metadata": {},
   "outputs": [],
   "source": []
  },
  {
   "cell_type": "code",
   "execution_count": 90,
   "metadata": {},
   "outputs": [],
   "source": [
    "prices1.update(prices2)"
   ]
  },
  {
   "cell_type": "code",
   "execution_count": 91,
   "metadata": {},
   "outputs": [
    {
     "data": {
      "text/plain": [
       "{'mobile': 40000.0, 'laptop': 89200.45, 'power_bank': 5000, 't_shirt': 4000}"
      ]
     },
     "execution_count": 91,
     "metadata": {},
     "output_type": "execute_result"
    }
   ],
   "source": [
    "prices1"
   ]
  },
  {
   "cell_type": "code",
   "execution_count": null,
   "metadata": {},
   "outputs": [],
   "source": []
  },
  {
   "cell_type": "markdown",
   "metadata": {},
   "source": [
    "<b>Using the Dictionary Unpacking Operator (**)</b>"
   ]
  },
  {
   "cell_type": "markdown",
   "metadata": {},
   "source": [
    "Python 3.5 brings a new and interesting feature. PEP 448 - Additional Unpacking Generalizations can make your life easier when it comes to iterating through multiple dictionaries in Python."
   ]
  },
  {
   "cell_type": "markdown",
   "metadata": {},
   "source": [
    "Suppose you have two (or more) dictionaries, and you need to iterate through them together, without using <code>collections.ChainMap</code> or other module, as you’ve seen in the previous concepts. In this case, you can use the dictionary unpacking operator (<code>**</code>) to merge the two dictionaries into a new one and then iterate through it:"
   ]
  },
  {
   "cell_type": "code",
   "execution_count": 92,
   "metadata": {},
   "outputs": [],
   "source": [
    "prices1 = {\n",
    "    'mobile': 40000.0, \n",
    "    'laptop': 89200.45\n",
    "}"
   ]
  },
  {
   "cell_type": "code",
   "execution_count": 93,
   "metadata": {},
   "outputs": [],
   "source": [
    "prices2 = {\n",
    "    'power_bank': 5000,\n",
    "    't_shirt': 4000\n",
    "}"
   ]
  },
  {
   "cell_type": "code",
   "execution_count": 94,
   "metadata": {},
   "outputs": [
    {
     "data": {
      "text/plain": [
       "{'mobile': 40000.0, 'laptop': 89200.45, 'power_bank': 5000, 't_shirt': 4000}"
      ]
     },
     "execution_count": 94,
     "metadata": {},
     "output_type": "execute_result"
    }
   ],
   "source": [
    "# How to use the unpacking operator **\n",
    "\n",
    "{**prices1, **prices2}"
   ]
  },
  {
   "cell_type": "code",
   "execution_count": 95,
   "metadata": {},
   "outputs": [
    {
     "name": "stdout",
     "output_type": "stream",
     "text": [
      "mobile - 40000.0\n",
      "laptop - 89200.45\n",
      "power_bank - 5000\n",
      "t_shirt - 4000\n"
     ]
    }
   ],
   "source": [
    "# You can use this feature to iterate through multiple dictionaries\n",
    "\n",
    "for k, v in {**prices1, **prices2}.items():\n",
    "    print(f'{k} - {v}')"
   ]
  },
  {
   "cell_type": "code",
   "execution_count": null,
   "metadata": {},
   "outputs": [],
   "source": []
  },
  {
   "cell_type": "markdown",
   "metadata": {},
   "source": [
    "The dictionary unpacking operator (<code>**</code>) is really an awesome feature in Python. It allows you to merge multiple dictionaries into a new one."
   ]
  },
  {
   "cell_type": "code",
   "execution_count": null,
   "metadata": {},
   "outputs": [],
   "source": []
  },
  {
   "cell_type": "markdown",
   "metadata": {},
   "source": [
    "@mrizwanse"
   ]
  },
  {
   "cell_type": "markdown",
   "metadata": {},
   "source": [
    "## Happy Learning 😊"
   ]
  }
 ],
 "metadata": {
  "kernelspec": {
   "display_name": "Python 3",
   "language": "python",
   "name": "python3"
  },
  "language_info": {
   "codemirror_mode": {
    "name": "ipython",
    "version": 3
   },
   "file_extension": ".py",
   "mimetype": "text/x-python",
   "name": "python",
   "nbconvert_exporter": "python",
   "pygments_lexer": "ipython3",
   "version": "3.8.3"
  }
 },
 "nbformat": 4,
 "nbformat_minor": 4
}
