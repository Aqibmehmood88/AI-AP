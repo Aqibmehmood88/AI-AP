{
 "cells": [
  {
   "cell_type": "markdown",
   "metadata": {},
   "source": [
    "## Solutions: Python Self Task 1 - AP & AI\n",
    "<hr>"
   ]
  },
  {
   "cell_type": "markdown",
   "metadata": {},
   "source": [
    "<b>Problem Definition:</b>\n",
    "\n",
    "    Problem Feature: Valid Email\n",
    "    Aim: Email address parsing\n",
    "    Variables: userName, domainName, domainExtension\n",
    "    Input and Output: \n",
    "        User-Input: rizwan.datahub@gmail.com or kashif@corvit.com\n",
    "        Expected-Output:\n",
    "        - UserName:          rizwan.datahub\n",
    "        - Domain:            gmail.com\n",
    "        - Domain Extension:  com"
   ]
  },
  {
   "cell_type": "markdown",
   "metadata": {},
   "source": [
    "#### Solution 1: Using Built-in string Methods"
   ]
  },
  {
   "cell_type": "code",
   "execution_count": 1,
   "metadata": {},
   "outputs": [],
   "source": [
    "email_address = 'rizwan.datahub@gmail.com'"
   ]
  },
  {
   "cell_type": "code",
   "execution_count": 2,
   "metadata": {},
   "outputs": [],
   "source": [
    "username, domain = email_address.split('@')"
   ]
  },
  {
   "cell_type": "code",
   "execution_count": 3,
   "metadata": {},
   "outputs": [],
   "source": [
    "domain_extension = domain[domain.find('.') + 1 : ]"
   ]
  },
  {
   "cell_type": "code",
   "execution_count": 4,
   "metadata": {},
   "outputs": [
    {
     "name": "stdout",
     "output_type": "stream",
     "text": [
      "Original Email address: rizwan.datahub@gmail.com\n",
      "Username: rizwan.datahub\n",
      "Domain: gmail.com\n",
      "Domain Extension: com\n"
     ]
    }
   ],
   "source": [
    "print('Original Email address:', email_address)\n",
    "print('Username:', username)\n",
    "print('Domain:', domain)\n",
    "print('Domain Extension:', domain_extension)"
   ]
  },
  {
   "cell_type": "code",
   "execution_count": null,
   "metadata": {},
   "outputs": [],
   "source": []
  },
  {
   "cell_type": "markdown",
   "metadata": {},
   "source": [
    "#### Solution 2: Without Nested <code>while</code> Loops "
   ]
  },
  {
   "cell_type": "code",
   "execution_count": 5,
   "metadata": {},
   "outputs": [],
   "source": [
    "username1 = domain1 = domain_extension1 = ''\n",
    "\n",
    "i = j = k = 0\n",
    "while i < len(email_address):\n",
    "    if email_address[i] != '@':\n",
    "        username1 += email_address[i]\n",
    "    else:\n",
    "        j = i + 1\n",
    "        break\n",
    "    i += 1\n",
    "while j < len(email_address):\n",
    "    domain1 += email_address[j]\n",
    "    if email_address[j] == '.':\n",
    "        k = j + 1\n",
    "    j += 1\n",
    "while k < len(email_address):\n",
    "    domain_extension1 += email_address[k]\n",
    "    k += 1"
   ]
  },
  {
   "cell_type": "code",
   "execution_count": 6,
   "metadata": {},
   "outputs": [
    {
     "name": "stdout",
     "output_type": "stream",
     "text": [
      "Original Email address: rizwan.datahub@gmail.com\n",
      "Username: rizwan.datahub\n",
      "Domain: gmail.com\n",
      "Domain Extension: com\n"
     ]
    }
   ],
   "source": [
    "print('Original Email address:', email_address)\n",
    "print('Username:', username1)\n",
    "print('Domain:', domain1)\n",
    "print('Domain Extension:', domain_extension1)"
   ]
  },
  {
   "cell_type": "code",
   "execution_count": null,
   "metadata": {},
   "outputs": [],
   "source": []
  },
  {
   "cell_type": "markdown",
   "metadata": {},
   "source": [
    "#### Solution 3: With Nested <code>while</code> Loops "
   ]
  },
  {
   "cell_type": "code",
   "execution_count": 7,
   "metadata": {},
   "outputs": [],
   "source": [
    "username2 = domain2 = domain_extension2 = ''\n",
    "\n",
    "x = y = z = 0\n",
    "while x < len(email_address):\n",
    "    if email_address[x] != '@':\n",
    "        username2 += email_address[x]\n",
    "    else:\n",
    "        y = x + 1\n",
    "        while y < len(email_address):\n",
    "            domain2 += email_address[y]\n",
    "            if email_address[y] == '.':\n",
    "                z = y + 1\n",
    "            if y == len(email_address) - 1:\n",
    "                while z < len(email_address):\n",
    "                    domain_extension2 += email_address[z]\n",
    "                    z += 1 \n",
    "            y += 1\n",
    "        break\n",
    "    x += 1"
   ]
  },
  {
   "cell_type": "code",
   "execution_count": 8,
   "metadata": {},
   "outputs": [
    {
     "name": "stdout",
     "output_type": "stream",
     "text": [
      "Original Email address: rizwan.datahub@gmail.com\n",
      "Username: rizwan.datahub\n",
      "Domain: gmail.com\n",
      "Domain Extension: com\n"
     ]
    }
   ],
   "source": [
    "print('Original Email address:', email_address)\n",
    "print('Username:', username2)\n",
    "print('Domain:', domain2)\n",
    "print('Domain Extension:', domain_extension2)"
   ]
  },
  {
   "cell_type": "code",
   "execution_count": null,
   "metadata": {},
   "outputs": [],
   "source": []
  },
  {
   "cell_type": "markdown",
   "metadata": {},
   "source": [
    "#### Solution 4: Without Nested <code>for</code> Loops "
   ]
  },
  {
   "cell_type": "code",
   "execution_count": 9,
   "metadata": {},
   "outputs": [],
   "source": [
    "username3 = domain3 = domain_extension3 = ''\n",
    "\n",
    "a = b = c = 0\n",
    "for ch in email_address:\n",
    "    if ch != '@':\n",
    "        username3 += ch\n",
    "    else:\n",
    "        b = a + 1\n",
    "        break\n",
    "    a += 1\n",
    "for ch in email_address:\n",
    "    domain3 += email_address[b]\n",
    "    if email_address[b] == '.':\n",
    "        c = b + 1\n",
    "    b += 1\n",
    "    if b == len(email_address):\n",
    "        break\n",
    "for ch in email_address:\n",
    "    domain_extension3 += email_address[c]\n",
    "    c += 1\n",
    "    if c == len(email_address):\n",
    "        break"
   ]
  },
  {
   "cell_type": "code",
   "execution_count": 10,
   "metadata": {},
   "outputs": [
    {
     "name": "stdout",
     "output_type": "stream",
     "text": [
      "Original Email address: rizwan.datahub@gmail.com\n",
      "Username: rizwan.datahub\n",
      "Domain: gmail.com\n",
      "Domain Extension: com\n"
     ]
    }
   ],
   "source": [
    "print('Original Email address:', email_address)\n",
    "print('Username:', username3)\n",
    "print('Domain:', domain3)\n",
    "print('Domain Extension:', domain_extension3)"
   ]
  },
  {
   "cell_type": "code",
   "execution_count": null,
   "metadata": {},
   "outputs": [],
   "source": []
  },
  {
   "cell_type": "markdown",
   "metadata": {},
   "source": [
    "#### Solution 5: With Nested <code>for</code> Loops "
   ]
  },
  {
   "cell_type": "code",
   "execution_count": 11,
   "metadata": {},
   "outputs": [],
   "source": [
    "username4 = domain4 = domain_extension4 = ''\n",
    "\n",
    "p = q = r = 0\n",
    "for ch in email_address:\n",
    "    if ch != '@':\n",
    "        username4 += ch\n",
    "    else:\n",
    "        q = p + 1\n",
    "        for ch in email_address:\n",
    "            domain4 += email_address[q]\n",
    "            if email_address[q] == '.':\n",
    "                r = q + 1\n",
    "            q += 1\n",
    "            if q == len(email_address):\n",
    "                for ch in email_address:\n",
    "                    domain_extension4 += email_address[r]\n",
    "                    r += 1\n",
    "                    if r == len(email_address):\n",
    "                        break\n",
    "                break\n",
    "        break\n",
    "    p += 1"
   ]
  },
  {
   "cell_type": "code",
   "execution_count": 12,
   "metadata": {},
   "outputs": [
    {
     "name": "stdout",
     "output_type": "stream",
     "text": [
      "Original Email address: rizwan.datahub@gmail.com\n",
      "Username: rizwan.datahub\n",
      "Domain: gmail.com\n",
      "Domain Extension: com\n"
     ]
    }
   ],
   "source": [
    "print('Original Email address:', email_address)\n",
    "print('Username:', username4)\n",
    "print('Domain:', domain4)\n",
    "print('Domain Extension:', domain_extension4)"
   ]
  },
  {
   "cell_type": "code",
   "execution_count": null,
   "metadata": {},
   "outputs": [],
   "source": []
  },
  {
   "cell_type": "markdown",
   "metadata": {},
   "source": [
    "#### Solution 6: Using User-defined Function"
   ]
  },
  {
   "cell_type": "code",
   "execution_count": 13,
   "metadata": {},
   "outputs": [],
   "source": [
    "def email_address_parser(email_address):\n",
    "    username = domain = domain_extension = ''\n",
    "    \n",
    "    p = q = r = 0\n",
    "    for ch in email_address:\n",
    "        if ch != '@':\n",
    "            username += ch\n",
    "        else:\n",
    "            q = p + 1\n",
    "            for ch in email_address:\n",
    "                domain += email_address[q]\n",
    "                if email_address[q] == '.':\n",
    "                    r = q + 1\n",
    "                q += 1\n",
    "                if q == len(email_address):\n",
    "                    for ch in email_address:\n",
    "                        domain_extension += email_address[r]\n",
    "                        r += 1\n",
    "                        if r == len(email_address):\n",
    "                            break\n",
    "                    break\n",
    "            break\n",
    "        p += 1\n",
    "    \n",
    "    return username, domain, domain_extension"
   ]
  },
  {
   "cell_type": "code",
   "execution_count": 14,
   "metadata": {},
   "outputs": [],
   "source": [
    "user_id, domain_name, domain_type = email_address_parser('rizwan.datahub@gmail.com')"
   ]
  },
  {
   "cell_type": "code",
   "execution_count": 15,
   "metadata": {},
   "outputs": [
    {
     "name": "stdout",
     "output_type": "stream",
     "text": [
      "Username: rizwan.datahub\n",
      "Domain: gmail.com\n",
      "Domain Extension: com\n"
     ]
    }
   ],
   "source": [
    "print('Username:', user_id)\n",
    "print('Domain:', domain_name)\n",
    "print('Domain Extension:', domain_type)"
   ]
  },
  {
   "cell_type": "code",
   "execution_count": null,
   "metadata": {},
   "outputs": [],
   "source": []
  },
  {
   "cell_type": "markdown",
   "metadata": {},
   "source": [
    "#### Solution 7: Using Module "
   ]
  },
  {
   "cell_type": "code",
   "execution_count": 16,
   "metadata": {},
   "outputs": [],
   "source": [
    "import import_ipynb  # for .ipynb"
   ]
  },
  {
   "cell_type": "code",
   "execution_count": 17,
   "metadata": {},
   "outputs": [
    {
     "name": "stdout",
     "output_type": "stream",
     "text": [
      "importing Jupyter notebook from email_address_parsing.ipynb\n"
     ]
    }
   ],
   "source": [
    "from email_address_parsing import email_address_parser # custom module "
   ]
  },
  {
   "cell_type": "code",
   "execution_count": 18,
   "metadata": {},
   "outputs": [],
   "source": [
    "import re"
   ]
  },
  {
   "cell_type": "code",
   "execution_count": 19,
   "metadata": {},
   "outputs": [],
   "source": [
    "r = '(^[a-zA-Z0-9_.+-]+@[a-zA-Z0-9-]+\\.[a-zA-Z0-9-.]+$)'"
   ]
  },
  {
   "cell_type": "code",
   "execution_count": 20,
   "metadata": {},
   "outputs": [
    {
     "name": "stdin",
     "output_type": "stream",
     "text": [
      "Enter email address:  rizwan.datahub@gmail.com\n"
     ]
    }
   ],
   "source": [
    "email_add = input('Enter email address: ')"
   ]
  },
  {
   "cell_type": "code",
   "execution_count": 21,
   "metadata": {},
   "outputs": [
    {
     "name": "stdout",
     "output_type": "stream",
     "text": [
      "Username: rizwan.datahub\n",
      "Domain: gmail.com\n",
      "Domain Extension: com\n"
     ]
    }
   ],
   "source": [
    "if re.search(r, email_add): \n",
    "    part1, part2, part3 = email_address_parser(email_add)\n",
    "    \n",
    "    print('Username:', part1)\n",
    "    print('Domain:', part2)\n",
    "    print('Domain Extension:', part3)\n",
    "else:  \n",
    "    print(\"Invalid Email!\")"
   ]
  },
  {
   "cell_type": "code",
   "execution_count": null,
   "metadata": {},
   "outputs": [],
   "source": []
  },
  {
   "cell_type": "markdown",
   "metadata": {},
   "source": [
    "#### Happy Learning 😊"
   ]
  }
 ],
 "metadata": {
  "kernelspec": {
   "display_name": "Python 3",
   "language": "python",
   "name": "python3"
  },
  "language_info": {
   "codemirror_mode": {
    "name": "ipython",
    "version": 3
   },
   "file_extension": ".py",
   "mimetype": "text/x-python",
   "name": "python",
   "nbconvert_exporter": "python",
   "pygments_lexer": "ipython3",
   "version": "3.7.4"
  }
 },
 "nbformat": 4,
 "nbformat_minor": 4
}
