{
 "cells": [
  {
   "cell_type": "markdown",
   "metadata": {},
   "source": [
    "### NAVTTC - Corvit Systems "
   ]
  },
  {
   "cell_type": "markdown",
   "metadata": {},
   "source": [
    "<b>Course Name:</b>\n",
    "- <code>Artificial Intelligence (ML & DL)</code>\n",
    "- <code>Advanced Python Programming</code>"
   ]
  },
  {
   "cell_type": "markdown",
   "metadata": {},
   "source": [
    "<b>Python Programming Test:</b> \n",
    "\n",
    "Check your Python Programming learning progress and take your skills to the next level with Corvit Systems interactive tests.\n",
    "\n",
    "We created these Python tests as a fun way for you to check your learning progress and to test your skills.\n",
    "\n",
    "- <code>Test No. : 01</code>\n",
    "- <code>Skill Level : Basic</code>\n",
    "- <code>Total Questions: 18</code>\n",
    "- <code>Time Limit: 1 Hour</code>"
   ]
  },
  {
   "cell_type": "markdown",
   "metadata": {},
   "source": [
    "<b>Python Programming Test covered the following Topics/Concepts</b>\n",
    "- Style Guide for Python Code\n",
    "- Python Variables \n",
    "- Basic Python Data Types \n",
    "    - Integer, Boolean, Floating, Complex, String   \n",
    "- Basic Python Built-in Methods & Conversions \n",
    "    - print, type, help, int, bool, float, str \n",
    "- Basic Python Operators & Expressions \n",
    "    - Arithmetic Operators \n",
    "- Complete String Data Type \n",
    "    - String Variables \n",
    "    - Basic String Operations (+, *, in)\n",
    "    - Advance String Operations (Indexing & Slicing)\n",
    "    - Built-in String Methods \n",
    "    - String Formatting (str.format, f-string)"
   ]
  },
  {
   "cell_type": "code",
   "execution_count": null,
   "metadata": {},
   "outputs": [],
   "source": []
  },
  {
   "cell_type": "markdown",
   "metadata": {},
   "source": [
    "<b>Ready to Test Your Basic Python Programming Skills ...</b>"
   ]
  },
  {
   "cell_type": "markdown",
   "metadata": {},
   "source": [
    "<b>Question 1:</b>"
   ]
  },
  {
   "cell_type": "markdown",
   "metadata": {},
   "source": [
    "Write a program to assign different and same values to multiple variables in one line, then display variables and type with one print statement."
   ]
  },
  {
   "cell_type": "code",
   "execution_count": 1,
   "metadata": {},
   "outputs": [],
   "source": [
    "# assign different values to multiple variables in one line\n",
    "a, b = 5, 4.8\n",
    "# assign same values to multiple variables in one line\n",
    "x = y = 20"
   ]
  },
  {
   "cell_type": "markdown",
   "metadata": {},
   "source": [
    "Display Method 1"
   ]
  },
  {
   "cell_type": "code",
   "execution_count": 2,
   "metadata": {},
   "outputs": [
    {
     "name": "stdout",
     "output_type": "stream",
     "text": [
      "5 <class 'int'> 4.8 <class 'float'> 20 <class 'int'> 20 <class 'int'>\n"
     ]
    }
   ],
   "source": [
    "print(a, type(a), b, type(b), x, type(x), y, type(y))"
   ]
  },
  {
   "cell_type": "markdown",
   "metadata": {},
   "source": [
    "Display Method 2"
   ]
  },
  {
   "cell_type": "code",
   "execution_count": 3,
   "metadata": {},
   "outputs": [
    {
     "name": "stdout",
     "output_type": "stream",
     "text": [
      "a = 5 - <class 'int'>, b = 4.8 - <class 'float'> \n",
      "x = y = 20, 20 - <class 'int'>, <class 'int'>\n"
     ]
    }
   ],
   "source": [
    "print(f'a = {a} - {type(a)}, b = {b} - {type(b)} \\nx = y = {x}, {y} - {type(x)}, {type(y)}')"
   ]
  },
  {
   "cell_type": "markdown",
   "metadata": {},
   "source": [
    "<b>Question 2:</b>"
   ]
  },
  {
   "cell_type": "markdown",
   "metadata": {},
   "source": [
    "Write a program that performs all arithmetic assignment operations on one variable."
   ]
  },
  {
   "cell_type": "code",
   "execution_count": 4,
   "metadata": {},
   "outputs": [],
   "source": [
    "x = 25"
   ]
  },
  {
   "cell_type": "markdown",
   "metadata": {},
   "source": [
    "Method 1 - Arithmetic Operations"
   ]
  },
  {
   "cell_type": "code",
   "execution_count": 5,
   "metadata": {},
   "outputs": [
    {
     "name": "stdout",
     "output_type": "stream",
     "text": [
      "Addition : 30\n",
      "Subtraction : 20\n",
      "Multiplication : 125\n",
      "Division : 5.0\n",
      "Floor Division : 5\n",
      "Modulus : 0\n",
      "Exponentiation : 9765625\n"
     ]
    }
   ],
   "source": [
    "print(\"Addition : \" + str(x + 5)) \n",
    "print(\"Subtraction : \" + str(x - 5))\n",
    "print(\"Multiplication : \" + str(x * 5))\n",
    "print(\"Division : \" + str(x / 5))\n",
    "print(\"Floor Division : \" + str(x // 5))\n",
    "print(\"Modulus : \" + str(x % 5))\n",
    "print(\"Exponentiation : \" + str(x ** 5))"
   ]
  },
  {
   "cell_type": "code",
   "execution_count": 6,
   "metadata": {},
   "outputs": [
    {
     "name": "stdout",
     "output_type": "stream",
     "text": [
      "Addition : 30\n",
      "Subtraction : 20\n",
      "Multiplication : 125\n",
      "Division : 5.0\n",
      "Floor Division : 5\n",
      "Modulus : 0\n",
      "Exponentiation : 9765625\n"
     ]
    }
   ],
   "source": [
    "print(\"Addition : {}\".format(x + 5)) \n",
    "print(\"Subtraction : {}\".format(x - 5))\n",
    "print(\"Multiplication : {}\".format(x * 5))\n",
    "print(\"Division : {}\".format(x / 5))\n",
    "print(\"Floor Division : {}\".format(x // 5))\n",
    "print(\"Modulus : {}\".format(x % 5))\n",
    "print(\"Exponentiation : {}\".format(x ** 5))"
   ]
  },
  {
   "cell_type": "code",
   "execution_count": 7,
   "metadata": {},
   "outputs": [
    {
     "name": "stdout",
     "output_type": "stream",
     "text": [
      "Addition : 30\n",
      "Subtraction : 20\n",
      "Multiplication : 125\n",
      "Division : 5.0\n",
      "Floor Division : 5\n",
      "Modulus : 0\n",
      "Exponentiation : 9765625\n"
     ]
    }
   ],
   "source": [
    "print(f\"Addition : {x + 5}\") \n",
    "print(f\"Subtraction : {x - 5}\")\n",
    "print(f\"Multiplication : {x * 5}\")\n",
    "print(f\"Division : {x / 5}\")\n",
    "print(f\"Floor Division : {x // 5}\")\n",
    "print(f\"Modulus : {x % 5}\")\n",
    "print(f\"Exponentiation : {x ** 5}\")"
   ]
  },
  {
   "cell_type": "markdown",
   "metadata": {},
   "source": [
    "Method 2 - Arithmetic Operations"
   ]
  },
  {
   "cell_type": "code",
   "execution_count": 8,
   "metadata": {},
   "outputs": [
    {
     "name": "stdout",
     "output_type": "stream",
     "text": [
      "Addition : 30\n",
      "Subtraction : 25\n",
      "Multiplication : 125\n",
      "Division : 25.0\n",
      "Floor Division : 5.0\n",
      "Modulus : 0.0\n",
      "Exponentiation : 0.0\n"
     ]
    }
   ],
   "source": [
    "x = 25\n",
    "x = x + 5\n",
    "print(f\"Addition : {x}\") \n",
    "x = x - 5\n",
    "print(f\"Subtraction : {x}\")\n",
    "x = x * 5\n",
    "print(f\"Multiplication : {x}\")\n",
    "x = x / 5\n",
    "print(f\"Division : {x}\")\n",
    "x = x // 5\n",
    "print(f\"Floor Division : {x}\")\n",
    "x = x % 5\n",
    "print(f\"Modulus : {x}\")\n",
    "x = x ** 5\n",
    "print(f\"Exponentiation : {x}\")"
   ]
  },
  {
   "cell_type": "markdown",
   "metadata": {},
   "source": [
    "Method 3 - Arithmetic Assignment Operations"
   ]
  },
  {
   "cell_type": "code",
   "execution_count": 9,
   "metadata": {},
   "outputs": [
    {
     "name": "stdout",
     "output_type": "stream",
     "text": [
      "Addition : 30\n",
      "Subtraction : 25\n",
      "Multiplication : 125\n",
      "Division : 25.0\n",
      "Floor Division : 5.0\n",
      "Modulus : 0.0\n",
      "Exponentiation : 0.0\n"
     ]
    }
   ],
   "source": [
    "x = 25\n",
    "x += 5\n",
    "print(f\"Addition : {x}\") \n",
    "x -= 5\n",
    "print(f\"Subtraction : {x}\")\n",
    "x *= 5\n",
    "print(f\"Multiplication : {x}\")\n",
    "x /= 5\n",
    "print(f\"Division : {x}\")\n",
    "x //= 5\n",
    "print(f\"Floor Division : {x}\")\n",
    "x %= 5\n",
    "print(f\"Modulus : {x}\")\n",
    "x **= 5\n",
    "print(f\"Exponentiation : {x}\")"
   ]
  },
  {
   "cell_type": "markdown",
   "metadata": {},
   "source": [
    "<b>Question 3:</b>"
   ]
  },
  {
   "cell_type": "markdown",
   "metadata": {},
   "source": [
    "Write a program that stored a three-digit number as integer and reverse the number."
   ]
  },
  {
   "cell_type": "code",
   "execution_count": 10,
   "metadata": {},
   "outputs": [],
   "source": [
    "num = 689"
   ]
  },
  {
   "cell_type": "markdown",
   "metadata": {},
   "source": [
    "Method 1"
   ]
  },
  {
   "cell_type": "code",
   "execution_count": 11,
   "metadata": {},
   "outputs": [],
   "source": [
    "a = num // 100\n",
    "num = num % 100\n",
    "b = num // 10 \n",
    "num = num % 10"
   ]
  },
  {
   "cell_type": "code",
   "execution_count": 12,
   "metadata": {},
   "outputs": [
    {
     "name": "stdout",
     "output_type": "stream",
     "text": [
      "Number in Reverse Order is : 986\n"
     ]
    }
   ],
   "source": [
    "print(f\"Number in Reverse Order is : {num}{b}{a}\")"
   ]
  },
  {
   "cell_type": "markdown",
   "metadata": {},
   "source": [
    "Method 2"
   ]
  },
  {
   "cell_type": "code",
   "execution_count": 13,
   "metadata": {},
   "outputs": [],
   "source": [
    "n1 = 689\n",
    "n2 = str(689)"
   ]
  },
  {
   "cell_type": "code",
   "execution_count": 14,
   "metadata": {},
   "outputs": [
    {
     "name": "stdout",
     "output_type": "stream",
     "text": [
      "Number in Reverse Order is : 986\n"
     ]
    }
   ],
   "source": [
    "print(f\"Number in Reverse Order is : {n2[::-1]}\")"
   ]
  },
  {
   "cell_type": "markdown",
   "metadata": {},
   "source": [
    "<b>Question 4:</b>"
   ]
  },
  {
   "cell_type": "markdown",
   "metadata": {},
   "source": [
    "Write a program that stored two integer numbers, swaps these values without using third variable and displays them."
   ]
  },
  {
   "cell_type": "code",
   "execution_count": 15,
   "metadata": {},
   "outputs": [],
   "source": [
    "x = 10\n",
    "y = 4"
   ]
  },
  {
   "cell_type": "code",
   "execution_count": 16,
   "metadata": {},
   "outputs": [
    {
     "name": "stdout",
     "output_type": "stream",
     "text": [
      "Original value in x = 10 and y = 4\n",
      "Swapped value in x = 4 and y = 10\n"
     ]
    }
   ],
   "source": [
    "print(f\"Original value in x = {x} and y = {y}\")\n",
    "x = x + y\n",
    "y = x - y \n",
    "x = x - y \n",
    "print(f\"Swapped value in x = {x} and y = {y}\")"
   ]
  },
  {
   "cell_type": "markdown",
   "metadata": {},
   "source": [
    "<b>Question 5:</b>"
   ]
  },
  {
   "cell_type": "markdown",
   "metadata": {},
   "source": [
    "Target String: Python Programming Fundamentals.\n",
    "\n",
    "Expected Result: to rgamn udmnas"
   ]
  },
  {
   "cell_type": "code",
   "execution_count": 17,
   "metadata": {},
   "outputs": [],
   "source": [
    "s = 'Python Programming Fundamentals.'"
   ]
  },
  {
   "cell_type": "code",
   "execution_count": 18,
   "metadata": {},
   "outputs": [
    {
     "name": "stdout",
     "output_type": "stream",
     "text": [
      "to rgamn udmnas\n"
     ]
    }
   ],
   "source": [
    "print(s[2::2])"
   ]
  },
  {
   "cell_type": "code",
   "execution_count": 19,
   "metadata": {},
   "outputs": [
    {
     "name": "stdout",
     "output_type": "stream",
     "text": [
      "to rgamn udmnas\n"
     ]
    }
   ],
   "source": [
    "print(s[2:len(s):2])"
   ]
  },
  {
   "cell_type": "markdown",
   "metadata": {},
   "source": [
    "<b>Question 6:</b>"
   ]
  },
  {
   "cell_type": "markdown",
   "metadata": {},
   "source": [
    "Write a program that concate all basic python data type variables."
   ]
  },
  {
   "cell_type": "code",
   "execution_count": 20,
   "metadata": {},
   "outputs": [],
   "source": [
    "v1 = 45\n",
    "v2 = 36.8\n",
    "v3 = True\n",
    "v4 = 22j\n",
    "v5 = 'python'"
   ]
  },
  {
   "cell_type": "code",
   "execution_count": 21,
   "metadata": {},
   "outputs": [],
   "source": [
    "v6 = str(v1) + \", \" + str(v2) + \", \" + str(v3) + \", \" + str(v4) + \", \" + v5 "
   ]
  },
  {
   "cell_type": "code",
   "execution_count": 22,
   "metadata": {},
   "outputs": [
    {
     "name": "stdout",
     "output_type": "stream",
     "text": [
      "45, 36.8, True, 22j, python\n"
     ]
    }
   ],
   "source": [
    "print(v6)"
   ]
  },
  {
   "cell_type": "markdown",
   "metadata": {},
   "source": [
    "<b>Question 7:</b>"
   ]
  },
  {
   "cell_type": "markdown",
   "metadata": {},
   "source": [
    "Write a program that format() method takes 4 number of arguments, and are placed into the respective placeholders:"
   ]
  },
  {
   "cell_type": "code",
   "execution_count": 23,
   "metadata": {},
   "outputs": [],
   "source": [
    "ar1 = \"test val 1\"\n",
    "ar2 = \"test val 2\"\n",
    "ar3 = \"test val 3\"\n",
    "ar4 = \"test val 4\""
   ]
  },
  {
   "cell_type": "code",
   "execution_count": 24,
   "metadata": {},
   "outputs": [
    {
     "name": "stdout",
     "output_type": "stream",
     "text": [
      "test val 1, test val 2, test val 3, test val 4\n"
     ]
    }
   ],
   "source": [
    "print('{}, {}, {}, {}'.format(ar1, ar2, ar3, ar4))"
   ]
  },
  {
   "cell_type": "code",
   "execution_count": 25,
   "metadata": {},
   "outputs": [
    {
     "name": "stdout",
     "output_type": "stream",
     "text": [
      "test val 1, test val 2, test val 3, test val 4\n"
     ]
    }
   ],
   "source": [
    "print('{0}, {1}, {2}, {3}'.format(ar1, ar2, ar3, ar4))"
   ]
  },
  {
   "cell_type": "code",
   "execution_count": 26,
   "metadata": {},
   "outputs": [
    {
     "name": "stdout",
     "output_type": "stream",
     "text": [
      "5, python, 2.7, True\n"
     ]
    }
   ],
   "source": [
    "print('{ar1}, {ar2}, {ar3}, {ar4}'.format(ar1=5, ar2=\"python\", ar3=2.7, ar4=True))"
   ]
  },
  {
   "cell_type": "markdown",
   "metadata": {},
   "source": [
    "<b>Question 8:</b>"
   ]
  },
  {
   "cell_type": "markdown",
   "metadata": {},
   "source": [
    "Target -\n",
    "\n",
    "<code>Book Id: 5\n",
    "Book Name: Deep Learning using PyTorch \n",
    "Price: 100</code>\n",
    "\n",
    "Expected Result - Book Info - Book Id : 5, Book Name : Deep Learning using PyTorch, Price : 100$"
   ]
  },
  {
   "cell_type": "code",
   "execution_count": 27,
   "metadata": {},
   "outputs": [],
   "source": [
    "bookId = 5\n",
    "bookName = 'Deep Learning using PyTorch'\n",
    "price = 100"
   ]
  },
  {
   "cell_type": "code",
   "execution_count": 28,
   "metadata": {},
   "outputs": [
    {
     "name": "stdout",
     "output_type": "stream",
     "text": [
      "Book Info - Book Id : 5, Book Name : Deep Learning using PyTorch, Price : 100$\n"
     ]
    }
   ],
   "source": [
    "print(f'Book Info - Book Id : {bookId}, Book Name : {bookName}, Price : {price}$')"
   ]
  },
  {
   "cell_type": "markdown",
   "metadata": {},
   "source": [
    "<b>Question 9:</b>"
   ]
  },
  {
   "cell_type": "markdown",
   "metadata": {},
   "source": [
    "Target Strings:\n",
    "\n",
    "<code>machine learning</code>\n",
    "\n",
    "Expected Result:\n",
    "\n",
    "<code>mACHINE lEARNING</code>"
   ]
  },
  {
   "cell_type": "code",
   "execution_count": 29,
   "metadata": {},
   "outputs": [],
   "source": [
    "s1 = 'machine learning'"
   ]
  },
  {
   "cell_type": "code",
   "execution_count": 30,
   "metadata": {},
   "outputs": [],
   "source": [
    "s2 = s1.upper().split()"
   ]
  },
  {
   "cell_type": "code",
   "execution_count": 31,
   "metadata": {},
   "outputs": [
    {
     "name": "stdout",
     "output_type": "stream",
     "text": [
      "['MACHINE', 'LEARNING']\n"
     ]
    }
   ],
   "source": [
    "print(s2)"
   ]
  },
  {
   "cell_type": "code",
   "execution_count": 32,
   "metadata": {},
   "outputs": [],
   "source": [
    "w1 = s2[0][0].lower() + s2[0][1:]"
   ]
  },
  {
   "cell_type": "code",
   "execution_count": 33,
   "metadata": {},
   "outputs": [],
   "source": [
    "w2 = s2[1][0].lower() + s2[1][1:]"
   ]
  },
  {
   "cell_type": "code",
   "execution_count": 34,
   "metadata": {},
   "outputs": [
    {
     "name": "stdout",
     "output_type": "stream",
     "text": [
      "mACHINE lEARNING\n"
     ]
    }
   ],
   "source": [
    "print(f'{w1} {w2}')"
   ]
  },
  {
   "cell_type": "markdown",
   "metadata": {},
   "source": [
    "<b>Question 10:</b>"
   ]
  },
  {
   "cell_type": "markdown",
   "metadata": {},
   "source": [
    "Target Value: \n",
    "    \n",
    "15.4567\n",
    "\n",
    "Expected Result:\n",
    "    \n",
    "<pre>\n",
    "***15.457***</pre>"
   ]
  },
  {
   "cell_type": "code",
   "execution_count": 35,
   "metadata": {},
   "outputs": [],
   "source": [
    "val = 15.4567"
   ]
  },
  {
   "cell_type": "code",
   "execution_count": 36,
   "metadata": {},
   "outputs": [
    {
     "name": "stdout",
     "output_type": "stream",
     "text": [
      "    ***15.457***    \n"
     ]
    }
   ],
   "source": [
    "# float number with center alignment\n",
    "print(\"    {0:*^12.3f}    \".format(val))"
   ]
  },
  {
   "cell_type": "markdown",
   "metadata": {},
   "source": [
    "<b>Question 11:</b>"
   ]
  },
  {
   "cell_type": "markdown",
   "metadata": {},
   "source": [
    "Difference between python string find and index methods with example."
   ]
  },
  {
   "cell_type": "code",
   "execution_count": 37,
   "metadata": {},
   "outputs": [],
   "source": [
    "# The find() method returns the index of first occurrence of the substring \n",
    "# (if found). If not found, it returns -1.\n",
    "\n",
    "# The index() method returns the index of a substring inside the string (if found). \n",
    "# If the substring is not found, it raises an exception.\n",
    "\n",
    "# The index() method is similar to find() method for strings.\n",
    "# The only difference is that find() method returns -1 if the substring is not found,\n",
    "# whereas index() throws an exception."
   ]
  },
  {
   "cell_type": "code",
   "execution_count": 38,
   "metadata": {},
   "outputs": [],
   "source": [
    "s = \"Python Programming\""
   ]
  },
  {
   "cell_type": "code",
   "execution_count": 39,
   "metadata": {},
   "outputs": [
    {
     "data": {
      "text/plain": [
       "-1"
      ]
     },
     "execution_count": 39,
     "metadata": {},
     "output_type": "execute_result"
    }
   ],
   "source": [
    "s.find('ML')"
   ]
  },
  {
   "cell_type": "code",
   "execution_count": 40,
   "metadata": {},
   "outputs": [
    {
     "data": {
      "text/plain": [
       "7"
      ]
     },
     "execution_count": 40,
     "metadata": {},
     "output_type": "execute_result"
    }
   ],
   "source": [
    "s.find('Pro')"
   ]
  },
  {
   "cell_type": "code",
   "execution_count": 41,
   "metadata": {},
   "outputs": [
    {
     "ename": "ValueError",
     "evalue": "substring not found",
     "output_type": "error",
     "traceback": [
      "\u001b[1;31m---------------------------------------------------------------------------\u001b[0m",
      "\u001b[1;31mValueError\u001b[0m                                Traceback (most recent call last)",
      "\u001b[1;32m<ipython-input-41-03ecdc4fada6>\u001b[0m in \u001b[0;36m<module>\u001b[1;34m\u001b[0m\n\u001b[1;32m----> 1\u001b[1;33m \u001b[0ms\u001b[0m\u001b[1;33m.\u001b[0m\u001b[0mindex\u001b[0m\u001b[1;33m(\u001b[0m\u001b[1;34m'ML'\u001b[0m\u001b[1;33m)\u001b[0m\u001b[1;33m\u001b[0m\u001b[1;33m\u001b[0m\u001b[0m\n\u001b[0m",
      "\u001b[1;31mValueError\u001b[0m: substring not found"
     ]
    }
   ],
   "source": [
    "s.index('ML')"
   ]
  },
  {
   "cell_type": "code",
   "execution_count": 42,
   "metadata": {},
   "outputs": [
    {
     "data": {
      "text/plain": [
       "7"
      ]
     },
     "execution_count": 42,
     "metadata": {},
     "output_type": "execute_result"
    }
   ],
   "source": [
    "s.index('Pro')"
   ]
  },
  {
   "cell_type": "markdown",
   "metadata": {},
   "source": [
    "<b>Question 12:</b>"
   ]
  },
  {
   "cell_type": "markdown",
   "metadata": {},
   "source": [
    "Write a Python program to remove spaces from a given string."
   ]
  },
  {
   "cell_type": "code",
   "execution_count": 43,
   "metadata": {},
   "outputs": [],
   "source": [
    "s1 = \"Python Programming Fundamentals\""
   ]
  },
  {
   "cell_type": "code",
   "execution_count": 44,
   "metadata": {},
   "outputs": [],
   "source": [
    "s2 = s1.replace(' ', '')"
   ]
  },
  {
   "cell_type": "code",
   "execution_count": 45,
   "metadata": {},
   "outputs": [
    {
     "name": "stdout",
     "output_type": "stream",
     "text": [
      "PythonProgrammingFundamentals\n"
     ]
    }
   ],
   "source": [
    "print(s2)"
   ]
  },
  {
   "cell_type": "markdown",
   "metadata": {},
   "source": [
    "<b>Question 13:</b>"
   ]
  },
  {
   "cell_type": "markdown",
   "metadata": {},
   "source": [
    "Write a Python program to check whether a string starts with specified characters."
   ]
  },
  {
   "cell_type": "code",
   "execution_count": 46,
   "metadata": {},
   "outputs": [],
   "source": [
    "s = 'Python Programming Fundamentals'"
   ]
  },
  {
   "cell_type": "code",
   "execution_count": 47,
   "metadata": {},
   "outputs": [],
   "source": [
    "result = s.startswith('P')"
   ]
  },
  {
   "cell_type": "code",
   "execution_count": 48,
   "metadata": {},
   "outputs": [
    {
     "name": "stdout",
     "output_type": "stream",
     "text": [
      "<class 'bool'>\n"
     ]
    }
   ],
   "source": [
    "print(type(result))"
   ]
  },
  {
   "cell_type": "code",
   "execution_count": 49,
   "metadata": {},
   "outputs": [
    {
     "name": "stdout",
     "output_type": "stream",
     "text": [
      "True\n"
     ]
    }
   ],
   "source": [
    "print(result)"
   ]
  },
  {
   "cell_type": "markdown",
   "metadata": {},
   "source": [
    "<b>Question 14:</b>"
   ]
  },
  {
   "cell_type": "markdown",
   "metadata": {},
   "source": [
    "Write a program to check if the letter 'r' is present in the word 'Python'."
   ]
  },
  {
   "cell_type": "code",
   "execution_count": 50,
   "metadata": {},
   "outputs": [],
   "source": [
    "s = 'Python'"
   ]
  },
  {
   "cell_type": "code",
   "execution_count": 51,
   "metadata": {},
   "outputs": [],
   "source": [
    "result = 'r' in s"
   ]
  },
  {
   "cell_type": "code",
   "execution_count": 52,
   "metadata": {},
   "outputs": [
    {
     "name": "stdout",
     "output_type": "stream",
     "text": [
      "False\n"
     ]
    }
   ],
   "source": [
    "print(result)"
   ]
  },
  {
   "cell_type": "markdown",
   "metadata": {},
   "source": [
    "<b>Question 15:</b>"
   ]
  },
  {
   "cell_type": "markdown",
   "metadata": {},
   "source": [
    "Write a program that find all occurrences of \"python\" in given string ignoring the case."
   ]
  },
  {
   "cell_type": "code",
   "execution_count": 53,
   "metadata": {},
   "outputs": [],
   "source": [
    "s = '''Python is a powerful general-purpose programming language.\n",
    "Python has simple easy-to-use syntax.'''"
   ]
  },
  {
   "cell_type": "code",
   "execution_count": 54,
   "metadata": {},
   "outputs": [
    {
     "name": "stdout",
     "output_type": "stream",
     "text": [
      "2\n"
     ]
    }
   ],
   "source": [
    "print(s.lower().count('python'))"
   ]
  },
  {
   "cell_type": "markdown",
   "metadata": {},
   "source": [
    "<b>Question 16:</b>"
   ]
  },
  {
   "cell_type": "markdown",
   "metadata": {},
   "source": [
    "Write a program that stored your full name as a string variabe and displays the abbreviations of the first and middle names except the last name which is displayed as it is. For example, if your name is Engineer Rizwan Mughal, then the output should be E.R.Mughal."
   ]
  },
  {
   "cell_type": "code",
   "execution_count": 55,
   "metadata": {},
   "outputs": [],
   "source": [
    "fullName = 'Engineer Rizwan Mughal'"
   ]
  },
  {
   "cell_type": "code",
   "execution_count": 56,
   "metadata": {},
   "outputs": [],
   "source": [
    "name = fullName.split()"
   ]
  },
  {
   "cell_type": "code",
   "execution_count": 57,
   "metadata": {},
   "outputs": [
    {
     "name": "stdout",
     "output_type": "stream",
     "text": [
      "['Engineer', 'Rizwan', 'Mughal']\n"
     ]
    }
   ],
   "source": [
    "print(name)"
   ]
  },
  {
   "cell_type": "code",
   "execution_count": 58,
   "metadata": {},
   "outputs": [
    {
     "name": "stdout",
     "output_type": "stream",
     "text": [
      "Engineer\n"
     ]
    }
   ],
   "source": [
    "print(name[0])"
   ]
  },
  {
   "cell_type": "code",
   "execution_count": 59,
   "metadata": {},
   "outputs": [
    {
     "name": "stdout",
     "output_type": "stream",
     "text": [
      "E\n"
     ]
    }
   ],
   "source": [
    "print(name[0][0])"
   ]
  },
  {
   "cell_type": "code",
   "execution_count": 60,
   "metadata": {},
   "outputs": [
    {
     "name": "stdout",
     "output_type": "stream",
     "text": [
      "Rizwan\n"
     ]
    }
   ],
   "source": [
    "print(name[1])"
   ]
  },
  {
   "cell_type": "code",
   "execution_count": 61,
   "metadata": {},
   "outputs": [
    {
     "name": "stdout",
     "output_type": "stream",
     "text": [
      "R\n"
     ]
    }
   ],
   "source": [
    "print(name[1][0])"
   ]
  },
  {
   "cell_type": "code",
   "execution_count": 62,
   "metadata": {},
   "outputs": [
    {
     "name": "stdout",
     "output_type": "stream",
     "text": [
      "Mughal\n"
     ]
    }
   ],
   "source": [
    "print(name[2])"
   ]
  },
  {
   "cell_type": "code",
   "execution_count": 63,
   "metadata": {},
   "outputs": [],
   "source": [
    "shortName = name[0][0] + \".\" + name[1][0] + \".\" + name[2]"
   ]
  },
  {
   "cell_type": "code",
   "execution_count": 64,
   "metadata": {},
   "outputs": [
    {
     "name": "stdout",
     "output_type": "stream",
     "text": [
      "E.R.Mughal\n"
     ]
    }
   ],
   "source": [
    "print(shortName)"
   ]
  },
  {
   "cell_type": "markdown",
   "metadata": {},
   "source": [
    "<b>Question 17:</b>"
   ]
  },
  {
   "cell_type": "markdown",
   "metadata": {},
   "source": [
    "Display the following output:\n",
    "\n",
    "C:\\Users\\UserName>"
   ]
  },
  {
   "cell_type": "code",
   "execution_count": 65,
   "metadata": {},
   "outputs": [],
   "source": [
    "filePath = 'C:\\\\Users\\\\UserName>'"
   ]
  },
  {
   "cell_type": "code",
   "execution_count": 66,
   "metadata": {},
   "outputs": [
    {
     "name": "stdout",
     "output_type": "stream",
     "text": [
      "C:\\Users\\UserName>\n"
     ]
    }
   ],
   "source": [
    "print(filePath)"
   ]
  },
  {
   "cell_type": "markdown",
   "metadata": {},
   "source": [
    "<b>Question 18:</b>"
   ]
  },
  {
   "cell_type": "markdown",
   "metadata": {},
   "source": [
    "Target String:\n",
    "    \n",
    "0300-1000001\n",
    "\n",
    "Expected Result:\n",
    "    \n",
    "<code>Network Code: 0300\n",
    "Actual Code: 1000001</code>"
   ]
  },
  {
   "cell_type": "code",
   "execution_count": 67,
   "metadata": {},
   "outputs": [],
   "source": [
    "cellNo = '0300-1000001'"
   ]
  },
  {
   "cell_type": "code",
   "execution_count": 68,
   "metadata": {},
   "outputs": [],
   "source": [
    "splitCellNo = cellNo.split('-')"
   ]
  },
  {
   "cell_type": "code",
   "execution_count": 69,
   "metadata": {},
   "outputs": [
    {
     "name": "stdout",
     "output_type": "stream",
     "text": [
      "['0300', '1000001']\n"
     ]
    }
   ],
   "source": [
    "print(splitCellNo)"
   ]
  },
  {
   "cell_type": "code",
   "execution_count": 70,
   "metadata": {},
   "outputs": [
    {
     "name": "stdout",
     "output_type": "stream",
     "text": [
      "Network Code: 0300\n",
      "Actual Code: 1000001\n"
     ]
    }
   ],
   "source": [
    "print(f'Network Code: {splitCellNo[0]}')\n",
    "print(f'Actual Code: {splitCellNo[1]}')"
   ]
  },
  {
   "cell_type": "markdown",
   "metadata": {},
   "source": [
    "#### Happy Learning 😊"
   ]
  }
 ],
 "metadata": {
  "kernelspec": {
   "display_name": "Python 3",
   "language": "python",
   "name": "python3"
  },
  "language_info": {
   "codemirror_mode": {
    "name": "ipython",
    "version": 3
   },
   "file_extension": ".py",
   "mimetype": "text/x-python",
   "name": "python",
   "nbconvert_exporter": "python",
   "pygments_lexer": "ipython3",
   "version": "3.7.4"
  }
 },
 "nbformat": 4,
 "nbformat_minor": 4
}
