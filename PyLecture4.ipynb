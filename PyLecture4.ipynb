{
 "cells": [
  {
   "cell_type": "markdown",
   "metadata": {},
   "source": [
    "# Python Programming Fundamentals"
   ]
  },
  {
   "cell_type": "code",
   "execution_count": null,
   "metadata": {},
   "outputs": [],
   "source": []
  },
  {
   "cell_type": "markdown",
   "metadata": {},
   "source": [
    "## Python Built-in String Methods "
   ]
  },
  {
   "cell_type": "markdown",
   "metadata": {},
   "source": [
    "A string is a sequence of characters enclosed in quotation marks."
   ]
  },
  {
   "cell_type": "code",
   "execution_count": 1,
   "metadata": {},
   "outputs": [],
   "source": [
    "# str??"
   ]
  },
  {
   "cell_type": "code",
   "execution_count": 2,
   "metadata": {},
   "outputs": [
    {
     "name": "stdout",
     "output_type": "stream",
     "text": [
      "['__add__', '__class__', '__contains__', '__delattr__', '__dir__', '__doc__', '__eq__', '__format__', '__ge__', '__getattribute__', '__getitem__', '__getnewargs__', '__gt__', '__hash__', '__init__', '__init_subclass__', '__iter__', '__le__', '__len__', '__lt__', '__mod__', '__mul__', '__ne__', '__new__', '__reduce__', '__reduce_ex__', '__repr__', '__rmod__', '__rmul__', '__setattr__', '__sizeof__', '__str__', '__subclasshook__', 'capitalize', 'casefold', 'center', 'count', 'encode', 'endswith', 'expandtabs', 'find', 'format', 'format_map', 'index', 'isalnum', 'isalpha', 'isascii', 'isdecimal', 'isdigit', 'isidentifier', 'islower', 'isnumeric', 'isprintable', 'isspace', 'istitle', 'isupper', 'join', 'ljust', 'lower', 'lstrip', 'maketrans', 'partition', 'replace', 'rfind', 'rindex', 'rjust', 'rpartition', 'rsplit', 'rstrip', 'split', 'splitlines', 'startswith', 'strip', 'swapcase', 'title', 'translate', 'upper', 'zfill']\n"
     ]
    }
   ],
   "source": [
    "print(dir(str))"
   ]
  },
  {
   "cell_type": "markdown",
   "metadata": {},
   "source": [
    "#### String Find Method"
   ]
  },
  {
   "cell_type": "code",
   "execution_count": 3,
   "metadata": {},
   "outputs": [
    {
     "data": {
      "text/plain": [
       "\u001b[1;31mDocstring:\u001b[0m\n",
       "S.find(sub[, start[, end]]) -> int\n",
       "\n",
       "Return the lowest index in S where substring sub is found,\n",
       "such that sub is contained within S[start:end].  Optional\n",
       "arguments start and end are interpreted as in slice notation.\n",
       "\n",
       "Return -1 on failure.\n",
       "\u001b[1;31mType:\u001b[0m      method_descriptor\n"
      ]
     },
     "metadata": {},
     "output_type": "display_data"
    }
   ],
   "source": [
    "str.find?"
   ]
  },
  {
   "cell_type": "markdown",
   "metadata": {},
   "source": [
    "The find() method returns the index of first occurrence of the substring (if found). If not found, it returns -1."
   ]
  },
  {
   "cell_type": "markdown",
   "metadata": {},
   "source": [
    "<b>The syntax of find() method is:</b>"
   ]
  },
  {
   "cell_type": "markdown",
   "metadata": {},
   "source": [
    "<code>str.find(sub[, start[, end]])</code>"
   ]
  },
  {
   "cell_type": "markdown",
   "metadata": {},
   "source": [
    "<b>String find() Parameters()</b>"
   ]
  },
  {
   "cell_type": "markdown",
   "metadata": {},
   "source": [
    "- The find() method takes maximum of three parameters:\n",
    "\n",
    "    - <b>sub</b> - It's the substring to be searched in the <code>str</code> string.\n",
    "    - <b>start</b> and <b>end</b> (optional) - substring is searched within <code>str[start:end]</code>"
   ]
  },
  {
   "cell_type": "markdown",
   "metadata": {},
   "source": [
    "<b>Return Value from find()</b>"
   ]
  },
  {
   "cell_type": "markdown",
   "metadata": {},
   "source": [
    "- The find() method returns an integer value.\n",
    "\n",
    "    - If substring exists inside the string, it returns the index of first occurence of the substring.\n",
    "    - If substring doesn't exist inside the string, it returns -1."
   ]
  },
  {
   "cell_type": "markdown",
   "metadata": {},
   "source": [
    "<b>Example 1: find() With No start and end Argument</b>"
   ]
  },
  {
   "cell_type": "code",
   "execution_count": 4,
   "metadata": {},
   "outputs": [],
   "source": [
    "s1 = 'rizwan.datahub@gmail.com' "
   ]
  },
  {
   "cell_type": "code",
   "execution_count": 5,
   "metadata": {},
   "outputs": [
    {
     "name": "stdout",
     "output_type": "stream",
     "text": [
      "15\n"
     ]
    }
   ],
   "source": [
    "print(s1.find('gmail'))"
   ]
  },
  {
   "cell_type": "code",
   "execution_count": 6,
   "metadata": {},
   "outputs": [
    {
     "name": "stdout",
     "output_type": "stream",
     "text": [
      "21\n"
     ]
    }
   ],
   "source": [
    "print(s1.find('com'))"
   ]
  },
  {
   "cell_type": "code",
   "execution_count": 7,
   "metadata": {},
   "outputs": [
    {
     "name": "stdout",
     "output_type": "stream",
     "text": [
      "-1\n"
     ]
    }
   ],
   "source": [
    "print(s1.find('outlook'))"
   ]
  },
  {
   "cell_type": "code",
   "execution_count": 8,
   "metadata": {},
   "outputs": [
    {
     "name": "stdout",
     "output_type": "stream",
     "text": [
      "True\n"
     ]
    }
   ],
   "source": [
    "print(s1.find('outlook') == -1)"
   ]
  },
  {
   "cell_type": "code",
   "execution_count": 9,
   "metadata": {},
   "outputs": [
    {
     "name": "stdout",
     "output_type": "stream",
     "text": [
      "-1\n"
     ]
    }
   ],
   "source": [
    "print(s1.find(' '))"
   ]
  },
  {
   "cell_type": "markdown",
   "metadata": {},
   "source": [
    "<b>Example 2: find() With start and end Arguments</b>"
   ]
  },
  {
   "cell_type": "code",
   "execution_count": 10,
   "metadata": {},
   "outputs": [
    {
     "data": {
      "text/plain": [
       "'rizwan.datahub@gmail.com'"
      ]
     },
     "execution_count": 10,
     "metadata": {},
     "output_type": "execute_result"
    }
   ],
   "source": [
    "s1"
   ]
  },
  {
   "cell_type": "code",
   "execution_count": 11,
   "metadata": {},
   "outputs": [
    {
     "name": "stdout",
     "output_type": "stream",
     "text": [
      "14\n"
     ]
    }
   ],
   "source": [
    "print(s1.find('@'))"
   ]
  },
  {
   "cell_type": "code",
   "execution_count": 12,
   "metadata": {},
   "outputs": [
    {
     "name": "stdout",
     "output_type": "stream",
     "text": [
      "14\n"
     ]
    }
   ],
   "source": [
    "print(s1.find('@', 10))"
   ]
  },
  {
   "cell_type": "code",
   "execution_count": 13,
   "metadata": {},
   "outputs": [
    {
     "name": "stdout",
     "output_type": "stream",
     "text": [
      "-1\n"
     ]
    }
   ],
   "source": [
    "print(s1.find('@', 16))"
   ]
  },
  {
   "cell_type": "code",
   "execution_count": 14,
   "metadata": {},
   "outputs": [
    {
     "name": "stdout",
     "output_type": "stream",
     "text": [
      "14\n"
     ]
    }
   ],
   "source": [
    "print(s1.find('@', 10, 15))"
   ]
  },
  {
   "cell_type": "code",
   "execution_count": 15,
   "metadata": {},
   "outputs": [
    {
     "name": "stdout",
     "output_type": "stream",
     "text": [
      "-1\n"
     ]
    }
   ],
   "source": [
    "print(s1.find('@', 15, 20))"
   ]
  },
  {
   "cell_type": "code",
   "execution_count": null,
   "metadata": {},
   "outputs": [],
   "source": []
  },
  {
   "cell_type": "markdown",
   "metadata": {},
   "source": [
    "#### Solution - String Parsing Problem "
   ]
  },
  {
   "cell_type": "code",
   "execution_count": 16,
   "metadata": {},
   "outputs": [],
   "source": [
    "m = 'From rizwan.datahub@gmail.com Wed February 24 20:05:37 2020'"
   ]
  },
  {
   "cell_type": "markdown",
   "metadata": {},
   "source": [
    "Expected Output: <code>gmail.com</code>"
   ]
  },
  {
   "cell_type": "code",
   "execution_count": 17,
   "metadata": {},
   "outputs": [
    {
     "name": "stdout",
     "output_type": "stream",
     "text": [
      "gmail.com\n"
     ]
    }
   ],
   "source": [
    "print(m[m.find('@')+1 : m.find(' ', m.find('@'))])  "
   ]
  },
  {
   "cell_type": "code",
   "execution_count": null,
   "metadata": {},
   "outputs": [],
   "source": []
  },
  {
   "cell_type": "markdown",
   "metadata": {},
   "source": [
    "#### String Format Method"
   ]
  },
  {
   "cell_type": "code",
   "execution_count": 18,
   "metadata": {},
   "outputs": [
    {
     "data": {
      "text/plain": [
       "\u001b[1;31mDocstring:\u001b[0m\n",
       "S.format(*args, **kwargs) -> str\n",
       "\n",
       "Return a formatted version of S, using substitutions from args and kwargs.\n",
       "The substitutions are identified by braces ('{' and '}').\n",
       "\u001b[1;31mType:\u001b[0m      method_descriptor\n"
      ]
     },
     "metadata": {},
     "output_type": "display_data"
    }
   ],
   "source": [
    "str.format?"
   ]
  },
  {
   "cell_type": "markdown",
   "metadata": {},
   "source": [
    "The string format() method formats the given string into a nicer output in Python."
   ]
  },
  {
   "cell_type": "markdown",
   "metadata": {},
   "source": [
    "Link1: https://docs.python.org/3/library/stdtypes.html#str.format"
   ]
  },
  {
   "cell_type": "markdown",
   "metadata": {},
   "source": [
    "Link2: https://docs.python.org/3/library/string.html#formatstrings"
   ]
  },
  {
   "cell_type": "markdown",
   "metadata": {},
   "source": [
    "<b>The syntax of format() method is:</b>"
   ]
  },
  {
   "cell_type": "markdown",
   "metadata": {},
   "source": [
    "<code>template_string.format(pos0, pos1, ..., key0=val0, key1=val1, ...)</code>"
   ]
  },
  {
   "cell_type": "markdown",
   "metadata": {},
   "source": [
    "Here, <code>pos0, pos1,...</code> are positional arguments and, <code>key0, key1,...</code> are keyword arguments with values <code>val0, val1,...</code> respectively.\n",
    "\n",
    "And, <code>template_string</code> is a mixture of format codes with placeholders for the arguments."
   ]
  },
  {
   "cell_type": "markdown",
   "metadata": {},
   "source": [
    "<b>String format() Parameters</b>"
   ]
  },
  {
   "cell_type": "markdown",
   "metadata": {},
   "source": [
    "- format() method takes any number of parameters. But, is divided into two types of parameters:\n",
    "\n",
    "    - <b>Positional parameters</b> - list of parameters that can be accessed with index of parameter inside curly braces {index}\n",
    "    - <b>Keyword parameters</b> - list of parameters of type key=value, that can be accessed with key of parameter inside curly braces {key}"
   ]
  },
  {
   "cell_type": "markdown",
   "metadata": {},
   "source": [
    "<b>Return value from String format()</b>"
   ]
  },
  {
   "cell_type": "markdown",
   "metadata": {},
   "source": [
    "The format() method returns the formatted string."
   ]
  },
  {
   "cell_type": "markdown",
   "metadata": {},
   "source": [
    "<b>How String format() works?</b>"
   ]
  },
  {
   "cell_type": "markdown",
   "metadata": {},
   "source": [
    "The format() reads the type of arguments passed to it and formats it according to the format codes defined in the string."
   ]
  },
  {
   "cell_type": "markdown",
   "metadata": {},
   "source": [
    "<u>For positional arguments</u>"
   ]
  },
  {
   "cell_type": "code",
   "execution_count": 19,
   "metadata": {},
   "outputs": [
    {
     "data": {
      "text/plain": [
       "'Hi Rizwan, your current amount is  50000.99'"
      ]
     },
     "execution_count": 19,
     "metadata": {},
     "output_type": "execute_result"
    }
   ],
   "source": [
    "\"Hi {0}, your current amount is {1:9.2f}\".format(\"Rizwan\", 50000.989)\n",
    "\n",
    "# \"Rizwan\"    - Argument 0 \n",
    "# 50000.989   - Argument 1\n",
    "# 'Hi Rizwan, your current amount is 050000.99'"
   ]
  },
  {
   "cell_type": "markdown",
   "metadata": {},
   "source": [
    "Here, Argument 0 is a string \"Rizwan\" and Argument 1 is a floating number 50000.989.\n",
    "\n",
    "<b>Note:</b> Argument list starts from 0 in Python.\n",
    "\n",
    "The string <code>\"Hi {0}, your current amount is {1:9.2f}\"</code> is the template string. This contains the format codes for formatting.\n",
    "\n",
    "The curly braces are just placeholders for the arguments to be placed. In the above example, <code>{0}</code> is placeholder for <code>\"Rizwan\"</code> and <code>{1:9.2f}</code> is placeholder for <code>50000.989</code>.\n",
    "\n",
    "Since the template string references format() arguments as {0} and {1}, the arguments are positional arguments. They both can also be referenced without the numbers as {} and Python internally converts them to numbers.\n",
    "\n",
    "Internally,\n",
    "\n",
    "- Since <code>\"Rizwan\"</code> is the 0<sup>th</sup> argument, it is placed in place of {0}. Since, {0} doesn't contain any other format codes, it doesn't perform any other operations.\n",
    "- However, it is not the case for 1<sup>st</sup> argument <code>50000.989</code>. Here, <code>{1:9.2f}</code> places <code>50000.989</code> in its place and performs the operation 9.2f.\n",
    "- f specifies the format is dealing with a float number. If not correctly specified, it will give out an error.\n",
    "- The part before the \".\" (9) specifies the minimum width/padding the number (50000.989) can take. In this case, 50000.989 is allotted a minimum of 9 places including the \".\".\n",
    "- If no alignment option is specified, it is aligned to the right of the remaining spaces. (For strings, it is aligned to the left.)\n",
    "- The part after the \".\" (2) truncates the decimal part (989) upto the given number. In this case, 989 is truncated after 2 places.\n",
    "- Remaining numbers (9) is rounded off outputting 99."
   ]
  },
  {
   "cell_type": "markdown",
   "metadata": {},
   "source": [
    "<u>For keyword arguments</u>"
   ]
  },
  {
   "cell_type": "code",
   "execution_count": 20,
   "metadata": {},
   "outputs": [
    {
     "data": {
      "text/plain": [
       "'Hi Rizwan, your current amount is  50000.99'"
      ]
     },
     "execution_count": 20,
     "metadata": {},
     "output_type": "execute_result"
    }
   ],
   "source": [
    "\"Hi {name}, your current amount is {amt:9.2f}\".format(name=\"Rizwan\", amt=50000.989)"
   ]
  },
  {
   "cell_type": "markdown",
   "metadata": {},
   "source": [
    "I've used the same example from above to show the difference between keyword and positional arguments.\n",
    "\n",
    "Here, instead of just the parameters, we've used a key-value for the parameters. Namely, <code>name=\"Rizwan\"</code> and <code>amt=50000.989</code>.\n",
    "\n",
    "Since, these parameters are referenced by their keys as <code>{name}<code> and <code>{amt:9.2f}</code>, they are known as keyword or named arguments.\n",
    "\n",
    "Internally,\n",
    "\n",
    "- The placeholder <code>{name}</code> is replaced by the value of name - \"Rizwan\". Since, it doesn't contain any other format codes, \"Rizwan\" is placed.\n",
    "- For the argument amt=50000.989, the placeholder <code>{amt:9.2f}</code> is replaced by the value 50000.989. But before replacing it, like previous example, it performs 9.2f operation on it.\n",
    "- This outputs  50000.99. The decimal part is truncated after 2 places and remaining digits are rounded off. Likewise, the total width is assigned 9 leaving one spaces to the left."
   ]
  },
  {
   "cell_type": "markdown",
   "metadata": {},
   "source": [
    "<b><u>Basic formatting with format()</u></b>"
   ]
  },
  {
   "cell_type": "markdown",
   "metadata": {},
   "source": [
    "The format() method allows the use of simple placeholders for formatting."
   ]
  },
  {
   "cell_type": "markdown",
   "metadata": {},
   "source": [
    "<b>Example 1: Basic formatting for default, positional and keyword arguments</b>"
   ]
  },
  {
   "cell_type": "code",
   "execution_count": 21,
   "metadata": {},
   "outputs": [
    {
     "name": "stdout",
     "output_type": "stream",
     "text": [
      "Hi Rizwan, your current amount is 50000.989.\n"
     ]
    }
   ],
   "source": [
    "# default arguments\n",
    "print(\"Hi {}, your current amount is {}.\".format(\"Rizwan\", 50000.989))"
   ]
  },
  {
   "cell_type": "code",
   "execution_count": 22,
   "metadata": {},
   "outputs": [
    {
     "name": "stdout",
     "output_type": "stream",
     "text": [
      "Hi Rizwan, your current amount is 50000.989.\n"
     ]
    }
   ],
   "source": [
    "# positional arguments\n",
    "print(\"Hi {0}, your current amount is {1}.\".format(\"Rizwan\", 50000.989))"
   ]
  },
  {
   "cell_type": "code",
   "execution_count": 23,
   "metadata": {},
   "outputs": [
    {
     "name": "stdout",
     "output_type": "stream",
     "text": [
      "Hi Rizwan, your current amount is 50000.989.\n"
     ]
    }
   ],
   "source": [
    "# keyword arguments\n",
    "print(\"Hi {name}, your current amount is {amt}.\".format(name=\"Rizwan\", amt=50000.989))"
   ]
  },
  {
   "cell_type": "code",
   "execution_count": 24,
   "metadata": {},
   "outputs": [
    {
     "name": "stdout",
     "output_type": "stream",
     "text": [
      "Hi Rizwan, your current amount is 50000.989.\n"
     ]
    }
   ],
   "source": [
    "# mixed arguments\n",
    "print(\"Hi {0}, your current amount is {amt}.\".format(\"Rizwan\", amt=50000.989))"
   ]
  },
  {
   "cell_type": "markdown",
   "metadata": {},
   "source": [
    "<b>Note</b>: In case of mixed arguments, keyword arguments has to always follow positional arguments."
   ]
  },
  {
   "cell_type": "code",
   "execution_count": null,
   "metadata": {},
   "outputs": [],
   "source": []
  },
  {
   "cell_type": "markdown",
   "metadata": {},
   "source": [
    "<b>Numbers formatting with format()</b>"
   ]
  },
  {
   "cell_type": "markdown",
   "metadata": {},
   "source": [
    "You can format numbers using the format specifier given below:"
   ]
  },
  {
   "cell_type": "markdown",
   "metadata": {},
   "source": [
    "<code>Type - Meaning\n",
    "d - Decimal integer\n",
    "c - Corresponding Unicode character\n",
    "b - Binary format\n",
    "o - Octal format\n",
    "x - Hexadecimal format (lower case)\n",
    "X - Hexadecimal format (upper case)\n",
    "n - Same as 'd'. Except it uses current locale setting for number separator\n",
    "e - Exponential notation. (lowercase e)\n",
    "E - Exponential notation (uppercase E)\n",
    "f - Displays fixed point number (Default: 6)\n",
    "F - Same as 'f'. Except displays 'inf' as 'INF' and 'nan' as 'NAN'\n",
    "g - General format. Rounds number to p significant digits. (Default precision: 6)\n",
    "G - Same as 'g'. Except switches to 'E' if the number is large.\n",
    "% - Percentage. Multiples by 100 and puts % at the end.</code>"
   ]
  },
  {
   "cell_type": "markdown",
   "metadata": {},
   "source": [
    "<b>Example 2: Simple number formatting</b>"
   ]
  },
  {
   "cell_type": "code",
   "execution_count": 25,
   "metadata": {},
   "outputs": [
    {
     "name": "stdout",
     "output_type": "stream",
     "text": [
      "The number is - 123\n"
     ]
    }
   ],
   "source": [
    "# integer arguments\n",
    "print(\"The number is - {0:d}\".format(123))"
   ]
  },
  {
   "cell_type": "code",
   "execution_count": 26,
   "metadata": {},
   "outputs": [
    {
     "name": "stdout",
     "output_type": "stream",
     "text": [
      "The float number is - 123.456790\n"
     ]
    }
   ],
   "source": [
    "# float arguments\n",
    "print(\"The float number is - {0:f}\".format(123.4567898))"
   ]
  },
  {
   "cell_type": "code",
   "execution_count": 27,
   "metadata": {},
   "outputs": [
    {
     "name": "stdout",
     "output_type": "stream",
     "text": [
      "bin - 1111, oct - 17, hex - F\n"
     ]
    }
   ],
   "source": [
    "# octal, binary and hexadecimal format\n",
    "print(\"bin - {0:b}, oct - {0:o}, hex - {0:X}\".format(15))"
   ]
  },
  {
   "cell_type": "code",
   "execution_count": null,
   "metadata": {},
   "outputs": [],
   "source": []
  },
  {
   "cell_type": "markdown",
   "metadata": {},
   "source": [
    "<b>Example 3: Number formatting with padding for int and floats</b>"
   ]
  },
  {
   "cell_type": "code",
   "execution_count": 28,
   "metadata": {},
   "outputs": [
    {
     "name": "stdout",
     "output_type": "stream",
     "text": [
      "   12\n"
     ]
    }
   ],
   "source": [
    "# integer numbers with minimum width\n",
    "print(\"{0:5d}\".format(12))"
   ]
  },
  {
   "cell_type": "code",
   "execution_count": 29,
   "metadata": {},
   "outputs": [
    {
     "name": "stdout",
     "output_type": "stream",
     "text": [
      "1234\n"
     ]
    }
   ],
   "source": [
    "# width doesn't work for numbers longer than padding\n",
    "print(\"{:2d}\".format(1234))"
   ]
  },
  {
   "cell_type": "code",
   "execution_count": 30,
   "metadata": {},
   "outputs": [
    {
     "name": "stdout",
     "output_type": "stream",
     "text": [
      "  12.235\n"
     ]
    }
   ],
   "source": [
    "# padding for float numbers\n",
    "print(\"{:8.3f}\".format(12.2346))"
   ]
  },
  {
   "cell_type": "code",
   "execution_count": 31,
   "metadata": {},
   "outputs": [
    {
     "name": "stdout",
     "output_type": "stream",
     "text": [
      "00012\n"
     ]
    }
   ],
   "source": [
    "# integer numbers with minimum width filled with zeros\n",
    "print(\"{:05d}\".format(12))"
   ]
  },
  {
   "cell_type": "code",
   "execution_count": 32,
   "metadata": {},
   "outputs": [
    {
     "name": "stdout",
     "output_type": "stream",
     "text": [
      "0012.235\n"
     ]
    }
   ],
   "source": [
    "# padding for float numbers filled with zeros\n",
    "print(\"{:08.3f}\".format(12.2346))"
   ]
  },
  {
   "cell_type": "markdown",
   "metadata": {},
   "source": [
    "Here,\n",
    "\n",
    "- In the first statement, {0:5d} takes an integer argument and assigns a minimum width of 5. Since, no alignment is specified, it is aligned to the right.\n",
    "- In the second statement, you can see the width (2) is less than the number (1234), so it doesn't take any space to the left but also doesn't truncate the number.\n",
    "- Unlike integers, floats has both integer and decimal parts. And, the mininum width defined to the number is for both parts as a whole including \".\".\n",
    "- In the third statement, {:8.3f} truncates the decimal part into 3 places rounding off the last 2 digits. And, the number, now 12.235, takes a width of 8 as a whole leaving 2 places to the left.\n",
    "- If you want to fill the remaining places with zero, placing a zero before the format specifier does this. It works both for integers and floats: {:05d} and {:08.3f}."
   ]
  },
  {
   "cell_type": "code",
   "execution_count": null,
   "metadata": {},
   "outputs": [],
   "source": []
  },
  {
   "cell_type": "markdown",
   "metadata": {},
   "source": [
    "<b>Number formatting with alignment</b>"
   ]
  },
  {
   "cell_type": "markdown",
   "metadata": {},
   "source": [
    "The operators <, ^, > and = are used for alignment when assigned a certain width to the numbers."
   ]
  },
  {
   "cell_type": "markdown",
   "metadata": {},
   "source": [
    "<  Left aligned to the remaining space\n",
    "\n",
    "^  Center aligned to the remaining space\n",
    "\n",
    "<code>></code> Right aligned to the remaining space\n",
    "\n",
    "=  Forces the signed (+) (-) to the leftmost position"
   ]
  },
  {
   "cell_type": "markdown",
   "metadata": {},
   "source": [
    "<b>Example 4: Number formatting with left, right and center alignment</b>"
   ]
  },
  {
   "cell_type": "code",
   "execution_count": 33,
   "metadata": {},
   "outputs": [
    {
     "name": "stdout",
     "output_type": "stream",
     "text": [
      "   12\n"
     ]
    }
   ],
   "source": [
    "# integer numbers with right alignment\n",
    "print(\"{:5d}\".format(12))"
   ]
  },
  {
   "cell_type": "code",
   "execution_count": 34,
   "metadata": {},
   "outputs": [
    {
     "name": "stdout",
     "output_type": "stream",
     "text": [
      "**12.235**\n"
     ]
    }
   ],
   "source": [
    "# float numbers with center alignment\n",
    "print(\"{:*^10.3f}\".format(12.2346))"
   ]
  },
  {
   "cell_type": "code",
   "execution_count": null,
   "metadata": {},
   "outputs": [],
   "source": []
  },
  {
   "cell_type": "markdown",
   "metadata": {},
   "source": [
    "<b>Example 5: String formatting with padding and alignment</b>"
   ]
  },
  {
   "cell_type": "code",
   "execution_count": 35,
   "metadata": {},
   "outputs": [
    {
     "name": "stdout",
     "output_type": "stream",
     "text": [
      "python  \n"
     ]
    }
   ],
   "source": [
    "# string padding with left alignment\n",
    "print(\"{:8}\".format(\"python\"))"
   ]
  },
  {
   "cell_type": "code",
   "execution_count": 36,
   "metadata": {},
   "outputs": [
    {
     "name": "stdout",
     "output_type": "stream",
     "text": [
      "  python\n"
     ]
    }
   ],
   "source": [
    "# string padding with right alignment\n",
    "print(\"{:>8}\".format(\"python\"))"
   ]
  },
  {
   "cell_type": "code",
   "execution_count": 37,
   "metadata": {},
   "outputs": [
    {
     "name": "stdout",
     "output_type": "stream",
     "text": [
      " python \n"
     ]
    }
   ],
   "source": [
    "# string padding with center alignment\n",
    "print(\"{:^8}\".format(\"python\"))"
   ]
  },
  {
   "cell_type": "code",
   "execution_count": 38,
   "metadata": {},
   "outputs": [
    {
     "name": "stdout",
     "output_type": "stream",
     "text": [
      "*python*\n"
     ]
    }
   ],
   "source": [
    "# string padding with center alignment\n",
    "# and '*' padding character\n",
    "print(\"{:*^8}\".format(\"python\"))"
   ]
  },
  {
   "cell_type": "code",
   "execution_count": null,
   "metadata": {},
   "outputs": [],
   "source": []
  },
  {
   "cell_type": "markdown",
   "metadata": {},
   "source": [
    "#### Python String Formatting"
   ]
  },
  {
   "cell_type": "markdown",
   "metadata": {},
   "source": [
    "- 'Old Style' String Concatenation (+ Operator)\n",
    "- 'Old Style' String Formatting (% Operator)\n",
    "- <b>'New Style' String Formatting (str.format)</b>\n",
    "- <b>String Interpolation / f-Strings (Python 3.6+)</b>\n",
    "- Template Strings (Standard Library)"
   ]
  },
  {
   "cell_type": "code",
   "execution_count": null,
   "metadata": {},
   "outputs": [],
   "source": []
  },
  {
   "cell_type": "markdown",
   "metadata": {},
   "source": [
    "<u>'Old Style' String Concatenation (+ Operator)</u>"
   ]
  },
  {
   "cell_type": "code",
   "execution_count": 39,
   "metadata": {},
   "outputs": [],
   "source": [
    "name = \"ahamd\"\n",
    "cgpa = 3.9"
   ]
  },
  {
   "cell_type": "code",
   "execution_count": 40,
   "metadata": {},
   "outputs": [
    {
     "data": {
      "text/plain": [
       "'ahamd3.9'"
      ]
     },
     "execution_count": 40,
     "metadata": {},
     "output_type": "execute_result"
    }
   ],
   "source": [
    "name + str(cgpa)"
   ]
  },
  {
   "cell_type": "code",
   "execution_count": 41,
   "metadata": {},
   "outputs": [
    {
     "data": {
      "text/plain": [
       "'ahamd 3.9'"
      ]
     },
     "execution_count": 41,
     "metadata": {},
     "output_type": "execute_result"
    }
   ],
   "source": [
    "name + \" \" + str(cgpa)"
   ]
  },
  {
   "cell_type": "code",
   "execution_count": 42,
   "metadata": {},
   "outputs": [
    {
     "name": "stdout",
     "output_type": "stream",
     "text": [
      "My Info - Name : ahamd, CGPA : 3.9\n"
     ]
    }
   ],
   "source": [
    "print('My Info - Name : ' + name + ', CGPA : ' + str(cgpa))"
   ]
  },
  {
   "cell_type": "code",
   "execution_count": null,
   "metadata": {},
   "outputs": [],
   "source": []
  },
  {
   "cell_type": "markdown",
   "metadata": {},
   "source": [
    "<u>'Old Style' String Formatting (% Operator)</u>"
   ]
  },
  {
   "cell_type": "markdown",
   "metadata": {},
   "source": [
    "https://docs.python.org/3/library/stdtypes.html#old-string-formatting"
   ]
  },
  {
   "cell_type": "code",
   "execution_count": null,
   "metadata": {},
   "outputs": [],
   "source": []
  },
  {
   "cell_type": "markdown",
   "metadata": {},
   "source": [
    "<u><b>'New Style' String Formatting (str.format)</b></u>"
   ]
  },
  {
   "cell_type": "code",
   "execution_count": 43,
   "metadata": {},
   "outputs": [
    {
     "name": "stdout",
     "output_type": "stream",
     "text": [
      "My Info - Name : 3.9, CGPA : ahamd\n"
     ]
    }
   ],
   "source": [
    "print('My Info - Name : {}, CGPA : {}'.format(cgpa, name))"
   ]
  },
  {
   "cell_type": "code",
   "execution_count": 44,
   "metadata": {},
   "outputs": [
    {
     "name": "stdout",
     "output_type": "stream",
     "text": [
      "My Info - Name : ahamd, CGPA : 3.9\n"
     ]
    }
   ],
   "source": [
    "print('My Info - Name : {1}, CGPA : {0}'.format(cgpa, name))"
   ]
  },
  {
   "cell_type": "code",
   "execution_count": 45,
   "metadata": {},
   "outputs": [
    {
     "name": "stdout",
     "output_type": "stream",
     "text": [
      "My Info - Name : ahmad, CGPA : 3.9\n"
     ]
    }
   ],
   "source": [
    "print('My Info - Name : {name}, CGPA : {cgpa}'.format(cgpa=3.9, name='ahmad'))"
   ]
  },
  {
   "cell_type": "code",
   "execution_count": null,
   "metadata": {},
   "outputs": [],
   "source": []
  },
  {
   "cell_type": "markdown",
   "metadata": {},
   "source": [
    "<u><b>String Interpolation / f-Strings (Python 3.6+)</u></b>"
   ]
  },
  {
   "cell_type": "code",
   "execution_count": 46,
   "metadata": {},
   "outputs": [
    {
     "name": "stdout",
     "output_type": "stream",
     "text": [
      "My Info - Name : ahamd, CGPA : 3.9\n"
     ]
    }
   ],
   "source": [
    "print(f'My Info - Name : {name}, CGPA : {cgpa}')"
   ]
  },
  {
   "cell_type": "code",
   "execution_count": null,
   "metadata": {},
   "outputs": [],
   "source": []
  },
  {
   "cell_type": "markdown",
   "metadata": {},
   "source": [
    "(f-string) \n",
    "\n",
    "PEP 3101, PEP 498, PEP 501"
   ]
  },
  {
   "cell_type": "code",
   "execution_count": null,
   "metadata": {},
   "outputs": [],
   "source": []
  },
  {
   "cell_type": "markdown",
   "metadata": {},
   "source": [
    "#### Happy Learning 😊"
   ]
  }
 ],
 "metadata": {
  "kernelspec": {
   "display_name": "Python 3",
   "language": "python",
   "name": "python3"
  },
  "language_info": {
   "codemirror_mode": {
    "name": "ipython",
    "version": 3
   },
   "file_extension": ".py",
   "mimetype": "text/x-python",
   "name": "python",
   "nbconvert_exporter": "python",
   "pygments_lexer": "ipython3",
   "version": "3.7.4"
  }
 },
 "nbformat": 4,
 "nbformat_minor": 4
}
