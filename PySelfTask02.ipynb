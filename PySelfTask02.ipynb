{
 "cells": [
  {
   "cell_type": "markdown",
   "metadata": {},
   "source": [
    "## Python Self Task 2 - AP & AI\n",
    "<hr>"
   ]
  },
  {
   "cell_type": "markdown",
   "metadata": {},
   "source": [
    "<b>Problem Definition:</b>\n",
    "\n",
    "    Aim: Sorting Techniques (Selection Sort, Bubble Sort, Insertion Sort)\n",
    "    Problem Feature: Ascending and Descending order \n",
    "    Variables: Integer or float Array/List \n",
    "    Input and Output: \n",
    "        User-Input: Inputs 5 Student GPA and stores them in an Array or List \n",
    "        Expected-Output:\n",
    "        - Display GPA in actual order \n",
    "        - Display GPA in ascending or descending order"
   ]
  },
  {
   "cell_type": "markdown",
   "metadata": {},
   "source": [
    "<b>Py-Self-Task2 Covered the following Python Concepts:</b>\n",
    "\n",
    "    - Python Variables \n",
    "    - Python Data Types\n",
    "    - Python Built-in Functions \n",
    "    - Python Input and Output Functions\n",
    "    - Python Operators \n",
    "    - Complete Python String Manipulation\n",
    "    - Python User-Defined Functions \n",
    "    - Python Modules (.py, .ipynb)\n",
    "    - Python Conditional Statements (if, elif, else)\n",
    "    - Python Loops (while, for)\n",
    "    - Python Lists "
   ]
  },
  {
   "cell_type": "markdown",
   "metadata": {},
   "source": [
    "<b>Py-Self-Task2 Covered the following Lectures:</b>\n",
    "\n",
    "    PyLecture 1 to PyLecture 14 (Total Practical Lectures)"
   ]
  },
  {
   "cell_type": "markdown",
   "metadata": {},
   "source": [
    "<b>Py-Self-Task2 Solutions:</b>\n",
    "\n",
    "    - Solution 1: Sorting using List or Array Python Built-in Function \n",
    "    - Solution 2: Sorting using List Built-in Method \n",
    "    - Solution 3: Sorting using List Built-in Method and User-defined function\n",
    "                Input: info = [['Ahmad', 3.8], ['Rizwan', 3.68], ['Bilal', 3.9], ['Khalil', 3.7]]\n",
    "                Output: sorts the list with nested second element \n",
    "    - Solution 4: Sorting using Selection sort \n",
    "    - Solution 5: Sorting using Bubble sort\n",
    "    - Solution 6: Sorting using Insertion sort\n",
    "    - Solution 7: Bubble sort using User-defined function\n",
    "    - Solution 8: Using Modules \n",
    "        - example:\n",
    "            - from sorting_tech import selection_sort, bubble_sort, insertion_sort\n",
    "            - selection_sort(gpa)\n",
    "            - bubble_sort(gpa)\n",
    "            - insertion_sort(gpa)"
   ]
  },
  {
   "cell_type": "markdown",
   "metadata": {},
   "source": [
    "<b>Py-Self-Task2 Solutions restrictions:</b>\n",
    "    \n",
    "    - Inputs 5 Student GPA and stores them in an Array or List (using while loop)\n",
    "    - Solution 1 to Solution 3:\n",
    "      Sorting in ascending and descending order (permanent)\n",
    "    - Solution 4 to Solution 6:\n",
    "      Sorting using (Nested while loops, Nested for loops)\n",
    "    - Solution 7 and 8:\n",
    "      Accept parameter and return output\n",
    "    - Comparison of sorting techniques (Selection, Bubble, Insertion)"
   ]
  },
  {
   "cell_type": "code",
   "execution_count": null,
   "metadata": {},
   "outputs": [],
   "source": []
  },
  {
   "cell_type": "markdown",
   "metadata": {},
   "source": [
    "<b>Extra Info</b>\n",
    "\n",
    "    String - Immutable (fixed or unchanged) \n",
    "    List   - Mutable   (not-fixed or changeable)\n",
    "    Array  - Mutable   (not-fixed or changeable)"
   ]
  },
  {
   "cell_type": "code",
   "execution_count": 1,
   "metadata": {},
   "outputs": [],
   "source": [
    "# help(str)\n",
    "# help(list)"
   ]
  },
  {
   "cell_type": "code",
   "execution_count": 2,
   "metadata": {},
   "outputs": [],
   "source": [
    "from array import array"
   ]
  },
  {
   "cell_type": "code",
   "execution_count": 3,
   "metadata": {},
   "outputs": [],
   "source": [
    "# help(array)"
   ]
  },
  {
   "cell_type": "code",
   "execution_count": 4,
   "metadata": {},
   "outputs": [],
   "source": [
    "arr1 = array('i', [2, 6, 4, 8])"
   ]
  },
  {
   "cell_type": "code",
   "execution_count": 5,
   "metadata": {},
   "outputs": [
    {
     "data": {
      "text/plain": [
       "array('i', [2, 6, 4, 8])"
      ]
     },
     "execution_count": 5,
     "metadata": {},
     "output_type": "execute_result"
    }
   ],
   "source": [
    "arr1"
   ]
  },
  {
   "cell_type": "code",
   "execution_count": 6,
   "metadata": {},
   "outputs": [
    {
     "data": {
      "text/plain": [
       "array('i', [8, 4, 6, 2])"
      ]
     },
     "execution_count": 6,
     "metadata": {},
     "output_type": "execute_result"
    }
   ],
   "source": [
    "arr1[::-1]"
   ]
  },
  {
   "cell_type": "code",
   "execution_count": 7,
   "metadata": {},
   "outputs": [
    {
     "name": "stdout",
     "output_type": "stream",
     "text": [
      "8 4 6 2 "
     ]
    }
   ],
   "source": [
    "for value in arr1[::-1]:\n",
    "    print(value, end=' ')"
   ]
  },
  {
   "cell_type": "code",
   "execution_count": 8,
   "metadata": {},
   "outputs": [
    {
     "name": "stdout",
     "output_type": "stream",
     "text": [
      "8 4 6 2 "
     ]
    }
   ],
   "source": [
    "i = len(arr1)-1\n",
    "while i >= 0:\n",
    "    print(arr1[i], end=' ')\n",
    "    i -= 1"
   ]
  },
  {
   "cell_type": "code",
   "execution_count": 9,
   "metadata": {},
   "outputs": [
    {
     "name": "stdout",
     "output_type": "stream",
     "text": [
      "8 4 6 2 "
     ]
    }
   ],
   "source": [
    "for i in range(len(arr1)-1, -1, -1):\n",
    "    print(arr1[i], end=' ')"
   ]
  },
  {
   "cell_type": "code",
   "execution_count": 10,
   "metadata": {},
   "outputs": [
    {
     "data": {
      "text/plain": [
       "array('i', [2, 6, 4, 8])"
      ]
     },
     "execution_count": 10,
     "metadata": {},
     "output_type": "execute_result"
    }
   ],
   "source": [
    "arr1"
   ]
  },
  {
   "cell_type": "code",
   "execution_count": 11,
   "metadata": {},
   "outputs": [],
   "source": [
    "arr1.append(10)"
   ]
  },
  {
   "cell_type": "code",
   "execution_count": 12,
   "metadata": {},
   "outputs": [
    {
     "data": {
      "text/plain": [
       "array('i', [2, 6, 4, 8, 10])"
      ]
     },
     "execution_count": 12,
     "metadata": {},
     "output_type": "execute_result"
    }
   ],
   "source": [
    "arr1"
   ]
  },
  {
   "cell_type": "code",
   "execution_count": null,
   "metadata": {},
   "outputs": [],
   "source": []
  },
  {
   "cell_type": "markdown",
   "metadata": {},
   "source": [
    "<b>Py-Self-Task2 Marks</b>\n",
    "    \n",
    "    - 30 Marks"
   ]
  },
  {
   "cell_type": "code",
   "execution_count": null,
   "metadata": {},
   "outputs": [],
   "source": []
  },
  {
   "cell_type": "markdown",
   "metadata": {},
   "source": [
    "#### Happy Learning 😊"
   ]
  }
 ],
 "metadata": {
  "kernelspec": {
   "display_name": "Python 3",
   "language": "python",
   "name": "python3"
  },
  "language_info": {
   "codemirror_mode": {
    "name": "ipython",
    "version": 3
   },
   "file_extension": ".py",
   "mimetype": "text/x-python",
   "name": "python",
   "nbconvert_exporter": "python",
   "pygments_lexer": "ipython3",
   "version": "3.7.4"
  }
 },
 "nbformat": 4,
 "nbformat_minor": 4
}
